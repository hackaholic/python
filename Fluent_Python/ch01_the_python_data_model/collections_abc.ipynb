{
 "cells": [
  {
   "cell_type": "markdown",
   "id": "b68737e3",
   "metadata": {},
   "source": [
    "### collections.abc\n",
    "\n",
    "The collections.abc module defines abstract base classes (ABCs) for containers (like lists, sets, dicts, etc.) "
   ]
  },
  {
   "cell_type": "code",
   "execution_count": 2,
   "id": "fa325652",
   "metadata": {},
   "outputs": [],
   "source": [
    "import collections.abc as abc"
   ]
  },
  {
   "cell_type": "code",
   "execution_count": 4,
   "id": "94ba7f8e",
   "metadata": {},
   "outputs": [
    {
     "data": {
      "text/plain": [
       "True"
      ]
     },
     "execution_count": 4,
     "metadata": {},
     "output_type": "execute_result"
    }
   ],
   "source": [
    "isinstance([1,2,3], abc.Sequence)"
   ]
  },
  {
   "cell_type": "code",
   "execution_count": 29,
   "id": "abc6631b",
   "metadata": {},
   "outputs": [
    {
     "ename": "TypeError",
     "evalue": "issubclass() arg 1 must be a class",
     "output_type": "error",
     "traceback": [
      "\u001b[0;31m---------------------------------------------------------------------------\u001b[0m",
      "\u001b[0;31mTypeError\u001b[0m                                 Traceback (most recent call last)",
      "Cell \u001b[0;32mIn[29], line 1\u001b[0m\n\u001b[0;32m----> 1\u001b[0m \u001b[38;5;28;43missubclass\u001b[39;49m\u001b[43m(\u001b[49m\u001b[43m(\u001b[49m\u001b[38;5;241;43m1\u001b[39;49m\u001b[43m,\u001b[49m\u001b[38;5;241;43m2\u001b[39;49m\u001b[43m,\u001b[49m\u001b[38;5;241;43m3\u001b[39;49m\u001b[43m)\u001b[49m\u001b[43m,\u001b[49m\u001b[43m \u001b[49m\u001b[38;5;28;43mtuple\u001b[39;49m\u001b[43m)\u001b[49m\n",
      "\u001b[0;31mTypeError\u001b[0m: issubclass() arg 1 must be a class"
     ]
    }
   ],
   "source": [
    "issubclass((1,2,3), tuple)"
   ]
  },
  {
   "cell_type": "markdown",
   "id": "df9d6874",
   "metadata": {},
   "source": [
    "### Iterable\n",
    "<pre>\n",
    "An object isn't iterable unless it provides __iter__. And for an object to be a valid iterator, it must provide __next__. </pre>"
   ]
  },
  {
   "cell_type": "code",
   "execution_count": 17,
   "id": "22bd3445",
   "metadata": {},
   "outputs": [
    {
     "data": {
      "text/plain": [
       "(True, False)"
      ]
     },
     "execution_count": 17,
     "metadata": {},
     "output_type": "execute_result"
    }
   ],
   "source": [
    "# Means the object supports iteration via __iter__.\n",
    "class MyIterable:\n",
    "    def __iter__(self):\n",
    "        yield from range(3)\n",
    "\n",
    "it = MyIterable()\n",
    "\n",
    "isinstance(it, abc.Iterable), isinstance(it, abc.Iterator)"
   ]
  },
  {
   "cell_type": "code",
   "execution_count": 21,
   "id": "74908c6e",
   "metadata": {},
   "outputs": [
    {
     "name": "stdout",
     "output_type": "stream",
     "text": [
      "0\n",
      "1\n",
      "2\n"
     ]
    }
   ],
   "source": [
    "for x in it:\n",
    "    print(x)"
   ]
  },
  {
   "cell_type": "markdown",
   "id": "0c16e26c",
   "metadata": {},
   "source": [
    "### Iterator"
   ]
  },
  {
   "cell_type": "code",
   "execution_count": 22,
   "id": "a1cee843",
   "metadata": {},
   "outputs": [
    {
     "data": {
      "text/plain": [
       "(True, True)"
      ]
     },
     "execution_count": 22,
     "metadata": {},
     "output_type": "execute_result"
    }
   ],
   "source": [
    "# An Iterator is an Iterable with __next__.\n",
    "class MyIterable:\n",
    "    def __iter__(self):\n",
    "        self.data = 1\n",
    "        return self\n",
    "    \n",
    "    def __next__(self):\n",
    "        x = self.data\n",
    "        if x < 10:\n",
    "            self.data  += 1\n",
    "            return x\n",
    "        else: raise StopIteration\n",
    "            \n",
    "it = MyIterable()\n",
    "\n",
    "isinstance(it, abc.Iterable), isinstance(it, abc.Iterator)"
   ]
  },
  {
   "cell_type": "markdown",
   "id": "bd25068d",
   "metadata": {},
   "source": [
    "### Generator"
   ]
  },
  {
   "cell_type": "code",
   "execution_count": 24,
   "id": "1b9a9ff1",
   "metadata": {},
   "outputs": [
    {
     "data": {
      "text/plain": [
       "True"
      ]
     },
     "execution_count": 24,
     "metadata": {},
     "output_type": "execute_result"
    }
   ],
   "source": [
    "def myGen():\n",
    "    yield 1\n",
    "\n",
    "isinstance(myGen(), abc.Generator)"
   ]
  },
  {
   "cell_type": "markdown",
   "id": "03e66a90",
   "metadata": {},
   "source": [
    "### Sized, Container, Collection\n",
    "\n",
    "    Sized → has __len__\n",
    "    Container → has __contains__\n",
    "    Collection = Iterable + Sized + Container"
   ]
  },
  {
   "cell_type": "code",
   "execution_count": 46,
   "id": "1d85d158",
   "metadata": {},
   "outputs": [],
   "source": [
    "class MyData(abc.Collection):\n",
    "    def __iter__(self): return iter([1,2])\n",
    "    def __contains__(self, x):\n",
    "        return x in [1,2]\n",
    "    def __len__(self): return 2"
   ]
  },
  {
   "cell_type": "code",
   "execution_count": 41,
   "id": "cffd3f6c",
   "metadata": {},
   "outputs": [
    {
     "data": {
      "text/plain": [
       "(True, True, True)"
      ]
     },
     "execution_count": 41,
     "metadata": {},
     "output_type": "execute_result"
    }
   ],
   "source": [
    "\n",
    "isinstance(MyData(), abc.Sized), isinstance(MyData(), abc.Iterable),  isinstance(MyData(), abc.Container)"
   ]
  },
  {
   "cell_type": "code",
   "execution_count": 48,
   "id": "fe663e3b",
   "metadata": {},
   "outputs": [
    {
     "data": {
      "text/plain": [
       "False"
      ]
     },
     "execution_count": 48,
     "metadata": {},
     "output_type": "execute_result"
    }
   ],
   "source": [
    "isinstance(MyData(), abc.Iterator)"
   ]
  },
  {
   "cell_type": "markdown",
   "id": "85e872e4",
   "metadata": {},
   "source": [
    "#### Sequence"
   ]
  },
  {
   "cell_type": "code",
   "execution_count": 52,
   "id": "275617dc",
   "metadata": {},
   "outputs": [],
   "source": [
    "class MySeq(abc.Sequence):\n",
    "    def __getitem__(self, index) -> int: return index*2\n",
    "    def __len__(self): return 10"
   ]
  },
  {
   "cell_type": "code",
   "execution_count": 55,
   "id": "aca1c019",
   "metadata": {},
   "outputs": [
    {
     "data": {
      "text/plain": [
       "True"
      ]
     },
     "execution_count": 55,
     "metadata": {},
     "output_type": "execute_result"
    }
   ],
   "source": [
    "isinstance(MySeq(), abc.Sequence)"
   ]
  },
  {
   "cell_type": "code",
   "execution_count": 56,
   "id": "972db93d",
   "metadata": {},
   "outputs": [],
   "source": [
    "class MutableSequence(abc.MutableSequence):\n",
    "    pass"
   ]
  },
  {
   "cell_type": "code",
   "execution_count": 58,
   "id": "2464986b",
   "metadata": {},
   "outputs": [
    {
     "ename": "TypeError",
     "evalue": "Can't instantiate abstract class MutableSequence with abstract methods __delitem__, __getitem__, __len__, __setitem__, insert",
     "output_type": "error",
     "traceback": [
      "\u001b[0;31m---------------------------------------------------------------------------\u001b[0m",
      "\u001b[0;31mTypeError\u001b[0m                                 Traceback (most recent call last)",
      "Cell \u001b[0;32mIn[58], line 1\u001b[0m\n\u001b[0;32m----> 1\u001b[0m \u001b[43mMutableSequence\u001b[49m\u001b[43m(\u001b[49m\u001b[43m)\u001b[49m\n",
      "\u001b[0;31mTypeError\u001b[0m: Can't instantiate abstract class MutableSequence with abstract methods __delitem__, __getitem__, __len__, __setitem__, insert"
     ]
    }
   ],
   "source": [
    "MutableSequence()"
   ]
  },
  {
   "cell_type": "code",
   "execution_count": 61,
   "id": "f0640528",
   "metadata": {},
   "outputs": [],
   "source": [
    "class MutableSequence(abc.MutableSequence):\n",
    "    def __init__(self, data = None):\n",
    "        self._data = list(data) if data else []\n",
    "    def __len__(self): return len(self._data)\n",
    "    def __getitem__(self, pos): return self._data[pos]\n",
    "    def __setitem__(self, pos, value): self._data[pos] = value\n",
    "    def __delitem__(self, x): self._data.remove(x)\n",
    "    def insert(self, pos, value):\n",
    "        self._data.insert(pos, value)"
   ]
  },
  {
   "cell_type": "code",
   "execution_count": 63,
   "id": "8c2fd038",
   "metadata": {},
   "outputs": [
    {
     "data": {
      "text/plain": [
       "2"
      ]
     },
     "execution_count": 63,
     "metadata": {},
     "output_type": "execute_result"
    }
   ],
   "source": [
    "my_seq = MutableSequence([1, 2, 3])\n",
    "my_seq[1]"
   ]
  },
  {
   "cell_type": "markdown",
   "id": "4a51af0d",
   "metadata": {},
   "source": [
    "### Set ABCs"
   ]
  },
  {
   "cell_type": "code",
   "execution_count": 66,
   "id": "f875423d",
   "metadata": {},
   "outputs": [
    {
     "ename": "TypeError",
     "evalue": "Can't instantiate abstract class MySet with abstract methods __contains__, __iter__, __len__",
     "output_type": "error",
     "traceback": [
      "\u001b[0;31m---------------------------------------------------------------------------\u001b[0m",
      "\u001b[0;31mTypeError\u001b[0m                                 Traceback (most recent call last)",
      "Cell \u001b[0;32mIn[66], line 4\u001b[0m\n\u001b[1;32m      1\u001b[0m \u001b[38;5;28;01mclass\u001b[39;00m\u001b[38;5;250m \u001b[39m\u001b[38;5;21;01mMySet\u001b[39;00m(abc\u001b[38;5;241m.\u001b[39mSet):\n\u001b[1;32m      2\u001b[0m     \u001b[38;5;28;01mpass\u001b[39;00m\n\u001b[0;32m----> 4\u001b[0m myset \u001b[38;5;241m=\u001b[39m \u001b[43mMySet\u001b[49m\u001b[43m(\u001b[49m\u001b[43m)\u001b[49m\n",
      "\u001b[0;31mTypeError\u001b[0m: Can't instantiate abstract class MySet with abstract methods __contains__, __iter__, __len__"
     ]
    }
   ],
   "source": [
    "class MySet(abc.Set):\n",
    "    pass\n",
    "\n",
    "myset = MySet()"
   ]
  },
  {
   "cell_type": "code",
   "execution_count": 67,
   "id": "6a85316e",
   "metadata": {},
   "outputs": [],
   "source": [
    "class MySet(abc.Set):\n",
    "    def __iter__(self): return self\n",
    "    def __contains__(self, x):\n",
    "        return super().__contains__(x)\n",
    "    def __len__(self): return 5"
   ]
  },
  {
   "cell_type": "code",
   "execution_count": 69,
   "id": "f0b2abb1",
   "metadata": {},
   "outputs": [
    {
     "data": {
      "text/plain": [
       "True"
      ]
     },
     "execution_count": 69,
     "metadata": {},
     "output_type": "execute_result"
    }
   ],
   "source": [
    "isinstance(MySet(), abc.Set)"
   ]
  },
  {
   "cell_type": "markdown",
   "id": "db01f556",
   "metadata": {},
   "source": [
    "### Mapping ABCs"
   ]
  },
  {
   "cell_type": "code",
   "execution_count": 70,
   "id": "1e655646",
   "metadata": {},
   "outputs": [
    {
     "ename": "TypeError",
     "evalue": "Can't instantiate abstract class MyMapping with abstract methods __getitem__, __iter__, __len__",
     "output_type": "error",
     "traceback": [
      "\u001b[0;31m---------------------------------------------------------------------------\u001b[0m",
      "\u001b[0;31mTypeError\u001b[0m                                 Traceback (most recent call last)",
      "Cell \u001b[0;32mIn[70], line 4\u001b[0m\n\u001b[1;32m      1\u001b[0m \u001b[38;5;28;01mclass\u001b[39;00m\u001b[38;5;250m \u001b[39m\u001b[38;5;21;01mMyMapping\u001b[39;00m(abc\u001b[38;5;241m.\u001b[39mMapping):\n\u001b[1;32m      2\u001b[0m     \u001b[38;5;28;01mpass\u001b[39;00m\n\u001b[0;32m----> 4\u001b[0m \u001b[43mMyMapping\u001b[49m\u001b[43m(\u001b[49m\u001b[43m)\u001b[49m\n",
      "\u001b[0;31mTypeError\u001b[0m: Can't instantiate abstract class MyMapping with abstract methods __getitem__, __iter__, __len__"
     ]
    }
   ],
   "source": [
    "class MyMapping(abc.Mapping):\n",
    "    pass\n",
    "\n",
    "MyMapping()"
   ]
  },
  {
   "cell_type": "code",
   "execution_count": 4,
   "id": "e459c6fc",
   "metadata": {},
   "outputs": [],
   "source": [
    "class MyMap(abc.Mapping):\n",
    "    def __getitem__(self, key): return key.upper()\n",
    "    def __iter__(self): return iter([1 ,2])\n",
    "    def __len__(self): return 10"
   ]
  },
  {
   "cell_type": "code",
   "execution_count": 8,
   "id": "e20e1cc2",
   "metadata": {},
   "outputs": [
    {
     "ename": "TypeError",
     "evalue": "Can't instantiate abstract class MutableMapping with abstract methods __delitem__, __getitem__, __iter__, __len__, __setitem__",
     "output_type": "error",
     "traceback": [
      "\u001b[0;31m---------------------------------------------------------------------------\u001b[0m",
      "\u001b[0;31mTypeError\u001b[0m                                 Traceback (most recent call last)",
      "Cell \u001b[0;32mIn[8], line 4\u001b[0m\n\u001b[1;32m      1\u001b[0m \u001b[38;5;28;01mclass\u001b[39;00m\u001b[38;5;250m \u001b[39m\u001b[38;5;21;01mMutableMapping\u001b[39;00m(abc\u001b[38;5;241m.\u001b[39mMutableMapping):\n\u001b[1;32m      2\u001b[0m     \u001b[38;5;28;01mpass\u001b[39;00m\n\u001b[0;32m----> 4\u001b[0m \u001b[43mMutableMapping\u001b[49m\u001b[43m(\u001b[49m\u001b[43m)\u001b[49m\n",
      "\u001b[0;31mTypeError\u001b[0m: Can't instantiate abstract class MutableMapping with abstract methods __delitem__, __getitem__, __iter__, __len__, __setitem__"
     ]
    }
   ],
   "source": [
    "class MutableMapping(abc.MutableMapping):\n",
    "    pass\n",
    "\n",
    "MutableMapping()"
   ]
  },
  {
   "cell_type": "code",
   "execution_count": 15,
   "id": "bfdca4e8",
   "metadata": {},
   "outputs": [],
   "source": [
    "class MutableMapping(abc.MutableMapping):\n",
    "    def __init__(self, data = None):\n",
    "        self._data =  data if data else {}\n",
    "    \n",
    "    def __iter__(self):\n",
    "        return self\n",
    "    \n",
    "    def __setitem__(self, key, value):\n",
    "        if key and value:\n",
    "            if isinstance(key, str):\n",
    "                self._data[key] = value\n",
    "            else:\n",
    "                raise ValueError(\" key must be string\")\n",
    "    \n",
    "    def __getitem__(self, key):\n",
    "        return  self._data[key] if key in self._data else None\n",
    "\n",
    "    def __delitem__(self, key):\n",
    "        if key in self._data:\n",
    "            del self._data[key]\n",
    "    \n",
    "    def __len__(self):\n",
    "        return len(self._data.keys())"
   ]
  },
  {
   "cell_type": "code",
   "execution_count": 16,
   "id": "f3f4ad1b",
   "metadata": {},
   "outputs": [],
   "source": [
    "mutable_mapping = MutableMapping({\"Mini\":1, \"coco\": 2, 3:\"lol\"})"
   ]
  },
  {
   "cell_type": "code",
   "execution_count": 13,
   "id": "1cb9fa96",
   "metadata": {},
   "outputs": [
    {
     "data": {
      "text/plain": [
       "1"
      ]
     },
     "execution_count": 13,
     "metadata": {},
     "output_type": "execute_result"
    }
   ],
   "source": [
    "mutable_mapping[\"Mini\"]"
   ]
  },
  {
   "cell_type": "code",
   "execution_count": 17,
   "id": "232481e9",
   "metadata": {},
   "outputs": [
    {
     "data": {
      "text/plain": [
       "3"
      ]
     },
     "execution_count": 17,
     "metadata": {},
     "output_type": "execute_result"
    }
   ],
   "source": [
    "len(mutable_mapping)"
   ]
  },
  {
   "cell_type": "code",
   "execution_count": 19,
   "id": "55717398",
   "metadata": {},
   "outputs": [],
   "source": [
    "mutable_mapping[\"Ginger\"] = 1"
   ]
  },
  {
   "cell_type": "code",
   "execution_count": null,
   "id": "8cd2bb7d",
   "metadata": {},
   "outputs": [],
   "source": []
  }
 ],
 "metadata": {
  "kernelspec": {
   "display_name": "Python 3",
   "language": "python",
   "name": "python3"
  },
  "language_info": {
   "codemirror_mode": {
    "name": "ipython",
    "version": 3
   },
   "file_extension": ".py",
   "mimetype": "text/x-python",
   "name": "python",
   "nbconvert_exporter": "python",
   "pygments_lexer": "ipython3",
   "version": "3.10.12"
  }
 },
 "nbformat": 4,
 "nbformat_minor": 5
}
