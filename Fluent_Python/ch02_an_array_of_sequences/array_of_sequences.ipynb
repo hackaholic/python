{
 "cells": [
  {
   "cell_type": "markdown",
   "id": "b39cbf4e",
   "metadata": {},
   "source": [
    "### List Comprehensions (listcomp)"
   ]
  },
  {
   "cell_type": "code",
   "execution_count": 11,
   "id": "16932325",
   "metadata": {},
   "outputs": [
    {
     "data": {
      "text/plain": [
       "[37, 94, 35, 64, 33]"
      ]
     },
     "execution_count": 11,
     "metadata": {},
     "output_type": "execute_result"
    }
   ],
   "source": [
    "symbols = \"%^#@!\"\n",
    "codes = []\n",
    "\n",
    "for symbol in symbols:\n",
    "    codes.append(ord(symbol))\n",
    "\n",
    "codes\n"
   ]
  },
  {
   "cell_type": "code",
   "execution_count": 24,
   "id": "3948b26c",
   "metadata": {},
   "outputs": [
    {
     "data": {
      "text/plain": [
       "[37, 94, 35, 64, 33]"
      ]
     },
     "execution_count": 24,
     "metadata": {},
     "output_type": "execute_result"
    }
   ],
   "source": [
    "# listcomp -> goal is to build new list\n",
    "codes = [ord(sym) for sym in symbols]\n",
    "codes"
   ]
  },
  {
   "cell_type": "code",
   "execution_count": 25,
   "id": "6a038fc9",
   "metadata": {},
   "outputs": [
    {
     "data": {
      "text/plain": [
       "33"
      ]
     },
     "execution_count": 25,
     "metadata": {},
     "output_type": "execute_result"
    }
   ],
   "source": [
    "# walrus operator\n",
    "codes = [last := ord(sym) for sym in symbols]\n",
    "last"
   ]
  },
  {
   "cell_type": "code",
   "execution_count": 28,
   "id": "b3c2e087",
   "metadata": {},
   "outputs": [
    {
     "ename": "NameError",
     "evalue": "name 'sym' is not defined",
     "output_type": "error",
     "traceback": [
      "\u001b[0;31m---------------------------------------------------------------------------\u001b[0m",
      "\u001b[0;31mNameError\u001b[0m                                 Traceback (most recent call last)",
      "Cell \u001b[0;32mIn[28], line 2\u001b[0m\n\u001b[1;32m      1\u001b[0m \u001b[38;5;66;03m# sym varibale gone, it only existed inside listcomp \u001b[39;00m\n\u001b[0;32m----> 2\u001b[0m \u001b[43msym\u001b[49m\n",
      "\u001b[0;31mNameError\u001b[0m: name 'sym' is not defined"
     ]
    }
   ],
   "source": [
    "# sym varibale gone, it only existed inside listcomp \n",
    "sym"
   ]
  },
  {
   "cell_type": "code",
   "execution_count": 30,
   "id": "d34ec68a",
   "metadata": {},
   "outputs": [
    {
     "data": {
      "text/plain": [
       "[94, 64]"
      ]
     },
     "execution_count": 30,
     "metadata": {},
     "output_type": "execute_result"
    }
   ],
   "source": [
    "[ord(sym) for sym in symbols if ord(sym) >  60]"
   ]
  },
  {
   "cell_type": "code",
   "execution_count": 31,
   "id": "a6d49242",
   "metadata": {},
   "outputs": [
    {
     "data": {
      "text/plain": [
       "[94, 64]"
      ]
     },
     "execution_count": 31,
     "metadata": {},
     "output_type": "execute_result"
    }
   ],
   "source": [
    "list(filter(lambda x: x > 60, map(ord, symbols)))"
   ]
  },
  {
   "cell_type": "code",
   "execution_count": 36,
   "id": "a6592cf7",
   "metadata": {},
   "outputs": [
    {
     "data": {
      "text/plain": [
       "[('black', 'S'),\n",
       " ('black', 'M'),\n",
       " ('black', 'L'),\n",
       " ('while', 'S'),\n",
       " ('while', 'M'),\n",
       " ('while', 'L')]"
      ]
     },
     "execution_count": 36,
     "metadata": {},
     "output_type": "execute_result"
    }
   ],
   "source": [
    "# cartesian product using listcomp\n",
    "colors = [\"black\", \"while\"]\n",
    "sizes = ['S', 'M', 'L']\n",
    "\n",
    "tshirts = [(color, size) for color in colors for size in sizes]\n",
    "tshirts"
   ]
  },
  {
   "cell_type": "code",
   "execution_count": 37,
   "id": "4ad476b7",
   "metadata": {},
   "outputs": [
    {
     "data": {
      "text/plain": [
       "[('black', 'S'),\n",
       " ('black', 'M'),\n",
       " ('black', 'L'),\n",
       " ('while', 'S'),\n",
       " ('while', 'M'),\n",
       " ('while', 'L')]"
      ]
     },
     "execution_count": 37,
     "metadata": {},
     "output_type": "execute_result"
    }
   ],
   "source": [
    "# line break in listcomp for readability \n",
    "tshirts = [(color, size) for color in colors\n",
    "                         for size in sizes]\n",
    "tshirts"
   ]
  },
  {
   "cell_type": "markdown",
   "id": "ccbbb4b2",
   "metadata": {},
   "source": [
    "### Generator Expressions (genexp)\n",
    "\n",
    "same syntax as listcomp but enclosed in parentheses rathern than brackets"
   ]
  },
  {
   "cell_type": "code",
   "execution_count": 38,
   "id": "97e9024d",
   "metadata": {},
   "outputs": [
    {
     "data": {
      "text/plain": [
       "(37, 94, 35, 64, 33)"
      ]
     },
     "execution_count": 38,
     "metadata": {},
     "output_type": "execute_result"
    }
   ],
   "source": [
    "tuple(ord(sym) for sym in symbols)"
   ]
  },
  {
   "cell_type": "code",
   "execution_count": 39,
   "id": "6ef01570",
   "metadata": {},
   "outputs": [
    {
     "data": {
      "text/plain": [
       "array('I', [37, 94, 35, 64, 33])"
      ]
     },
     "execution_count": 39,
     "metadata": {},
     "output_type": "execute_result"
    }
   ],
   "source": [
    "import array\n",
    "\n",
    "array.array('I', (ord(sym) for sym in symbols))"
   ]
  },
  {
   "cell_type": "code",
   "execution_count": 41,
   "id": "07d60b17",
   "metadata": {},
   "outputs": [
    {
     "name": "stdout",
     "output_type": "stream",
     "text": [
      "('black', 'S')\n",
      "('black', 'M')\n",
      "('black', 'L')\n",
      "('while', 'S')\n",
      "('while', 'M')\n",
      "('while', 'L')\n"
     ]
    }
   ],
   "source": [
    "for tshirt in ((color, size) for color in colors for size in sizes):\n",
    "    print(tshirt)"
   ]
  },
  {
   "cell_type": "markdown",
   "id": "2caf5c63",
   "metadata": {},
   "source": [
    "### Tuples"
   ]
  },
  {
   "cell_type": "code",
   "execution_count": 43,
   "id": "7179d6c8",
   "metadata": {},
   "outputs": [
    {
     "data": {
      "text/plain": [
       "(33.9425, -118.408056)"
      ]
     },
     "execution_count": 43,
     "metadata": {},
     "output_type": "execute_result"
    }
   ],
   "source": [
    "cordinates = (33.9425, -118.408056)\n",
    "lat, lon = cordinates\n",
    "\n",
    "lat, lon"
   ]
  },
  {
   "cell_type": "code",
   "execution_count": 44,
   "id": "f3c69f53",
   "metadata": {},
   "outputs": [
    {
     "name": "stdout",
     "output_type": "stream",
     "text": [
      "IND\n",
      "USA\n",
      "JP\n"
     ]
    }
   ],
   "source": [
    "traveler_ids = [('IND', 112233), (\"USA\", 445566), (\"JP\", 778800)]\n",
    "\n",
    "for country, _ in traveler_ids:\n",
    "    print(country)"
   ]
  },
  {
   "cell_type": "code",
   "execution_count": 46,
   "id": "b203f590",
   "metadata": {},
   "outputs": [
    {
     "ename": "TypeError",
     "evalue": "'tuple' object does not support item assignment",
     "output_type": "error",
     "traceback": [
      "\u001b[0;31m---------------------------------------------------------------------------\u001b[0m",
      "\u001b[0;31mTypeError\u001b[0m                                 Traceback (most recent call last)",
      "Cell \u001b[0;32mIn[46], line 4\u001b[0m\n\u001b[1;32m      1\u001b[0m \u001b[38;5;66;03m# Tuples as immutable lists\u001b[39;00m\n\u001b[1;32m      2\u001b[0m k \u001b[38;5;241m=\u001b[39m (\u001b[38;5;241m1\u001b[39m, \u001b[38;5;241m2\u001b[39m, \u001b[38;5;241m3\u001b[39m)\n\u001b[0;32m----> 4\u001b[0m \u001b[43mk\u001b[49m\u001b[43m[\u001b[49m\u001b[38;5;241;43m0\u001b[39;49m\u001b[43m]\u001b[49m \u001b[38;5;241m=\u001b[39m \u001b[38;5;241m10\u001b[39m\n",
      "\u001b[0;31mTypeError\u001b[0m: 'tuple' object does not support item assignment"
     ]
    }
   ],
   "source": [
    "# Tuples as immutable lists\n",
    "k = (1, 2, 3)\n",
    "\n",
    "k[0] = 10"
   ]
  },
  {
   "cell_type": "code",
   "execution_count": 49,
   "id": "91e4dead",
   "metadata": {},
   "outputs": [
    {
     "data": {
      "text/plain": [
       "True"
      ]
     },
     "execution_count": 49,
     "metadata": {},
     "output_type": "execute_result"
    }
   ],
   "source": [
    "# How ever if one of the reference object is mutable \n",
    "\n",
    "a = (10, 'alpha', [1 ,2])\n",
    "b = (10, 'alpha', [1 ,2])\n",
    "\n",
    "a == b"
   ]
  },
  {
   "cell_type": "code",
   "execution_count": 50,
   "id": "7ec8a381",
   "metadata": {},
   "outputs": [
    {
     "data": {
      "text/plain": [
       "False"
      ]
     },
     "execution_count": 50,
     "metadata": {},
     "output_type": "execute_result"
    }
   ],
   "source": [
    "b[-1].append(99)\n",
    "\n",
    "a == b"
   ]
  },
  {
   "cell_type": "code",
   "execution_count": 51,
   "id": "ee02376d",
   "metadata": {},
   "outputs": [
    {
     "data": {
      "text/plain": [
       "(10, 'alpha', [1, 2, 99])"
      ]
     },
     "execution_count": 51,
     "metadata": {},
     "output_type": "execute_result"
    }
   ],
   "source": [
    "b"
   ]
  },
  {
   "cell_type": "code",
   "execution_count": 53,
   "id": "df41c611",
   "metadata": {},
   "outputs": [
    {
     "data": {
      "text/plain": [
       "(1, 2, 3, 1, 2, 3)"
      ]
     },
     "execution_count": 53,
     "metadata": {},
     "output_type": "execute_result"
    }
   ],
   "source": []
  },
  {
   "cell_type": "markdown",
   "id": "24fad32a",
   "metadata": {},
   "source": [
    "### Unpacking Sequences and Iterable"
   ]
  },
  {
   "cell_type": "code",
   "execution_count": 56,
   "id": "7a4ffc72",
   "metadata": {},
   "outputs": [
    {
     "data": {
      "text/plain": [
       "(33.9425, -118.408056)"
      ]
     },
     "execution_count": 56,
     "metadata": {},
     "output_type": "execute_result"
    }
   ],
   "source": [
    "cordinates = (33.9425, -118.408056)\n",
    "lat, lon = cordinates   # unpacking\n",
    "\n",
    "lat, lon"
   ]
  },
  {
   "cell_type": "code",
   "execution_count": 58,
   "id": "4356feb0",
   "metadata": {},
   "outputs": [
    {
     "data": {
      "text/plain": [
       "(2, 4)"
      ]
     },
     "execution_count": 58,
     "metadata": {},
     "output_type": "execute_result"
    }
   ],
   "source": [
    "divmod(20, 8)"
   ]
  },
  {
   "cell_type": "code",
   "execution_count": 60,
   "id": "89c3b489",
   "metadata": {},
   "outputs": [
    {
     "data": {
      "text/plain": [
       "(2, 4)"
      ]
     },
     "execution_count": 60,
     "metadata": {},
     "output_type": "execute_result"
    }
   ],
   "source": [
    "t = (20, 8)\n",
    "q, r = divmod(*t) # unpacking\n",
    "q, r"
   ]
  },
  {
   "cell_type": "code",
   "execution_count": 64,
   "id": "aacef6b2",
   "metadata": {},
   "outputs": [
    {
     "data": {
      "text/plain": [
       "(0, 1, [2, 3, 4, 5, 6, 7, 8, 9])"
      ]
     },
     "execution_count": 64,
     "metadata": {},
     "output_type": "execute_result"
    }
   ],
   "source": [
    "# using * to grab excess item\n",
    "\n",
    "a, b, *rest = range(10)\n",
    "a, b, rest"
   ]
  },
  {
   "cell_type": "code",
   "execution_count": 66,
   "id": "2d473163",
   "metadata": {},
   "outputs": [
    {
     "data": {
      "text/plain": [
       "(0, 1, [2])"
      ]
     },
     "execution_count": 66,
     "metadata": {},
     "output_type": "execute_result"
    }
   ],
   "source": [
    "a, b, *rest = range(3)\n",
    "a,b, rest"
   ]
  },
  {
   "cell_type": "code",
   "execution_count": 67,
   "id": "d106d36b",
   "metadata": {},
   "outputs": [
    {
     "data": {
      "text/plain": [
       "(0, 1, [])"
      ]
     },
     "execution_count": 67,
     "metadata": {},
     "output_type": "execute_result"
    }
   ],
   "source": [
    "a, b, *rest = range(2)\n",
    "a,b, rest"
   ]
  },
  {
   "cell_type": "code",
   "execution_count": 68,
   "id": "742641d0",
   "metadata": {},
   "outputs": [
    {
     "data": {
      "text/plain": [
       "(0, [1, 2, 3], 4)"
      ]
     },
     "execution_count": 68,
     "metadata": {},
     "output_type": "execute_result"
    }
   ],
   "source": [
    "head, *body, tail = range(5)\n",
    "head, body, tail"
   ]
  },
  {
   "cell_type": "code",
   "execution_count": 73,
   "id": "571c71fe",
   "metadata": {},
   "outputs": [
    {
     "data": {
      "text/plain": [
       "(1, 2, 3, 4, (5, 6))"
      ]
     },
     "execution_count": 73,
     "metadata": {},
     "output_type": "execute_result"
    }
   ],
   "source": [
    "def func(a,b,c,d, *rest):\n",
    "    return a , b, c, d, rest\n",
    "\n",
    "func(*[1,2], 3, *range(4, 7))"
   ]
  },
  {
   "cell_type": "code",
   "execution_count": 70,
   "id": "a972fe9f",
   "metadata": {},
   "outputs": [
    {
     "data": {
      "text/plain": [
       "(0, 1, 2, 3, 4)"
      ]
     },
     "execution_count": 70,
     "metadata": {},
     "output_type": "execute_result"
    }
   ],
   "source": [
    "*range(4), 4"
   ]
  },
  {
   "cell_type": "code",
   "execution_count": 71,
   "id": "74a02dde",
   "metadata": {},
   "outputs": [
    {
     "data": {
      "text/plain": [
       "[0, 1, 2, 3, 4]"
      ]
     },
     "execution_count": 71,
     "metadata": {},
     "output_type": "execute_result"
    }
   ],
   "source": [
    "[*range(4), 4]"
   ]
  },
  {
   "cell_type": "code",
   "execution_count": 78,
   "id": "d2d16da8",
   "metadata": {},
   "outputs": [
    {
     "name": "stdout",
     "output_type": "stream",
     "text": [
      "                |  latitude | longitude\n",
      "Tokyo           |   35.6890 |  139.6910\n",
      "New York        |   40.7128 |  -74.0060\n",
      "Paris           |   48.8566 |    2.3522\n",
      "Mumbai          |   19.0760 |   72.8777\n",
      "Sydney          |  -33.8688 |  151.2093\n"
     ]
    }
   ],
   "source": [
    "# nested Unpacking\n",
    "cities = [\n",
    "    ('Tokyo', 'JP', 36.93, (35.689, 139.691)),\n",
    "    ('New York', 'US', 22.34, (40.7128, -74.0060)),\n",
    "    ('Paris', 'FR', 18.75, (48.8566, 2.3522)),\n",
    "    ('Mumbai', 'IN', 29.58, (19.0760, 72.8777)),\n",
    "    ('Sydney', 'AU', 24.81, (-33.8688, 151.2093))\n",
    "]\n",
    "\n",
    "print(f'{\"\":15} | {\"latitude\":>9} | {\"longitude\":>9}')\n",
    "for name, _, _, (lat, lon) in cities:\n",
    "    print(f\"{name:15} | {lat:>9.4f} | {lon:>9.4f}\")"
   ]
  },
  {
   "cell_type": "markdown",
   "id": "74cbc20f",
   "metadata": {},
   "source": [
    "### Pattern Matching with Sequences"
   ]
  },
  {
   "cell_type": "code",
   "execution_count": 106,
   "id": "11944b80",
   "metadata": {},
   "outputs": [
    {
     "name": "stdout",
     "output_type": "stream",
     "text": [
      "NECK: angle: 10\n",
      "LED: ident: 10 red:234 green:125 blue:117\n"
     ]
    },
    {
     "ename": "InvalidCommand",
     "evalue": "command not dound",
     "output_type": "error",
     "traceback": [
      "\u001b[0;31m---------------------------------------------------------------------------\u001b[0m",
      "\u001b[0;31mInvalidCommand\u001b[0m                            Traceback (most recent call last)",
      "Cell \u001b[0;32mIn[106], line 15\u001b[0m\n\u001b[1;32m     12\u001b[0m \u001b[38;5;28mprint\u001b[39m(handle_command([\u001b[38;5;124m'\u001b[39m\u001b[38;5;124mNECK\u001b[39m\u001b[38;5;124m'\u001b[39m, \u001b[38;5;241m10\u001b[39m]))\n\u001b[1;32m     13\u001b[0m \u001b[38;5;28mprint\u001b[39m(handle_command([\u001b[38;5;124m'\u001b[39m\u001b[38;5;124mLED\u001b[39m\u001b[38;5;124m'\u001b[39m, \u001b[38;5;241m10\u001b[39m, \u001b[38;5;241m234\u001b[39m, \u001b[38;5;241m125\u001b[39m, \u001b[38;5;241m117\u001b[39m]))\n\u001b[0;32m---> 15\u001b[0m \u001b[38;5;28mprint\u001b[39m(\u001b[43mhandle_command\u001b[49m\u001b[43m(\u001b[49m\u001b[43m[\u001b[49m\u001b[38;5;124;43m'\u001b[39;49m\u001b[38;5;124;43mOk\u001b[39;49m\u001b[38;5;124;43m'\u001b[39;49m\u001b[43m,\u001b[49m\u001b[43m \u001b[49m\u001b[38;5;241;43m20\u001b[39;49m\u001b[43m]\u001b[49m\u001b[43m)\u001b[49m)\n",
      "Cell \u001b[0;32mIn[106], line 10\u001b[0m, in \u001b[0;36mhandle_command\u001b[0;34m(msg)\u001b[0m\n\u001b[1;32m      8\u001b[0m \u001b[38;5;28;01mcase\u001b[39;00m [\u001b[38;5;124m'\u001b[39m\u001b[38;5;124mLED\u001b[39m\u001b[38;5;124m'\u001b[39m, ident, intensity]: \u001b[38;5;28;01mreturn\u001b[39;00m \u001b[38;5;124m\"\u001b[39m\u001b[38;5;124mLED: ident: \u001b[39m\u001b[38;5;132;01m{ident}\u001b[39;00m\u001b[38;5;124m intensity: \u001b[39m\u001b[38;5;132;01m{intensity}\u001b[39;00m\u001b[38;5;124m\"\u001b[39m\n\u001b[1;32m      9\u001b[0m \u001b[38;5;28;01mcase\u001b[39;00m [\u001b[38;5;124m'\u001b[39m\u001b[38;5;124mLED\u001b[39m\u001b[38;5;124m'\u001b[39m, ident, red, green, blue]: \u001b[38;5;28;01mreturn\u001b[39;00m \u001b[38;5;124mf\u001b[39m\u001b[38;5;124m\"\u001b[39m\u001b[38;5;124mLED: ident: \u001b[39m\u001b[38;5;132;01m{\u001b[39;00mident\u001b[38;5;132;01m}\u001b[39;00m\u001b[38;5;124m red:\u001b[39m\u001b[38;5;132;01m{\u001b[39;00mred\u001b[38;5;132;01m}\u001b[39;00m\u001b[38;5;124m green:\u001b[39m\u001b[38;5;132;01m{\u001b[39;00mgreen\u001b[38;5;132;01m}\u001b[39;00m\u001b[38;5;124m blue:\u001b[39m\u001b[38;5;132;01m{\u001b[39;00mblue\u001b[38;5;132;01m}\u001b[39;00m\u001b[38;5;124m\"\u001b[39m\n\u001b[0;32m---> 10\u001b[0m \u001b[38;5;28;01mcase\u001b[39;00m\u001b[38;5;250m \u001b[39m\u001b[38;5;28;01m_\u001b[39;00m: \u001b[38;5;28;01mraise\u001b[39;00m InvalidCommand(\u001b[38;5;124m\"\u001b[39m\u001b[38;5;124mcommand not dound\u001b[39m\u001b[38;5;124m\"\u001b[39m)\n",
      "\u001b[0;31mInvalidCommand\u001b[0m: command not dound"
     ]
    }
   ],
   "source": [
    "class InvalidCommand(Exception):\n",
    "    pass\n",
    "\n",
    "def handle_command(msg: list) -> str:\n",
    "    match msg:\n",
    "        case ['BEEPER', freq, times]: return f\"Beeping: freq: {freq} times: {times}\"\n",
    "        case ['NECK', angle]: return f\"NECK: angle: {angle}\"\n",
    "        case ['LED', ident, intensity]: return \"LED: ident: {ident} intensity: {intensity}\"\n",
    "        case ['LED', ident, red, green, blue]: return f\"LED: ident: {ident} red:{red} green:{green} blue:{blue}\"\n",
    "        case _: raise InvalidCommand(\"command not dound\")\n",
    "\n",
    "print(handle_command(['NECK', 10]))\n",
    "print(handle_command(['LED', 10, 234, 125, 117]))\n",
    "\n",
    "print(handle_command(['Ok', 20]))\n"
   ]
  },
  {
   "cell_type": "code",
   "execution_count": 108,
   "id": "18b0313a",
   "metadata": {},
   "outputs": [
    {
     "name": "stdout",
     "output_type": "stream",
     "text": [
      "North AMerica\n",
      "Europe\n"
     ]
    }
   ],
   "source": [
    "### str, bytes, bytesarry are not handled as sequences in the contex of match/case\n",
    "\n",
    "def phone_country(phone_num: str) -> str:\n",
    "    match tuple(phone_num):\n",
    "        case [str(n), *rest] if n == \"1\": return \"North AMerica\"   # str(n) is not constructor call to typecaste to string but here  str(n) validates that n must be n\n",
    "        case [str(n), *rest] if n == \"2\": return \"Africa and territories\"\n",
    "        case [str(n), *rest] if n == \"3\": return \"Europe\"\n",
    "        case _: return \"default\"\n",
    "\n",
    "print(phone_country(\"123456\"))\n",
    "print(phone_country(\"3456789\"))"
   ]
  },
  {
   "cell_type": "markdown",
   "id": "9d8a89ae",
   "metadata": {},
   "source": [
    "### Slices"
   ]
  },
  {
   "cell_type": "code",
   "execution_count": 111,
   "id": "cbc744d4",
   "metadata": {},
   "outputs": [
    {
     "name": "stdout",
     "output_type": "stream",
     "text": [
      "[10, 20]\n",
      "[30, 40, 50, 60]\n"
     ]
    }
   ],
   "source": [
    "l = [10, 20, 30, 40, 50, 60]\n",
    "print(l[:2])\n",
    "print(l[2:])"
   ]
  },
  {
   "cell_type": "code",
   "execution_count": 112,
   "id": "16802722",
   "metadata": {},
   "outputs": [
    {
     "data": {
      "text/plain": [
       "'bye'"
      ]
     },
     "execution_count": 112,
     "metadata": {},
     "output_type": "execute_result"
    }
   ],
   "source": [
    "s = \"bicycle\"\n",
    "s[::3]"
   ]
  },
  {
   "cell_type": "code",
   "execution_count": 114,
   "id": "cc139b50",
   "metadata": {},
   "outputs": [
    {
     "data": {
      "text/plain": [
       "'elcycib'"
      ]
     },
     "execution_count": 114,
     "metadata": {},
     "output_type": "execute_result"
    }
   ],
   "source": [
    "# reverse\n",
    "s[::-1]"
   ]
  },
  {
   "cell_type": "code",
   "execution_count": 117,
   "id": "596972e7",
   "metadata": {},
   "outputs": [
    {
     "data": {
      "text/plain": [
       "'icy'"
      ]
     },
     "execution_count": 117,
     "metadata": {},
     "output_type": "execute_result"
    }
   ],
   "source": [
    "icy = slice(1, 4)\n",
    "s[icy]"
   ]
  },
  {
   "cell_type": "code",
   "execution_count": null,
   "id": "34be28d4",
   "metadata": {},
   "outputs": [],
   "source": [
    "# Using + and * with Sequence"
   ]
  },
  {
   "cell_type": "code",
   "execution_count": 122,
   "id": "70a1d600",
   "metadata": {},
   "outputs": [
    {
     "data": {
      "text/plain": [
       "[1, 2, 3, 4, 5, 6]"
      ]
     },
     "execution_count": 122,
     "metadata": {},
     "output_type": "execute_result"
    }
   ],
   "source": [
    "[1,2, 3] +  [4, 5, 6]"
   ]
  },
  {
   "cell_type": "code",
   "execution_count": 123,
   "id": "40744c1b",
   "metadata": {},
   "outputs": [
    {
     "data": {
      "text/plain": [
       "[1, 2, 3, 1, 2, 3, 1, 2, 3]"
      ]
     },
     "execution_count": 123,
     "metadata": {},
     "output_type": "execute_result"
    }
   ],
   "source": [
    "l = [1,2, 3] * 3\n",
    "l"
   ]
  },
  {
   "cell_type": "code",
   "execution_count": 118,
   "id": "574f8741",
   "metadata": {},
   "outputs": [
    {
     "data": {
      "text/plain": [
       "[[], [], []]"
      ]
     },
     "execution_count": 118,
     "metadata": {},
     "output_type": "execute_result"
    }
   ],
   "source": [
    "# BEaware for sequence containing mutable items, foexample:\n",
    "po = [[]] *3\n",
    "po"
   ]
  },
  {
   "cell_type": "code",
   "execution_count": 120,
   "id": "aebe7383",
   "metadata": {},
   "outputs": [
    {
     "data": {
      "text/plain": [
       "[[10], [10], [10]]"
      ]
     },
     "execution_count": 120,
     "metadata": {},
     "output_type": "execute_result"
    }
   ],
   "source": [
    "po[0].append(10)\n",
    "po"
   ]
  },
  {
   "cell_type": "code",
   "execution_count": 127,
   "id": "9495f2b0",
   "metadata": {},
   "outputs": [
    {
     "data": {
      "text/plain": [
       "[['_', '_', '_'], ['_', '_', '_'], ['_', '_', '_']]"
      ]
     },
     "execution_count": 127,
     "metadata": {},
     "output_type": "execute_result"
    }
   ],
   "source": [
    "# ALL THREE REFERENCE OF SAME LIST\n",
    "weird_board = [['_']*3] *3   \n",
    "weird_board"
   ]
  },
  {
   "cell_type": "code",
   "execution_count": 128,
   "id": "edfb6718",
   "metadata": {},
   "outputs": [
    {
     "data": {
      "text/plain": [
       "[['_', '_', 'o'], ['_', '_', 'o'], ['_', '_', 'o']]"
      ]
     },
     "execution_count": 128,
     "metadata": {},
     "output_type": "execute_result"
    }
   ],
   "source": [
    "weird_board[1][2] = 'o'\n",
    "weird_board"
   ]
  },
  {
   "cell_type": "code",
   "execution_count": 133,
   "id": "42c20c24",
   "metadata": {},
   "outputs": [
    {
     "data": {
      "text/plain": [
       "[['_', '_', '_'], ['_', '_', '_'], ['_', '_', '_']]"
      ]
     },
     "execution_count": 133,
     "metadata": {},
     "output_type": "execute_result"
    }
   ],
   "source": [
    "# different innter list\n",
    "board = [ ['_'] *3  for i in range(3)]\n",
    "board"
   ]
  },
  {
   "cell_type": "code",
   "execution_count": 132,
   "id": "30ef87b2",
   "metadata": {},
   "outputs": [
    {
     "data": {
      "text/plain": [
       "[['_', '_', '_'], ['_', '_', '_'], ['X', '_', '_']]"
      ]
     },
     "execution_count": 132,
     "metadata": {},
     "output_type": "execute_result"
    }
   ],
   "source": [
    "board[2][0] = 'X'\n",
    "board"
   ]
  },
  {
   "cell_type": "code",
   "execution_count": 142,
   "id": "6e2511c0",
   "metadata": {},
   "outputs": [],
   "source": [
    "class MyListOne(list):\n",
    "    def __add__(self, l):\n",
    "        return super().__add__(l)"
   ]
  },
  {
   "cell_type": "code",
   "execution_count": 143,
   "id": "f6af971f",
   "metadata": {},
   "outputs": [
    {
     "data": {
      "text/plain": [
       "[1, 2, 3, 1]"
      ]
     },
     "execution_count": 143,
     "metadata": {},
     "output_type": "execute_result"
    }
   ],
   "source": [
    "MyListOne([1,2,3]) +[1]"
   ]
  },
  {
   "cell_type": "code",
   "execution_count": 147,
   "id": "8e33ea50",
   "metadata": {},
   "outputs": [
    {
     "ename": "TypeError",
     "evalue": "'tuple' object does not support item assignment",
     "output_type": "error",
     "traceback": [
      "\u001b[0;31m---------------------------------------------------------------------------\u001b[0m",
      "\u001b[0;31mTypeError\u001b[0m                                 Traceback (most recent call last)",
      "Cell \u001b[0;32mIn[147], line 2\u001b[0m\n\u001b[1;32m      1\u001b[0m t \u001b[38;5;241m=\u001b[39m (\u001b[38;5;241m1\u001b[39m, \u001b[38;5;241m2\u001b[39m, [\u001b[38;5;241m30\u001b[39m, \u001b[38;5;241m40\u001b[39m])\n\u001b[0;32m----> 2\u001b[0m \u001b[43mt\u001b[49m\u001b[43m[\u001b[49m\u001b[38;5;241;43m2\u001b[39;49m\u001b[43m]\u001b[49m \u001b[38;5;241m+\u001b[39m\u001b[38;5;241m=\u001b[39m [\u001b[38;5;241m50\u001b[39m,\u001b[38;5;241m60\u001b[39m]\n",
      "\u001b[0;31mTypeError\u001b[0m: 'tuple' object does not support item assignment"
     ]
    }
   ],
   "source": [
    "t = (1, 2, [30, 40])\n",
    "t[2] += [50,60]"
   ]
  },
  {
   "cell_type": "code",
   "execution_count": 148,
   "id": "d2db879f",
   "metadata": {},
   "outputs": [
    {
     "data": {
      "text/plain": [
       "(1, 2, [30, 40, 50, 60])"
      ]
     },
     "execution_count": 148,
     "metadata": {},
     "output_type": "execute_result"
    }
   ],
   "source": [
    "t"
   ]
  },
  {
   "cell_type": "code",
   "execution_count": 150,
   "id": "7398cdac",
   "metadata": {},
   "outputs": [
    {
     "name": "stdout",
     "output_type": "stream",
     "text": [
      "  1           0 LOAD_NAME                0 (s)\n",
      "              2 LOAD_NAME                1 (a)\n",
      "              4 DUP_TOP_TWO\n",
      "              6 BINARY_SUBSCR\n",
      "              8 LOAD_NAME                2 (b)\n",
      "             10 INPLACE_ADD\n",
      "             12 ROT_THREE\n",
      "             14 STORE_SUBSCR\n",
      "             16 LOAD_CONST               0 (None)\n",
      "             18 RETURN_VALUE\n"
     ]
    }
   ],
   "source": [
    "import dis\n",
    "dis.dis('s[a] += b')"
   ]
  },
  {
   "cell_type": "code",
   "execution_count": 27,
   "id": "59919774",
   "metadata": {},
   "outputs": [
    {
     "name": "stdout",
     "output_type": "stream",
     "text": [
      "['apple', 'banana', 'grape', 'raspberry']\n",
      "['raspberry', 'grape', 'banana', 'apple']\n",
      "['grape', 'apple', 'banana', 'raspberry']\n",
      "['banana', 'grape', 'apple', 'raspberry']\n"
     ]
    }
   ],
   "source": [
    "fruits = [\"grape\", \"raspberry\", \"apple\", \"banana\"]\n",
    "print(sorted(fruits))\n",
    "print(sorted(fruits, reverse=True))\n",
    "print(sorted(fruits, key=len))\n",
    "print(sorted(fruits, key=lambda x: x[-1]))"
   ]
  },
  {
   "cell_type": "code",
   "execution_count": 28,
   "id": "d379c5a9",
   "metadata": {},
   "outputs": [
    {
     "data": {
      "text/plain": [
       "['apple', 'banana', 'grape', 'raspberry']"
      ]
     },
     "execution_count": 28,
     "metadata": {},
     "output_type": "execute_result"
    }
   ],
   "source": [
    "fruits.sort()\n",
    "fruits"
   ]
  },
  {
   "cell_type": "markdown",
   "id": "36be782d",
   "metadata": {},
   "source": [
    "### Arrays\n",
    "\n",
    "if list only contains number array.arry is more efficient"
   ]
  },
  {
   "cell_type": "code",
   "execution_count": 2,
   "id": "09a1389a",
   "metadata": {},
   "outputs": [],
   "source": [
    "import array"
   ]
  },
  {
   "cell_type": "code",
   "execution_count": 6,
   "id": "9806ac30",
   "metadata": {},
   "outputs": [
    {
     "data": {
      "text/plain": [
       "'bBuhHiIlLqQfd'"
      ]
     },
     "execution_count": 6,
     "metadata": {},
     "output_type": "execute_result"
    }
   ],
   "source": [
    "array.typecodes"
   ]
  },
  {
   "cell_type": "code",
   "execution_count": 21,
   "id": "3f0ed553",
   "metadata": {},
   "outputs": [],
   "source": [
    "arr = array.array(\"I\", range(10))"
   ]
  },
  {
   "cell_type": "code",
   "execution_count": 22,
   "id": "8ec69b95",
   "metadata": {},
   "outputs": [],
   "source": [
    "with open(\"num.bin\", 'bw') as fp:\n",
    "    arr.tofile(fp)\n"
   ]
  },
  {
   "cell_type": "code",
   "execution_count": null,
   "id": "8f6cf86d",
   "metadata": {},
   "outputs": [
    {
     "data": {
      "text/plain": [
       "array('I', [0, 1, 2, 3, 4, 5, 6, 7, 8, 9, 0, 0, 1, 2, 3, 4])"
      ]
     },
     "execution_count": 24,
     "metadata": {},
     "output_type": "execute_result"
    }
   ],
   "source": [
    "with open(\"num.bin\", 'br') as fp:\n",
    "    arr.fromfile(fp, 5)\n",
    "\n",
    "arr"
   ]
  },
  {
   "cell_type": "markdown",
   "id": "655bc6fc",
   "metadata": {},
   "source": [
    "### Memoryview"
   ]
  },
  {
   "cell_type": "code",
   "execution_count": 48,
   "id": "06a62cdb",
   "metadata": {},
   "outputs": [
    {
     "data": {
      "text/plain": [
       "array('I', [0, 1, 2, 3, 4, 5])"
      ]
     },
     "execution_count": 48,
     "metadata": {},
     "output_type": "execute_result"
    }
   ],
   "source": [
    "octets = array.array(\"I\", range(6))\n",
    "octets"
   ]
  },
  {
   "cell_type": "code",
   "execution_count": 53,
   "id": "c52907fc",
   "metadata": {},
   "outputs": [
    {
     "data": {
      "text/plain": [
       "[0, 0, 0, 0, 1, 0, 0, 0, 2, 0, 0, 0, 3, 0, 0, 0, 4, 0, 0, 0, 5, 0, 0, 0]"
      ]
     },
     "execution_count": 53,
     "metadata": {},
     "output_type": "execute_result"
    }
   ],
   "source": [
    "m1 = memoryview(octets)\n",
    "m1.cast('b').tolist()"
   ]
  },
  {
   "cell_type": "code",
   "execution_count": null,
   "id": "b65a4c3e",
   "metadata": {},
   "outputs": [],
   "source": []
  },
  {
   "cell_type": "code",
   "execution_count": 7,
   "id": "c47f1730",
   "metadata": {},
   "outputs": [
    {
     "data": {
      "text/plain": [
       "{(1,): 10}"
      ]
     },
     "execution_count": 7,
     "metadata": {},
     "output_type": "execute_result"
    }
   ],
   "source": [
    "a"
   ]
  },
  {
   "cell_type": "code",
   "execution_count": null,
   "id": "230d31d4",
   "metadata": {},
   "outputs": [],
   "source": []
  }
 ],
 "metadata": {
  "kernelspec": {
   "display_name": "Python 3",
   "language": "python",
   "name": "python3"
  },
  "language_info": {
   "codemirror_mode": {
    "name": "ipython",
    "version": 3
   },
   "file_extension": ".py",
   "mimetype": "text/x-python",
   "name": "python",
   "nbconvert_exporter": "python",
   "pygments_lexer": "ipython3",
   "version": "3.10.12"
  }
 },
 "nbformat": 4,
 "nbformat_minor": 5
}
