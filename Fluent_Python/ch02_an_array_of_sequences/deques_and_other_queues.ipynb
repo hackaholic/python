{
 "cells": [
  {
   "cell_type": "code",
   "execution_count": 1,
   "id": "26fe4b72",
   "metadata": {},
   "outputs": [],
   "source": [
    "from collections import deque"
   ]
  },
  {
   "cell_type": "code",
   "execution_count": 5,
   "id": "678eb1dc",
   "metadata": {},
   "outputs": [
    {
     "data": {
      "text/plain": [
       "deque([0, 1, 2, 3, 4, 5, 6, 7, 8, 9], maxlen=10)"
      ]
     },
     "execution_count": 5,
     "metadata": {},
     "output_type": "execute_result"
    }
   ],
   "source": [
    "dq = deque(range(10), maxlen=10)\n",
    "dq"
   ]
  },
  {
   "cell_type": "code",
   "execution_count": 6,
   "id": "9cbc6796",
   "metadata": {},
   "outputs": [
    {
     "data": {
      "text/plain": [
       "deque([7, 8, 9, 0, 1, 2, 3, 4, 5, 6], maxlen=10)"
      ]
     },
     "execution_count": 6,
     "metadata": {},
     "output_type": "execute_result"
    }
   ],
   "source": [
    "dq.rotate(3)\n",
    "dq"
   ]
  },
  {
   "cell_type": "code",
   "execution_count": 7,
   "id": "bf7d1fb8",
   "metadata": {},
   "outputs": [
    {
     "data": {
      "text/plain": [
       "deque([1, 2, 3, 4, 5, 6, 7, 8, 9, 0], maxlen=10)"
      ]
     },
     "execution_count": 7,
     "metadata": {},
     "output_type": "execute_result"
    }
   ],
   "source": [
    "dq.rotate(-4)\n",
    "dq"
   ]
  },
  {
   "cell_type": "code",
   "execution_count": 8,
   "id": "0fc0eb45",
   "metadata": {},
   "outputs": [
    {
     "data": {
      "text/plain": [
       "deque([-1, 1, 2, 3, 4, 5, 6, 7, 8, 9], maxlen=10)"
      ]
     },
     "execution_count": 8,
     "metadata": {},
     "output_type": "execute_result"
    }
   ],
   "source": [
    "dq.appendleft(-1)\n",
    "dq"
   ]
  },
  {
   "cell_type": "code",
   "execution_count": 9,
   "id": "623c777b",
   "metadata": {},
   "outputs": [
    {
     "data": {
      "text/plain": [
       "deque([3, 4, 5, 6, 7, 8, 9, 11, 22, 33], maxlen=10)"
      ]
     },
     "execution_count": 9,
     "metadata": {},
     "output_type": "execute_result"
    }
   ],
   "source": [
    "dq.extend([11, 22, 33])\n",
    "dq"
   ]
  },
  {
   "cell_type": "code",
   "execution_count": 10,
   "id": "27ebbeed",
   "metadata": {},
   "outputs": [
    {
     "data": {
      "text/plain": [
       "deque([40, 30, 20, 10, 3, 4, 5, 6, 7, 8], maxlen=10)"
      ]
     },
     "execution_count": 10,
     "metadata": {},
     "output_type": "execute_result"
    }
   ],
   "source": [
    "dq.extendleft([10, 20, 30, 40])\n",
    "dq"
   ]
  },
  {
   "cell_type": "code",
   "execution_count": 13,
   "id": "470d0a3c",
   "metadata": {},
   "outputs": [
    {
     "data": {
      "text/plain": [
       "2"
      ]
     },
     "execution_count": 13,
     "metadata": {},
     "output_type": "execute_result"
    }
   ],
   "source": [
    "dq.index(20)"
   ]
  },
  {
   "cell_type": "code",
   "execution_count": 16,
   "id": "2572ad68",
   "metadata": {},
   "outputs": [],
   "source": [
    "import queue"
   ]
  },
  {
   "cell_type": "code",
   "execution_count": 39,
   "id": "3eb60094",
   "metadata": {},
   "outputs": [
    {
     "data": {
      "text/plain": [
       "0"
      ]
     },
     "execution_count": 39,
     "metadata": {},
     "output_type": "execute_result"
    }
   ],
   "source": [
    "# SimpleQueue is unbounded\n",
    "que = queue.SimpleQueue()\n",
    "que.qsize()"
   ]
  },
  {
   "cell_type": "code",
   "execution_count": 40,
   "id": "ea7c1c08",
   "metadata": {},
   "outputs": [],
   "source": [
    "\n",
    "for x in range(5):\n",
    "     que.put(x*2)"
   ]
  },
  {
   "cell_type": "code",
   "execution_count": 41,
   "id": "175becad",
   "metadata": {},
   "outputs": [
    {
     "data": {
      "text/plain": [
       "5"
      ]
     },
     "execution_count": 41,
     "metadata": {},
     "output_type": "execute_result"
    }
   ],
   "source": [
    "que.qsize()"
   ]
  },
  {
   "cell_type": "code",
   "execution_count": 42,
   "id": "3c11a7a1",
   "metadata": {},
   "outputs": [
    {
     "data": {
      "text/plain": [
       "0"
      ]
     },
     "execution_count": 42,
     "metadata": {},
     "output_type": "execute_result"
    }
   ],
   "source": [
    "# get is blocked if queue is empty waiting for next item to arrive\n",
    "que.get()"
   ]
  },
  {
   "cell_type": "code",
   "execution_count": 44,
   "id": "a05ed19d",
   "metadata": {},
   "outputs": [
    {
     "data": {
      "text/plain": [
       "4"
      ]
     },
     "execution_count": 44,
     "metadata": {},
     "output_type": "execute_result"
    }
   ],
   "source": [
    "# non-blocking\n",
    "que.get_nowait()"
   ]
  },
  {
   "cell_type": "code",
   "execution_count": 46,
   "id": "f4eb70bc",
   "metadata": {},
   "outputs": [
    {
     "data": {
      "text/plain": [
       "False"
      ]
     },
     "execution_count": 46,
     "metadata": {},
     "output_type": "execute_result"
    }
   ],
   "source": [
    "# check if queue is empty or not\n",
    "que.empty()"
   ]
  },
  {
   "cell_type": "markdown",
   "id": "1f46e463",
   "metadata": {},
   "source": [
    "### asyncio"
   ]
  },
  {
   "cell_type": "code",
   "execution_count": 2,
   "id": "5520bbbe",
   "metadata": {},
   "outputs": [],
   "source": [
    "import asyncio"
   ]
  },
  {
   "cell_type": "code",
   "execution_count": 5,
   "id": "9b11d135",
   "metadata": {},
   "outputs": [
    {
     "name": "stdout",
     "output_type": "stream",
     "text": [
      "Producing 0\n",
      "Consumed 0\n",
      "Producing 1\n",
      "Consumed 1\n",
      "Producing 2\n",
      "Consumed 2\n"
     ]
    }
   ],
   "source": [
    "async def producer(q):\n",
    "    for i in range(3):\n",
    "        print(f\"Producing {i}\")\n",
    "        await q.put(i)\n",
    "        await asyncio.sleep(1)\n",
    "\n",
    "async def consumer(q):\n",
    "    for i in range(3):\n",
    "        item = await q.get()\n",
    "        print(f\"Consumed {item}\")\n",
    "        q.task_done()\n",
    "\n",
    "async def main():\n",
    "    q = asyncio.Queue()\n",
    "    await asyncio.gather(producer(q), consumer(q))\n",
    "\n",
    "await main()"
   ]
  },
  {
   "cell_type": "code",
   "execution_count": 6,
   "id": "e7bc04c4",
   "metadata": {},
   "outputs": [
    {
     "name": "stdout",
     "output_type": "stream",
     "text": [
      "third\n",
      "second\n",
      "first\n"
     ]
    }
   ],
   "source": [
    "q = asyncio.LifoQueue()\n",
    "await q.put(\"first\")\n",
    "await q.put(\"second\")\n",
    "await q.put(\"third\")\n",
    "\n",
    "while not q.empty():\n",
    "    print(await q.get())"
   ]
  },
  {
   "cell_type": "code",
   "execution_count": 14,
   "id": "7a8e6cd2",
   "metadata": {},
   "outputs": [
    {
     "name": "stdout",
     "output_type": "stream",
     "text": [
      "(1, 'high')\n",
      "(2, 'medium')\n",
      "(3, 'low')\n"
     ]
    }
   ],
   "source": [
    "pq = asyncio.PriorityQueue()\n",
    "\n",
    "# Entries are typically tuples of the form (priority_number, data).\n",
    "await pq.put((3, \"low\"))\n",
    "await pq.put((1, \"high\"))\n",
    "await pq.put((2, \"medium\"))\n",
    "\n",
    "while not pq.empty():\n",
    "    print(await pq.get())\n",
    "    pq.task_done()"
   ]
  },
  {
   "cell_type": "markdown",
   "id": "4349ac29",
   "metadata": {},
   "source": [
    "### heapq"
   ]
  },
  {
   "cell_type": "code",
   "execution_count": 15,
   "id": "90033757",
   "metadata": {},
   "outputs": [],
   "source": [
    "import heapq"
   ]
  },
  {
   "cell_type": "code",
   "execution_count": 18,
   "id": "7d9ff928",
   "metadata": {},
   "outputs": [
    {
     "name": "stdout",
     "output_type": "stream",
     "text": [
      "[1, 3, 9, 5, 7]\n"
     ]
    }
   ],
   "source": [
    "\n",
    "data = [5, 1, 9, 3, 7]\n",
    "heapq.heapify(data)\n",
    "print(data)  # now a valid heap, not fully sorted\n"
   ]
  },
  {
   "cell_type": "code",
   "execution_count": 19,
   "id": "2986dacc",
   "metadata": {},
   "outputs": [
    {
     "name": "stdout",
     "output_type": "stream",
     "text": [
      "[1, 3, 2, 5, 7, 9]\n"
     ]
    }
   ],
   "source": [
    "heapq.heappush(data, 2)\n",
    "print(data)"
   ]
  },
  {
   "cell_type": "code",
   "execution_count": 21,
   "id": "5cc2119d",
   "metadata": {},
   "outputs": [
    {
     "name": "stdout",
     "output_type": "stream",
     "text": [
      "smallest: 1\n"
     ]
    }
   ],
   "source": [
    "print(f\"smallest: {heapq.heappop(data)}\")"
   ]
  },
  {
   "cell_type": "code",
   "execution_count": 22,
   "id": "0a2c3a1b",
   "metadata": {},
   "outputs": [
    {
     "data": {
      "text/plain": [
       "0"
      ]
     },
     "execution_count": 22,
     "metadata": {},
     "output_type": "execute_result"
    }
   ],
   "source": [
    "# Push then pop (more efficient than separate ops)\n",
    "heapq.heappushpop(data, 0)"
   ]
  },
  {
   "cell_type": "code",
   "execution_count": 23,
   "id": "587c75d8",
   "metadata": {},
   "outputs": [
    {
     "name": "stdout",
     "output_type": "stream",
     "text": [
      "[3, 5, 9, 8, 7]\n"
     ]
    }
   ],
   "source": [
    "heapq.heapreplace(data, 8)  # pops smallest, then pushes 8\n",
    "print(data)"
   ]
  },
  {
   "cell_type": "code",
   "execution_count": 25,
   "id": "30af4987",
   "metadata": {},
   "outputs": [
    {
     "data": {
      "text/plain": [
       "[9, 8]"
      ]
     },
     "execution_count": 25,
     "metadata": {},
     "output_type": "execute_result"
    }
   ],
   "source": [
    "heapq.nlargest(2, data)"
   ]
  },
  {
   "cell_type": "code",
   "execution_count": 26,
   "id": "5134d108",
   "metadata": {},
   "outputs": [
    {
     "data": {
      "text/plain": [
       "[3, 5]"
      ]
     },
     "execution_count": 26,
     "metadata": {},
     "output_type": "execute_result"
    }
   ],
   "source": [
    "heapq.nsmallest(2, data)"
   ]
  },
  {
   "cell_type": "code",
   "execution_count": 27,
   "id": "30b1be77",
   "metadata": {},
   "outputs": [
    {
     "name": "stdout",
     "output_type": "stream",
     "text": [
      "(1, 'write code')\n",
      "(2, 'do homework')\n",
      "(3, 'eat food')\n"
     ]
    }
   ],
   "source": [
    "tasks = []\n",
    "heapq.heappush(tasks, (2, \"do homework\"))\n",
    "heapq.heappush(tasks, (1, \"write code\"))\n",
    "heapq.heappush(tasks, (3, \"eat food\"))\n",
    "\n",
    "while tasks:\n",
    "    print(heapq.heappop(tasks))"
   ]
  },
  {
   "cell_type": "code",
   "execution_count": null,
   "id": "d2173900",
   "metadata": {},
   "outputs": [],
   "source": []
  }
 ],
 "metadata": {
  "kernelspec": {
   "display_name": "Python 3",
   "language": "python",
   "name": "python3"
  },
  "language_info": {
   "codemirror_mode": {
    "name": "ipython",
    "version": 3
   },
   "file_extension": ".py",
   "mimetype": "text/x-python",
   "name": "python",
   "nbconvert_exporter": "python",
   "pygments_lexer": "ipython3",
   "version": "3.10.12"
  }
 },
 "nbformat": 4,
 "nbformat_minor": 5
}
