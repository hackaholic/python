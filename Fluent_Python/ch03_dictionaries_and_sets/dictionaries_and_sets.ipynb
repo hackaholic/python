{
 "cells": [
  {
   "cell_type": "code",
   "execution_count": 11,
   "id": "95e6d2d5",
   "metadata": {},
   "outputs": [
    {
     "data": {
      "text/plain": [
       "{'A': 65, 'B': 66, 'C': 67, 'D': 68, 'E': 69}"
      ]
     },
     "execution_count": 11,
     "metadata": {},
     "output_type": "execute_result"
    }
   ],
   "source": [
    "# dict comprehension\n",
    "char_ascii = { chr(i): i for i in range(65, 70)}\n",
    "char_ascii"
   ]
  },
  {
   "cell_type": "code",
   "execution_count": 12,
   "id": "a2095fba",
   "metadata": {},
   "outputs": [
    {
     "data": {
      "text/plain": [
       "{'a': 1, 'x': 24, 'y': 25, 'b': 2}"
      ]
     },
     "execution_count": 12,
     "metadata": {},
     "output_type": "execute_result"
    }
   ],
   "source": [
    "# unpacking\n",
    "\n",
    "{'a': 1 , **{'x':24, 'y': 25}, 'b':2}"
   ]
  },
  {
   "cell_type": "code",
   "execution_count": 17,
   "id": "3b2840eb",
   "metadata": {},
   "outputs": [
    {
     "data": {
      "text/plain": [
       "{'A': 65, 'B': 66, 'C': 67, 'D': 68, 'E': 69, 'F': 70, 'G': 71, 'H': 72}"
      ]
     },
     "execution_count": 17,
     "metadata": {},
     "output_type": "execute_result"
    }
   ],
   "source": [
    "d1 = { chr(i): i for i in range(65, 70)}\n",
    "d2 = { chr(i): i for i in range(68, 73)}\n",
    "\n",
    "# union of dict\n",
    "d1 | d2"
   ]
  },
  {
   "cell_type": "code",
   "execution_count": null,
   "id": "f119417c",
   "metadata": {},
   "outputs": [
    {
     "data": {
      "text/plain": [
       "{'A': 65, 'B': 66, 'C': 67, 'D': 68, 'E': 69, 'F': 70, 'G': 71, 'H': 72}"
      ]
     },
     "execution_count": 18,
     "metadata": {},
     "output_type": "execute_result"
    }
   ],
   "source": [
    "# inplace union\n",
    "d1 |= d2\n",
    "d1"
   ]
  },
  {
   "cell_type": "code",
   "execution_count": null,
   "id": "338e701e",
   "metadata": {},
   "outputs": [
    {
     "name": "stdout",
     "output_type": "stream",
     "text": [
      "maths ['Coco']\n",
      "physics ['Dora']\n",
      "chemistry ['Giner', 'Niko', 'possom bro']\n",
      "computer []\n"
     ]
    }
   ],
   "source": [
    "# Pattern matching\n",
    "\n",
    "def get_book(record: dict) -> list:\n",
    "    match record:\n",
    "        case {'book': 'maths', 'api': 1, 'authors': name}: \n",
    "            print(\"maths\", end=\" \")\n",
    "            return [name]\n",
    "        case {'book': 'science', 'api': 1, 'authors': [*names]}:\n",
    "            print(\"science\", end=\" \")\n",
    "            return names\n",
    "        case {'book': 'physics', 'api': 2, 'authors': str(name)}:\n",
    "            print(\"physics\", end=\" \")\n",
    "            return [name]\n",
    "        case {'book': 'chemistry', 'api': 2, 'authors': list(names)}:\n",
    "            print(\"chemistry\", end=\" \")\n",
    "            return names\n",
    "        case {'book': 'computer', **details}:\n",
    "            print(\"computer\", end=\" \")\n",
    "            return details.get('authors', [])\n",
    "            \n",
    "        case _: \n",
    "            raise ValueError(f\"Invalid book {record!r}\")\n",
    "    \n",
    "\n",
    "print(get_book({'book': 'maths', 'api': 1, 'authors': 'Coco'}))\n",
    "print(get_book({'book': 'physics', 'api': 2, 'authors': 'Dora'}))\n",
    "print(get_book({'book': 'chemistry', 'api': 2, 'authors': ['Giner', 'Niko', 'possom bro']}))\n",
    "print(get_book({'book': 'computer', 'api': 1}))\n"
   ]
  },
  {
   "cell_type": "code",
   "execution_count": 36,
   "id": "c550f6aa",
   "metadata": {},
   "outputs": [
    {
     "data": {
      "text/plain": [
       "True"
      ]
     },
     "execution_count": 36,
     "metadata": {},
     "output_type": "execute_result"
    }
   ],
   "source": [
    "import collections\n",
    "import collections.abc as abc\n",
    "isinstance(d1, abc.Mapping)"
   ]
  },
  {
   "cell_type": "code",
   "execution_count": 35,
   "id": "ae7f596d",
   "metadata": {},
   "outputs": [
    {
     "data": {
      "text/plain": [
       "True"
      ]
     },
     "execution_count": 35,
     "metadata": {},
     "output_type": "execute_result"
    }
   ],
   "source": [
    "isinstance(d1, abc.MutableMapping)"
   ]
  },
  {
   "cell_type": "code",
   "execution_count": 49,
   "id": "822c7db1",
   "metadata": {},
   "outputs": [],
   "source": [
    "from collections import UserDict\n",
    "\n",
    "class CaseInsensitiveDict(UserDict):\n",
    "    def __init__(self, *args, **kwargs):\n",
    "        self._keymap = {}  # maps lowercase key → original key\n",
    "        super().__init__(*args, **kwargs)\n",
    "\n",
    "    def _lower(self, key):\n",
    "        return key.lower() if isinstance(key, str) else key\n",
    "\n",
    "    def __setitem__(self, key, value):\n",
    "        lower_key = self._lower(key)\n",
    "        if lower_key in self._keymap:\n",
    "            actual_key = self._keymap[lower_key]\n",
    "        else:\n",
    "            actual_key = key\n",
    "            self._keymap[lower_key] = key\n",
    "        self.data[actual_key] = value\n",
    "\n",
    "    def __getitem__(self, key):\n",
    "        lower_key = self._lower(key)\n",
    "        actual_key = self._keymap[lower_key]\n",
    "        return self.data[actual_key]\n",
    "\n",
    "    def __delitem__(self, key):\n",
    "        lower_key = self._lower(key)\n",
    "        actual_key = self._keymap.pop(lower_key)\n",
    "        del self.data[actual_key]\n",
    "\n",
    "    def __contains__(self, key):\n",
    "        return self._lower(key) in self._keymap\n",
    "\n",
    "    def get(self, key, default=None):\n",
    "        return self[key] if key in self else default\n"
   ]
  },
  {
   "cell_type": "code",
   "execution_count": 51,
   "id": "59400cde",
   "metadata": {},
   "outputs": [
    {
     "name": "stdout",
     "output_type": "stream",
     "text": [
      "localhost\n",
      "Mozilla\n",
      "True\n",
      "{'Host': '127.0.0.1', 'User-Agent': 'Mozilla', 'Content-Type': 'application/json'}\n"
     ]
    }
   ],
   "source": [
    "cid = CaseInsensitiveDict()\n",
    "\n",
    "cid[\"Host\"] = \"localhost\"\n",
    "cid[\"User-Agent\"] = \"Mozilla\"\n",
    "cid[\"Content-Type\"] = \"application/json\"\n",
    "\n",
    "print(cid[\"host\"])         # localhost\n",
    "print(cid[\"USER-AGENT\"])   # Mozilla\n",
    "\n",
    "print(\"HOST\" in cid)       # True\n",
    "\n",
    "cid[\"host\"] = \"127.0.0.1\"  # overwrite\n",
    "\n",
    "print(cid)  # original keys preserved!\n"
   ]
  },
  {
   "cell_type": "markdown",
   "id": "4667dab1",
   "metadata": {},
   "source": [
    "### Hashable"
   ]
  },
  {
   "cell_type": "code",
   "execution_count": 53,
   "id": "175ae322",
   "metadata": {},
   "outputs": [
    {
     "data": {
      "text/plain": [
       "529344067295497451"
      ]
     },
     "execution_count": 53,
     "metadata": {},
     "output_type": "execute_result"
    }
   ],
   "source": [
    "t = (1,2, 3)\n",
    "hash(t)"
   ]
  },
  {
   "cell_type": "code",
   "execution_count": null,
   "id": "a76049c8",
   "metadata": {},
   "outputs": [
    {
     "name": "stdout",
     "output_type": "stream",
     "text": [
      "10\n",
      "-8048573879111871024\n",
      "529344067295497451\n"
     ]
    },
    {
     "ename": "TypeError",
     "evalue": "unhashable type: 'list'",
     "output_type": "error",
     "traceback": [
      "\u001b[0;31m---------------------------------------------------------------------------\u001b[0m",
      "\u001b[0;31mTypeError\u001b[0m                                 Traceback (most recent call last)",
      "Cell \u001b[0;32mIn[56], line 4\u001b[0m\n\u001b[1;32m      2\u001b[0m \u001b[38;5;28mprint\u001b[39m(\u001b[38;5;28mhash\u001b[39m(\u001b[38;5;124m\"\u001b[39m\u001b[38;5;124mhello\u001b[39m\u001b[38;5;124m\"\u001b[39m))      \u001b[38;5;66;03m# ✅ OK\u001b[39;00m\n\u001b[1;32m      3\u001b[0m \u001b[38;5;28mprint\u001b[39m(\u001b[38;5;28mhash\u001b[39m((\u001b[38;5;241m1\u001b[39m, \u001b[38;5;241m2\u001b[39m, \u001b[38;5;241m3\u001b[39m)))     \u001b[38;5;66;03m# ✅ OK\u001b[39;00m\n\u001b[0;32m----> 4\u001b[0m \u001b[38;5;28mprint\u001b[39m(\u001b[38;5;28;43mhash\u001b[39;49m\u001b[43m(\u001b[49m\u001b[43m[\u001b[49m\u001b[38;5;241;43m1\u001b[39;49m\u001b[43m,\u001b[49m\u001b[43m \u001b[49m\u001b[38;5;241;43m2\u001b[39;49m\u001b[43m,\u001b[49m\u001b[43m \u001b[49m\u001b[38;5;241;43m3\u001b[39;49m\u001b[43m]\u001b[49m\u001b[43m)\u001b[49m)     \u001b[38;5;66;03m# ❌ TypeError: unhashable type: 'list'\u001b[39;00m\n",
      "\u001b[0;31mTypeError\u001b[0m: unhashable type: 'list'"
     ]
    }
   ],
   "source": [
    "print(hash(10))           \n",
    "print(hash(\"hello\"))      \n",
    "print(hash((1, 2, 3)))\n",
    "print(hash([1, 2, 3]))     # TypeError: unhashable type: 'list'\n"
   ]
  },
  {
   "cell_type": "code",
   "execution_count": 57,
   "id": "14b2d543",
   "metadata": {},
   "outputs": [
    {
     "ename": "TypeError",
     "evalue": "unhashable type: 'list'",
     "output_type": "error",
     "traceback": [
      "\u001b[0;31m---------------------------------------------------------------------------\u001b[0m",
      "\u001b[0;31mTypeError\u001b[0m                                 Traceback (most recent call last)",
      "Cell \u001b[0;32mIn[57], line 2\u001b[0m\n\u001b[1;32m      1\u001b[0m t \u001b[38;5;241m=\u001b[39m (\u001b[38;5;241m1\u001b[39m,\u001b[38;5;241m2\u001b[39m, [\u001b[38;5;241m3\u001b[39m, \u001b[38;5;241m4\u001b[39m])\n\u001b[0;32m----> 2\u001b[0m \u001b[38;5;28;43mhash\u001b[39;49m\u001b[43m(\u001b[49m\u001b[43mt\u001b[49m\u001b[43m)\u001b[49m\n",
      "\u001b[0;31mTypeError\u001b[0m: unhashable type: 'list'"
     ]
    }
   ],
   "source": [
    "t = (1,2, [3, 4])\n",
    "hash(t)"
   ]
  },
  {
   "cell_type": "code",
   "execution_count": 59,
   "id": "121e9bf1",
   "metadata": {},
   "outputs": [
    {
     "name": "stdout",
     "output_type": "stream",
     "text": [
      "True\n",
      "False\n",
      "True\n"
     ]
    }
   ],
   "source": [
    "# Check If Something Is Hashable\n",
    "from collections.abc import Hashable\n",
    "\n",
    "print(isinstance(10, Hashable))        # True\n",
    "print(isinstance([1, 2], Hashable))    # False\n",
    "print(isinstance((1, 2), Hashable))    # True\n"
   ]
  },
  {
   "cell_type": "code",
   "execution_count": null,
   "id": "55a3eb24",
   "metadata": {},
   "outputs": [
    {
     "name": "stdout",
     "output_type": "stream",
     "text": [
      "{'a': ['apple', 'apricot'], 'b': ['banana', 'blueberry']}\n"
     ]
    }
   ],
   "source": [
    "# dict.setDefault\n",
    "\n",
    "# setdefault(key, default) — Lookup AND set\n",
    "\n",
    "#     Returns the value if key exists\n",
    "\n",
    "#     Else inserts key = default into the dictionary\n",
    "\n",
    "#     Modifies the dictionary if the key is missing\n",
    "\n",
    "words = ['apple', 'banana', 'apricot', 'blueberry']\n",
    "\n",
    "grouped = {}\n",
    "\n",
    "for word in words:\n",
    "    first_letter = word[0]\n",
    "    grouped.setdefault(first_letter, []).append(word)\n",
    "\n",
    "print(grouped)\n"
   ]
  },
  {
   "cell_type": "code",
   "execution_count": 62,
   "id": "db2c4bb8",
   "metadata": {},
   "outputs": [
    {
     "name": "stdout",
     "output_type": "stream",
     "text": [
      "  1           0 LOAD_NAME                0 (grouped)\n",
      "              2 LOAD_METHOD              1 (setdefault)\n",
      "              4 LOAD_NAME                2 (first_letter)\n",
      "              6 BUILD_LIST               0\n",
      "              8 CALL_METHOD              2\n",
      "             10 LOAD_METHOD              3 (append)\n",
      "             12 LOAD_NAME                4 (word)\n",
      "             14 CALL_METHOD              1\n",
      "             16 RETURN_VALUE\n"
     ]
    }
   ],
   "source": [
    "import dis\n",
    "dis.dis(\"grouped.setdefault(first_letter, []).append(word)\")"
   ]
  },
  {
   "cell_type": "code",
   "execution_count": 74,
   "id": "059e1ca2",
   "metadata": {},
   "outputs": [],
   "source": [
    "class strKeytDict0(dict):\n",
    "    def __missing__(self, key):\n",
    "        if isinstance(key, str):\n",
    "            raise KeyError\n",
    "        return self[str(key)]\n",
    "    \n",
    "    def get(self, key, default=None):\n",
    "        try:\n",
    "            return self[key]\n",
    "        except KeyError:\n",
    "            return default\n",
    "    \n",
    "    def __contains__(self, key):\n",
    "        return key in self or str(key) in self\n",
    "    \n",
    "\n",
    "d = strKeytDict0({'2': 'two', '4': 'four'})"
   ]
  },
  {
   "cell_type": "code",
   "execution_count": 67,
   "id": "831bd98e",
   "metadata": {},
   "outputs": [
    {
     "data": {
      "text/plain": [
       "'two'"
      ]
     },
     "execution_count": 67,
     "metadata": {},
     "output_type": "execute_result"
    }
   ],
   "source": [
    "d['2']"
   ]
  },
  {
   "cell_type": "code",
   "execution_count": 66,
   "id": "529f3818",
   "metadata": {},
   "outputs": [
    {
     "data": {
      "text/plain": [
       "'four'"
      ]
     },
     "execution_count": 66,
     "metadata": {},
     "output_type": "execute_result"
    }
   ],
   "source": [
    "d[4]"
   ]
  },
  {
   "cell_type": "code",
   "execution_count": 68,
   "id": "eb36b6f3",
   "metadata": {},
   "outputs": [
    {
     "ename": "KeyError",
     "evalue": "",
     "output_type": "error",
     "traceback": [
      "\u001b[0;31m---------------------------------------------------------------------------\u001b[0m",
      "\u001b[0;31mKeyError\u001b[0m                                  Traceback (most recent call last)",
      "Cell \u001b[0;32mIn[68], line 1\u001b[0m\n\u001b[0;32m----> 1\u001b[0m \u001b[43md\u001b[49m\u001b[43m[\u001b[49m\u001b[38;5;124;43m'\u001b[39;49m\u001b[38;5;124;43m5\u001b[39;49m\u001b[38;5;124;43m'\u001b[39;49m\u001b[43m]\u001b[49m\n",
      "Cell \u001b[0;32mIn[63], line 4\u001b[0m, in \u001b[0;36mstrictDict0.__missing__\u001b[0;34m(self, key)\u001b[0m\n\u001b[1;32m      2\u001b[0m \u001b[38;5;28;01mdef\u001b[39;00m\u001b[38;5;250m \u001b[39m\u001b[38;5;21m__missing__\u001b[39m(\u001b[38;5;28mself\u001b[39m, key):\n\u001b[1;32m      3\u001b[0m     \u001b[38;5;28;01mif\u001b[39;00m \u001b[38;5;28misinstance\u001b[39m(key, \u001b[38;5;28mstr\u001b[39m):\n\u001b[0;32m----> 4\u001b[0m         \u001b[38;5;28;01mraise\u001b[39;00m \u001b[38;5;167;01mKeyError\u001b[39;00m\n\u001b[1;32m      5\u001b[0m     \u001b[38;5;28;01mreturn\u001b[39;00m \u001b[38;5;28mself\u001b[39m[\u001b[38;5;28mstr\u001b[39m(key)]\n",
      "\u001b[0;31mKeyError\u001b[0m: "
     ]
    }
   ],
   "source": [
    "d['5']"
   ]
  },
  {
   "cell_type": "code",
   "execution_count": 69,
   "id": "b1d185e7",
   "metadata": {},
   "outputs": [
    {
     "data": {
      "text/plain": [
       "defaultdict(int, {'even': 5, 'odd': 4})"
      ]
     },
     "execution_count": 69,
     "metadata": {},
     "output_type": "execute_result"
    }
   ],
   "source": [
    "# defaultdict\n",
    "\n",
    "dd = collections.defaultdict(int)\n",
    "\n",
    "for i in range(2, 11):\n",
    "    if i%2 == 0:\n",
    "        dd['even'] += 1\n",
    "    else:\n",
    "        dd['odd'] += 1\n",
    "\n",
    "dd  "
   ]
  },
  {
   "cell_type": "code",
   "execution_count": null,
   "id": "712590f1",
   "metadata": {},
   "outputs": [
    {
     "data": {
      "text/plain": [
       "4"
      ]
     },
     "execution_count": 71,
     "metadata": {},
     "output_type": "execute_result"
    }
   ],
   "source": [
    "# collections.chainmap \n",
    "#  roups multiple dicts or other mappings together to create a single, updateable view\n",
    "\n",
    "\n",
    "d1 = dict(a=1, b=1)\n",
    "d2 = dict(c=3, d=4, e=5)\n",
    "chain_dict = collections.ChainMap(d1, d2)\n",
    "\n",
    "chain_dict['d']"
   ]
  },
  {
   "cell_type": "code",
   "execution_count": 85,
   "id": "b8b44eaa",
   "metadata": {},
   "outputs": [],
   "source": [
    "# Subclassing collections.UserDict\n",
    "\n",
    "class StrkeyDict(collections.UserDict):\n",
    "    def __missing__(self, key):\n",
    "        if isinstance(key, str):\n",
    "            raise KeyError\n",
    "        return self[str(key)]\n",
    "    \n",
    "    def __setitem__(self, key, item):\n",
    "        self.data[str(key)] = item\n",
    "    \n",
    "    def __contains__(self, key):\n",
    "        print(self)\n",
    "        return str(key) in self.data\n",
    "    \n",
    "    def is_self_data(self):\n",
    "        print(self is self.data)\n",
    "        print(self)\n",
    "        print(self.data)"
   ]
  },
  {
   "cell_type": "code",
   "execution_count": 86,
   "id": "0cf24d22",
   "metadata": {},
   "outputs": [
    {
     "data": {
      "text/plain": [
       "{'2': 'two', '4': 'four', '3': 'three'}"
      ]
     },
     "execution_count": 86,
     "metadata": {},
     "output_type": "execute_result"
    }
   ],
   "source": [
    "sd = StrkeyDict({'2': 'two', '4': 'four'})\n",
    "sd['3']= 'three'\n",
    "sd "
   ]
  },
  {
   "cell_type": "code",
   "execution_count": 78,
   "id": "ad692399",
   "metadata": {},
   "outputs": [
    {
     "data": {
      "text/plain": [
       "'three'"
      ]
     },
     "execution_count": 78,
     "metadata": {},
     "output_type": "execute_result"
    }
   ],
   "source": [
    "sd.get('3')"
   ]
  },
  {
   "cell_type": "code",
   "execution_count": 87,
   "id": "0405ad61",
   "metadata": {},
   "outputs": [
    {
     "name": "stdout",
     "output_type": "stream",
     "text": [
      "False\n",
      "{'2': 'two', '4': 'four', '3': 'three'}\n",
      "{'2': 'two', '4': 'four', '3': 'three'}\n"
     ]
    }
   ],
   "source": [
    "sd.is_self_data()"
   ]
  },
  {
   "cell_type": "code",
   "execution_count": 89,
   "id": "ea37f18a",
   "metadata": {},
   "outputs": [
    {
     "data": {
      "text/plain": [
       "dict_keys(['a', 'b', 'c'])"
      ]
     },
     "execution_count": 89,
     "metadata": {},
     "output_type": "execute_result"
    }
   ],
   "source": [
    "# Dictionary views\n",
    "\n",
    "d = dict(a=10, b=20, c=30)\n",
    "keys = d.keys()\n",
    "keys"
   ]
  },
  {
   "cell_type": "code",
   "execution_count": 90,
   "id": "daa57a17",
   "metadata": {},
   "outputs": [
    {
     "data": {
      "text/plain": [
       "dict_values([10, 20, 30])"
      ]
     },
     "execution_count": 90,
     "metadata": {},
     "output_type": "execute_result"
    }
   ],
   "source": [
    "values = d.values()\n",
    "values"
   ]
  },
  {
   "cell_type": "code",
   "execution_count": 91,
   "id": "e752bc25",
   "metadata": {},
   "outputs": [
    {
     "ename": "TypeError",
     "evalue": "'dict_values' object is not subscriptable",
     "output_type": "error",
     "traceback": [
      "\u001b[0;31m---------------------------------------------------------------------------\u001b[0m",
      "\u001b[0;31mTypeError\u001b[0m                                 Traceback (most recent call last)",
      "Cell \u001b[0;32mIn[91], line 1\u001b[0m\n\u001b[0;32m----> 1\u001b[0m \u001b[43mvalues\u001b[49m\u001b[43m[\u001b[49m\u001b[38;5;241;43m0\u001b[39;49m\u001b[43m]\u001b[49m\n",
      "\u001b[0;31mTypeError\u001b[0m: 'dict_values' object is not subscriptable"
     ]
    }
   ],
   "source": [
    "values[0]"
   ]
  },
  {
   "cell_type": "code",
   "execution_count": 94,
   "id": "dac63c6d",
   "metadata": {},
   "outputs": [
    {
     "data": {
      "text/plain": [
       "{'a': 10, 'b': 20, 'c': 30, 'z': 99}"
      ]
     },
     "execution_count": 94,
     "metadata": {},
     "output_type": "execute_result"
    }
   ],
   "source": [
    "d['z'] = 99\n",
    "d"
   ]
  },
  {
   "cell_type": "code",
   "execution_count": 96,
   "id": "c95557ec",
   "metadata": {},
   "outputs": [
    {
     "data": {
      "text/plain": [
       "dict_values([10, 20, 30, 99])"
      ]
     },
     "execution_count": 96,
     "metadata": {},
     "output_type": "execute_result"
    }
   ],
   "source": [
    "# A view object is dynamic proxy\n",
    "values"
   ]
  },
  {
   "cell_type": "markdown",
   "id": "4ac3bffe",
   "metadata": {},
   "source": [
    "### Sets"
   ]
  },
  {
   "cell_type": "code",
   "execution_count": 99,
   "id": "7f2b2f96",
   "metadata": {},
   "outputs": [
    {
     "data": {
      "text/plain": [
       "{1, 2, 3, 4, 5, 6}"
      ]
     },
     "execution_count": 99,
     "metadata": {},
     "output_type": "execute_result"
    }
   ],
   "source": [
    "l = [1, 2, 3, 2, 1, 4 ,5 , 6, 5]\n",
    "set(l)"
   ]
  },
  {
   "cell_type": "code",
   "execution_count": 104,
   "id": "47add150",
   "metadata": {},
   "outputs": [
    {
     "data": {
      "text/plain": [
       "set"
      ]
     },
     "execution_count": 104,
     "metadata": {},
     "output_type": "execute_result"
    }
   ],
   "source": [
    "# set literal\n",
    "s = {1}\n",
    "\n",
    "type(s)"
   ]
  },
  {
   "cell_type": "code",
   "execution_count": 105,
   "id": "c1773e5b",
   "metadata": {},
   "outputs": [
    {
     "name": "stdout",
     "output_type": "stream",
     "text": [
      "1\n"
     ]
    },
    {
     "data": {
      "text/plain": [
       "set()"
      ]
     },
     "execution_count": 105,
     "metadata": {},
     "output_type": "execute_result"
    }
   ],
   "source": [
    "print(s.pop())\n",
    "s"
   ]
  },
  {
   "cell_type": "code",
   "execution_count": 108,
   "id": "4d0ca357",
   "metadata": {},
   "outputs": [
    {
     "data": {
      "text/plain": [
       "'LATIN SMALL LETTER A'"
      ]
     },
     "execution_count": 108,
     "metadata": {},
     "output_type": "execute_result"
    }
   ],
   "source": [
    "# set comphrensions\n",
    "\n",
    "import unicodedata\n",
    "\n",
    "unicodedata.name('a')"
   ]
  },
  {
   "cell_type": "code",
   "execution_count": 119,
   "id": "c09f02f5",
   "metadata": {},
   "outputs": [
    {
     "data": {
      "text/plain": [
       "{'#',\n",
       " '$',\n",
       " '%',\n",
       " '+',\n",
       " '<',\n",
       " '=',\n",
       " '>',\n",
       " '¢',\n",
       " '£',\n",
       " '¤',\n",
       " '¥',\n",
       " '§',\n",
       " '©',\n",
       " '¬',\n",
       " '®',\n",
       " '°',\n",
       " '±',\n",
       " 'µ',\n",
       " '¶',\n",
       " '×',\n",
       " '÷'}"
      ]
     },
     "execution_count": 119,
     "metadata": {},
     "output_type": "execute_result"
    }
   ],
   "source": [
    "{chr(i) for i in range(32, 256) if 'SIGN' in unicodedata.name(chr(i), \"\")}"
   ]
  },
  {
   "cell_type": "code",
   "execution_count": 118,
   "id": "8286e9b9",
   "metadata": {},
   "outputs": [
    {
     "data": {
      "text/plain": [
       "'LATIN SMALL LETTER B'"
      ]
     },
     "execution_count": 118,
     "metadata": {},
     "output_type": "execute_result"
    }
   ],
   "source": [
    "unicodedata.name('b')"
   ]
  },
  {
   "cell_type": "code",
   "execution_count": null,
   "id": "ebcff34a",
   "metadata": {},
   "outputs": [],
   "source": []
  }
 ],
 "metadata": {
  "kernelspec": {
   "display_name": "Python 3",
   "language": "python",
   "name": "python3"
  },
  "language_info": {
   "codemirror_mode": {
    "name": "ipython",
    "version": 3
   },
   "file_extension": ".py",
   "mimetype": "text/x-python",
   "name": "python",
   "nbconvert_exporter": "python",
   "pygments_lexer": "ipython3",
   "version": "3.10.12"
  }
 },
 "nbformat": 4,
 "nbformat_minor": 5
}
