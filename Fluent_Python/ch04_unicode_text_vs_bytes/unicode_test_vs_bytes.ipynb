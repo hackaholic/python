{
 "cells": [
  {
   "cell_type": "code",
   "execution_count": 1,
   "id": "d67d184a",
   "metadata": {},
   "outputs": [
    {
     "data": {
      "text/plain": [
       "'café'"
      ]
     },
     "execution_count": 1,
     "metadata": {},
     "output_type": "execute_result"
    }
   ],
   "source": [
    "# encoding and decoding\n",
    "\n",
    "s = \"café\"\n",
    "s"
   ]
  },
  {
   "cell_type": "code",
   "execution_count": 158,
   "id": "caa787ea",
   "metadata": {},
   "outputs": [
    {
     "data": {
      "text/plain": [
       "b'caf\\xc3\\xa9'"
      ]
     },
     "execution_count": 158,
     "metadata": {},
     "output_type": "execute_result"
    }
   ],
   "source": [
    "b = s.encode(encoding='utf-8')\n",
    "b"
   ]
  },
  {
   "cell_type": "code",
   "execution_count": 159,
   "id": "23fefb11",
   "metadata": {},
   "outputs": [
    {
     "data": {
      "text/plain": [
       "5"
      ]
     },
     "execution_count": 159,
     "metadata": {},
     "output_type": "execute_result"
    }
   ],
   "source": [
    "len(b)"
   ]
  },
  {
   "cell_type": "code",
   "execution_count": 160,
   "id": "4a610be0",
   "metadata": {},
   "outputs": [
    {
     "data": {
      "text/plain": [
       "b'caf\\xc3\\xa9'"
      ]
     },
     "execution_count": 160,
     "metadata": {},
     "output_type": "execute_result"
    }
   ],
   "source": [
    "cafe = bytes(s, encoding='utf-8')\n",
    "cafe"
   ]
  },
  {
   "cell_type": "code",
   "execution_count": 161,
   "id": "e9362466",
   "metadata": {},
   "outputs": [
    {
     "data": {
      "text/plain": [
       "bytearray(b'caf\\xc3\\xa9')"
      ]
     },
     "execution_count": 161,
     "metadata": {},
     "output_type": "execute_result"
    }
   ],
   "source": [
    "# bytearray from str\n",
    "cafe_array = bytearray(s, encoding='utf-8')\n",
    "cafe_array"
   ]
  },
  {
   "cell_type": "code",
   "execution_count": 162,
   "id": "a06bd74b",
   "metadata": {},
   "outputs": [
    {
     "data": {
      "text/plain": [
       "99"
      ]
     },
     "execution_count": 162,
     "metadata": {},
     "output_type": "execute_result"
    }
   ],
   "source": [
    "cafe_array[0]"
   ]
  },
  {
   "cell_type": "code",
   "execution_count": 163,
   "id": "55344105",
   "metadata": {},
   "outputs": [
    {
     "data": {
      "text/plain": [
       "bytearray(b'caf')"
      ]
     },
     "execution_count": 163,
     "metadata": {},
     "output_type": "execute_result"
    }
   ],
   "source": [
    "cafe_array[:3]"
   ]
  },
  {
   "cell_type": "code",
   "execution_count": 164,
   "id": "3ea40836",
   "metadata": {},
   "outputs": [
    {
     "data": {
      "text/plain": [
       "bytearray(b'caf\\xc3\\xa9')"
      ]
     },
     "execution_count": 164,
     "metadata": {},
     "output_type": "execute_result"
    }
   ],
   "source": [
    "# bytearray from bytes\n",
    "bytearray(cafe)"
   ]
  },
  {
   "cell_type": "code",
   "execution_count": 165,
   "id": "6f20fe36",
   "metadata": {},
   "outputs": [
    {
     "data": {
      "text/plain": [
       "bytearray(b'\\x00\\x00\\x00\\x00\\x00\\x00\\x00\\x00\\x00\\x00')"
      ]
     },
     "execution_count": 165,
     "metadata": {},
     "output_type": "execute_result"
    }
   ],
   "source": [
    "# bytearray of size n with null byte \\x00\n",
    "barr_zero = bytearray(10)\n",
    "barr_zero"
   ]
  },
  {
   "cell_type": "code",
   "execution_count": 166,
   "id": "ccdd1a6a",
   "metadata": {},
   "outputs": [
    {
     "data": {
      "text/plain": [
       "0"
      ]
     },
     "execution_count": 166,
     "metadata": {},
     "output_type": "execute_result"
    }
   ],
   "source": [
    "barr_zero[0]"
   ]
  },
  {
   "cell_type": "code",
   "execution_count": 167,
   "id": "cec04edd",
   "metadata": {},
   "outputs": [
    {
     "data": {
      "text/plain": [
       "bytearray(b'\\x01\\x02\\x03')"
      ]
     },
     "execution_count": 167,
     "metadata": {},
     "output_type": "execute_result"
    }
   ],
   "source": [
    "b_arr = bytearray([1,2,3])\n",
    "b_arr"
   ]
  },
  {
   "cell_type": "code",
   "execution_count": 27,
   "id": "2a7160b1",
   "metadata": {},
   "outputs": [
    {
     "data": {
      "text/plain": [
       "b'1K\\xceI'"
      ]
     },
     "execution_count": 27,
     "metadata": {},
     "output_type": "execute_result"
    }
   ],
   "source": [
    "bytes.fromhex('31 4B CE 49')"
   ]
  },
  {
   "cell_type": "code",
   "execution_count": 34,
   "id": "b770f8d0",
   "metadata": {},
   "outputs": [
    {
     "data": {
      "text/plain": [
       "b'\\x01\\x02\\x03'"
      ]
     },
     "execution_count": 34,
     "metadata": {},
     "output_type": "execute_result"
    }
   ],
   "source": [
    "k = bytes([1,2,3])\n",
    "k"
   ]
  },
  {
   "cell_type": "code",
   "execution_count": 42,
   "id": "098e5cae",
   "metadata": {},
   "outputs": [
    {
     "data": {
      "text/plain": [
       "b'\\xfe\\xff\\xff\\xff\\xff\\xff\\xff\\xff\\x00\\x00\\x00\\x00\\x01\\x00\\x00\\x00\\x02\\x00\\x00\\x00'"
      ]
     },
     "execution_count": 42,
     "metadata": {},
     "output_type": "execute_result"
    }
   ],
   "source": [
    "import array\n",
    "\n",
    "numbers = array.array('i', [-2, -1, 0, 1, 2])\n",
    "octets = bytes(numbers)\n",
    "octets"
   ]
  },
  {
   "cell_type": "code",
   "execution_count": 43,
   "id": "8269d1db",
   "metadata": {},
   "outputs": [
    {
     "data": {
      "text/plain": [
       "20"
      ]
     },
     "execution_count": 43,
     "metadata": {},
     "output_type": "execute_result"
    }
   ],
   "source": [
    "len(octets)"
   ]
  },
  {
   "cell_type": "markdown",
   "id": "f20ed5d5",
   "metadata": {},
   "source": [
    "### Basic Encoders and decoders"
   ]
  },
  {
   "cell_type": "code",
   "execution_count": null,
   "id": "1b033c60",
   "metadata": {},
   "outputs": [
    {
     "data": {
      "text/plain": [
       "'El Niño'"
      ]
     },
     "execution_count": 50,
     "metadata": {},
     "output_type": "execute_result"
    }
   ],
   "source": [
    "\n",
    "\n",
    "ustr = \"El Ni\\xF1o\"\n",
    "ustr"
   ]
  },
  {
   "cell_type": "code",
   "execution_count": 54,
   "id": "b4e136e0",
   "metadata": {},
   "outputs": [
    {
     "name": "stdout",
     "output_type": "stream",
     "text": [
      "hex, unicode, str\n"
     ]
    },
    {
     "data": {
      "text/plain": [
       "('ñ', 'ñ', 'ñ')"
      ]
     },
     "execution_count": 54,
     "metadata": {},
     "output_type": "execute_result"
    }
   ],
   "source": [
    "print('hex, unicode, str')\n",
    "chr(0xF1), '\\u00F1', '\\xF1'"
   ]
  },
  {
   "attachments": {
    "{7A0C7154-DE5B-43C1-83EC-2229A4C7B7C7}.png": {
     "image/png": "[encoded data removed]"
    }
   },
   "cell_type": "markdown",
   "id": "c800c4ab",
   "metadata": {},
   "source": [
    "![{7A0C7154-DE5B-43C1-83EC-2229A4C7B7C7}.png](attachment:{7A0C7154-DE5B-43C1-83EC-2229A4C7B7C7}.png)"
   ]
  },
  {
   "cell_type": "code",
   "execution_count": 65,
   "id": "5c772999",
   "metadata": {},
   "outputs": [
    {
     "ename": "UnicodeDecodeError",
     "evalue": "'utf-8' codec can't decode byte 0xf1 in position 0: unexpected end of data",
     "output_type": "error",
     "traceback": [
      "\u001b[0;31m---------------------------------------------------------------------------\u001b[0m",
      "\u001b[0;31mUnicodeDecodeError\u001b[0m                        Traceback (most recent call last)",
      "Cell \u001b[0;32mIn[65], line 2\u001b[0m\n\u001b[1;32m      1\u001b[0m b \u001b[38;5;241m=\u001b[39m \u001b[38;5;124mb\u001b[39m\u001b[38;5;124m'\u001b[39m\u001b[38;5;130;01m\\xF1\u001b[39;00m\u001b[38;5;124m'\u001b[39m\n\u001b[0;32m----> 2\u001b[0m \u001b[38;5;28mprint\u001b[39m(\u001b[43mb\u001b[49m\u001b[38;5;241;43m.\u001b[39;49m\u001b[43mdecode\u001b[49m\u001b[43m(\u001b[49m\u001b[38;5;124;43m'\u001b[39;49m\u001b[38;5;124;43mutf-8\u001b[39;49m\u001b[38;5;124;43m'\u001b[39;49m\u001b[43m)\u001b[49m)  \u001b[38;5;66;03m# ❌ UnicodeDecodeError: invalid start byte\u001b[39;00m\n",
      "\u001b[0;31mUnicodeDecodeError\u001b[0m: 'utf-8' codec can't decode byte 0xf1 in position 0: unexpected end of data"
     ]
    }
   ],
   "source": [
    "b = b'\\xF1'\n",
    "print(b.decode('utf-8'))  # ❌ UnicodeDecodeError: invalid start byte\n"
   ]
  },
  {
   "cell_type": "code",
   "execution_count": 58,
   "id": "acd6f06b",
   "metadata": {},
   "outputs": [
    {
     "data": {
      "text/plain": [
       "'A'"
      ]
     },
     "execution_count": 58,
     "metadata": {},
     "output_type": "execute_result"
    }
   ],
   "source": [
    "a = b'\\x41'\n",
    "a.decode('utf-8')"
   ]
  },
  {
   "cell_type": "code",
   "execution_count": 59,
   "id": "d6a9f10e",
   "metadata": {},
   "outputs": [
    {
     "data": {
      "text/plain": [
       "(b'A', b'\\xc3\\xb1')"
      ]
     },
     "execution_count": 59,
     "metadata": {},
     "output_type": "execute_result"
    }
   ],
   "source": [
    "'A'.encode('utf-8'), 'ñ'.encode('utf-8')"
   ]
  },
  {
   "cell_type": "code",
   "execution_count": 60,
   "id": "7275f4f6",
   "metadata": {},
   "outputs": [
    {
     "name": "stdout",
     "output_type": "stream",
     "text": [
      "utf-8 b'El Ni\\xc3\\xb1o'\n",
      "latin-1 b'El Ni\\xf1o'\n",
      "utf-16 b'\\xff\\xfeE\\x00l\\x00 \\x00N\\x00i\\x00\\xf1\\x00o\\x00'\n"
     ]
    }
   ],
   "source": [
    "for codec in ['utf-8', 'latin-1', 'utf-16']:\n",
    "    print(codec, 'El Niño'.encode(codec))"
   ]
  },
  {
   "cell_type": "markdown",
   "id": "2c8e913d",
   "metadata": {},
   "source": [
    "### Encode/Decode Error"
   ]
  },
  {
   "cell_type": "code",
   "execution_count": 80,
   "id": "e198c4e7",
   "metadata": {},
   "outputs": [
    {
     "name": "stdout",
     "output_type": "stream",
     "text": [
      "'charmap' codec can't encode character '\\xe3' in position 1: character maps to <undefined>\n"
     ]
    }
   ],
   "source": [
    "city = 'São Paulo'\n",
    "try:\n",
    "    city.encode('cp437')\n",
    "except UnicodeEncodeError as e:\n",
    "    print(e)"
   ]
  },
  {
   "cell_type": "code",
   "execution_count": 84,
   "id": "f51ae116",
   "metadata": {},
   "outputs": [
    {
     "data": {
      "text/plain": [
       "b'So Paulo'"
      ]
     },
     "execution_count": 84,
     "metadata": {},
     "output_type": "execute_result"
    }
   ],
   "source": [
    "city.encode('cp437', errors='ignore')   # loss of data"
   ]
  },
  {
   "cell_type": "code",
   "execution_count": 85,
   "id": "f579f65e",
   "metadata": {},
   "outputs": [
    {
     "data": {
      "text/plain": [
       "b'S?o Paulo'"
      ]
     },
     "execution_count": 85,
     "metadata": {},
     "output_type": "execute_result"
    }
   ],
   "source": [
    "city.encode('cp437', errors='replace') "
   ]
  },
  {
   "cell_type": "code",
   "execution_count": 86,
   "id": "7024e7d2",
   "metadata": {},
   "outputs": [
    {
     "data": {
      "text/plain": [
       "b'S&#227;o Paulo'"
      ]
     },
     "execution_count": 86,
     "metadata": {},
     "output_type": "execute_result"
    }
   ],
   "source": [
    "city.encode('cp437', errors='xmlcharrefreplace')"
   ]
  },
  {
   "cell_type": "code",
   "execution_count": 89,
   "id": "467956bb",
   "metadata": {},
   "outputs": [
    {
     "name": "stdout",
     "output_type": "stream",
     "text": [
      "'utf-8' codec can't decode byte 0xf1 in position 0: unexpected end of data\n"
     ]
    }
   ],
   "source": [
    "try:\n",
    "    b'\\xF1'.decode('utf-8')\n",
    "except UnicodeDecodeError as e:\n",
    "    print(e)"
   ]
  },
  {
   "cell_type": "code",
   "execution_count": null,
   "id": "da9b7aa7",
   "metadata": {},
   "outputs": [],
   "source": [
    "# discover the encoding of byte sequence.\n",
    "import chardet"
   ]
  },
  {
   "cell_type": "code",
   "execution_count": 92,
   "id": "0932d647",
   "metadata": {},
   "outputs": [
    {
     "data": {
      "text/plain": [
       "{'encoding': 'utf-8', 'confidence': 0.505, 'language': ''}"
      ]
     },
     "execution_count": 92,
     "metadata": {},
     "output_type": "execute_result"
    }
   ],
   "source": [
    "chardet.detect(b'El Ni\\xc3\\xb1o')"
   ]
  },
  {
   "cell_type": "code",
   "execution_count": 94,
   "id": "86398f6d",
   "metadata": {},
   "outputs": [
    {
     "data": {
      "text/plain": [
       "b'\\xff\\xfeE\\x00l\\x00 \\x00N\\x00i\\x00\\xf1\\x00o\\x00'"
      ]
     },
     "execution_count": 94,
     "metadata": {},
     "output_type": "execute_result"
    }
   ],
   "source": [
    "# byte order mark (BOM) , b'\\xff\\xfe'  -> 255 254\n",
    "\n",
    "u16 = 'El Niño'.encode('utf-16')\n",
    "u16   "
   ]
  },
  {
   "cell_type": "code",
   "execution_count": 95,
   "id": "92fb59e4",
   "metadata": {},
   "outputs": [
    {
     "data": {
      "text/plain": [
       "[255, 254, 69, 0, 108, 0, 32, 0, 78, 0, 105, 0, 241, 0, 111, 0]"
      ]
     },
     "execution_count": 95,
     "metadata": {},
     "output_type": "execute_result"
    }
   ],
   "source": [
    "list(u16)"
   ]
  },
  {
   "cell_type": "code",
   "execution_count": 98,
   "id": "9a8c41d5",
   "metadata": {},
   "outputs": [
    {
     "name": "stdout",
     "output_type": "stream",
     "text": [
      "b'E\\x00l\\x00 \\x00N\\x00i\\x00\\xf1\\x00o\\x00'\n"
     ]
    },
    {
     "data": {
      "text/plain": [
       "[69, 0, 108, 0, 32, 0, 78, 0, 105, 0, 241, 0, 111, 0]"
      ]
     },
     "execution_count": 98,
     "metadata": {},
     "output_type": "execute_result"
    }
   ],
   "source": [
    "u16le = 'El Niño'.encode('utf-16le')\n",
    "print(u16le)\n",
    "list(u16le)"
   ]
  },
  {
   "cell_type": "code",
   "execution_count": 99,
   "id": "681a541a",
   "metadata": {},
   "outputs": [
    {
     "name": "stdout",
     "output_type": "stream",
     "text": [
      "b'\\x00E\\x00l\\x00 \\x00N\\x00i\\x00\\xf1\\x00o'\n"
     ]
    },
    {
     "data": {
      "text/plain": [
       "[0, 69, 0, 108, 0, 32, 0, 78, 0, 105, 0, 241, 0, 111]"
      ]
     },
     "execution_count": 99,
     "metadata": {},
     "output_type": "execute_result"
    }
   ],
   "source": [
    "u16be = 'El Niño'.encode('utf-16be')\n",
    "print(u16be)\n",
    "list(u16be)"
   ]
  },
  {
   "cell_type": "markdown",
   "id": "7a100895",
   "metadata": {},
   "source": [
    "### Handeling Text Files"
   ]
  },
  {
   "cell_type": "code",
   "execution_count": 100,
   "id": "982804ab",
   "metadata": {},
   "outputs": [
    {
     "name": "stdout",
     "output_type": "stream",
     "text": [
      "<_io.TextIOWrapper name='cafe.txt' mode='w' encoding='utf-8'>\n"
     ]
    }
   ],
   "source": [
    "with open('cafe.txt', 'w', encoding='utf-8') as fp:\n",
    "    print(f'{fp!r}')\n",
    "    fp.write('café')\n"
   ]
  },
  {
   "cell_type": "code",
   "execution_count": 101,
   "id": "68049fdb",
   "metadata": {},
   "outputs": [
    {
     "data": {
      "text/plain": [
       "5"
      ]
     },
     "execution_count": 101,
     "metadata": {},
     "output_type": "execute_result"
    }
   ],
   "source": [
    "import os\n",
    "os.stat('cafe.txt').st_size"
   ]
  },
  {
   "cell_type": "code",
   "execution_count": 103,
   "id": "c5e68d4e",
   "metadata": {},
   "outputs": [
    {
     "name": "stdout",
     "output_type": "stream",
     "text": [
      "<_io.TextIOWrapper name='cafe.txt' mode='r' encoding='UTF-8'>\n",
      "café\n"
     ]
    }
   ],
   "source": [
    "with open('cafe.txt') as fp2:\n",
    "    print(f'{fp2!r}')\n",
    "    print(fp2.read())"
   ]
  },
  {
   "cell_type": "code",
   "execution_count": 104,
   "id": "5531d5ba",
   "metadata": {},
   "outputs": [
    {
     "name": "stdout",
     "output_type": "stream",
     "text": [
      "<_io.BufferedReader name='cafe.txt'>\n",
      "b'caf\\xc3\\xa9'\n"
     ]
    }
   ],
   "source": [
    "with open('cafe.txt', 'rb') as fp3:\n",
    "    print(f'{fp3!r}')\n",
    "    print(fp3.read())"
   ]
  },
  {
   "cell_type": "markdown",
   "id": "a379f528",
   "metadata": {},
   "source": [
    "### Encoding Defaults"
   ]
  },
  {
   "cell_type": "code",
   "execution_count": 88,
   "id": "0691b340",
   "metadata": {},
   "outputs": [],
   "source": [
    "import sys, locale"
   ]
  },
  {
   "cell_type": "code",
   "execution_count": 113,
   "id": "6354f368",
   "metadata": {},
   "outputs": [
    {
     "name": "stdout",
     "output_type": "stream",
     "text": [
      "locale.getpreferredencoding() -> UTF-8\n",
      "sys.stdout.isatty() -> False\n",
      "sys.stdout.encoding -> UTF-8\n",
      "sys.stdin.isatty() -> False\n",
      "sys.stdin.encoding -> utf-8\n",
      "sys.stderr.isatty() -> False\n",
      "sys.getdefaultencoding() -> utf-8\n",
      "sys.getfilesystemencoding() -> utf-8\n"
     ]
    }
   ],
   "source": [
    "expressions = \"\"\"\n",
    "locale.getpreferredencoding()\n",
    "sys.stdout.isatty()\n",
    "sys.stdout.encoding\n",
    "sys.stdin.isatty()\n",
    "sys.stdin.encoding\n",
    "sys.stderr.isatty()\n",
    "sys.getdefaultencoding()\n",
    "sys.getfilesystemencoding()\n",
    "\"\"\"\n",
    "\n",
    "for exp in expressions.strip().split(\"\\n\"):\n",
    "    val = eval(exp)\n",
    "    print(f\"{exp} -> {val}\")"
   ]
  },
  {
   "cell_type": "code",
   "execution_count": 7,
   "id": "a5627a4e",
   "metadata": {},
   "outputs": [],
   "source": [
    "import unicodedata"
   ]
  },
  {
   "cell_type": "code",
   "execution_count": null,
   "id": "db7c7645",
   "metadata": {},
   "outputs": [
    {
     "ename": "TypeError",
     "evalue": "name() argument 1 must be a unicode character, not str",
     "output_type": "error",
     "traceback": [
      "\u001b[0;31m---------------------------------------------------------------------------\u001b[0m",
      "\u001b[0;31mTypeError\u001b[0m                                 Traceback (most recent call last)",
      "Cell \u001b[0;32mIn[129], line 1\u001b[0m\n\u001b[0;32m----> 1\u001b[0m \u001b[43municodedata\u001b[49m\u001b[38;5;241;43m.\u001b[39;49m\u001b[43mname\u001b[49m\u001b[43m(\u001b[49m\u001b[38;5;124;43m'\u001b[39;49m\u001b[38;5;124;43m00EC\u001b[39;49m\u001b[38;5;124;43m'\u001b[39;49m\u001b[43m)\u001b[49m\n",
      "\u001b[0;31mTypeError\u001b[0m: name() argument 1 must be a unicode character, not str"
     ]
    }
   ],
   "source": []
  },
  {
   "cell_type": "code",
   "execution_count": 130,
   "id": "05d89cf2",
   "metadata": {},
   "outputs": [
    {
     "name": "stdout",
     "output_type": "stream",
     "text": [
      "è -> LATIN SMALL LETTER E WITH GRAVE\n",
      "î -> LATIN SMALL LETTER I WITH CIRCUMFLEX\n",
      "© -> COPYRIGHT SIGN\n",
      "¥ -> YEN SIGN\n"
     ]
    }
   ],
   "source": [
    "chars = ['è', 'î', '©', '¥']\n",
    "for c in chars:\n",
    "    print(f\"{c} -> {unicodedata.name(c)}\")"
   ]
  },
  {
   "cell_type": "code",
   "execution_count": 149,
   "id": "97b07453",
   "metadata": {},
   "outputs": [
    {
     "name": "stdout",
     "output_type": "stream",
     "text": [
      "ê   -> b'\\xc3\\xaa' LATIN SMALL LETTER E WITH CIRCUMFLEX\n",
      "î   -> b'\\xc3\\xae' LATIN SMALL LETTER I WITH CIRCUMFLEX\n",
      "©   -> b'\\xc2\\xa9' COPYRIGHT SIGN\n",
      "¥   -> b'\\xc2\\xa5' YEN SIGN\n"
     ]
    }
   ],
   "source": [
    "chars1 = ['\\u00EA', '\\u00EE', '\\u00A9', '\\u00A5']\n",
    "for c in chars1:\n",
    "    print(f\"{c:<3} -> {bytes(c, encoding='utf-8')} {unicodedata.name(c)}\")"
   ]
  },
  {
   "cell_type": "code",
   "execution_count": 156,
   "id": "5797c601",
   "metadata": {},
   "outputs": [
    {
     "name": "stdout",
     "output_type": "stream",
     "text": [
      "…          -> HORIZONTAL ELLIPSIS\n",
      "∞          -> INFINITY\n",
      "㊷          -> CIRCLED NUMBER FORTY TWO\n"
     ]
    }
   ],
   "source": [
    "test_chars = ['\\N{HORIZONTAL ELLIPSIS}',\n",
    "              '\\N{INFINITY}',\n",
    "              '\\N{CIRCLED NUMBER FORTY TWO}']\n",
    "\n",
    "for c in test_chars:\n",
    "    print(f\"{c:<10} -> {unicodedata.name(c)}\")"
   ]
  },
  {
   "cell_type": "markdown",
   "id": "0e6fe01d",
   "metadata": {},
   "source": [
    "### Normalizing Unicode"
   ]
  },
  {
   "cell_type": "code",
   "execution_count": 25,
   "id": "12c396fd",
   "metadata": {},
   "outputs": [
    {
     "data": {
      "text/plain": [
       "('café', 'café')"
      ]
     },
     "execution_count": 25,
     "metadata": {},
     "output_type": "execute_result"
    }
   ],
   "source": [
    "s1 = 'café'\n",
    "s2 = 'cafe\\N{COMBINING ACUTE ACCENT}'\n",
    "s1, s2"
   ]
  },
  {
   "cell_type": "code",
   "execution_count": 26,
   "id": "a7375986",
   "metadata": {},
   "outputs": [
    {
     "data": {
      "text/plain": [
       "(4, 5, False)"
      ]
     },
     "execution_count": 26,
     "metadata": {},
     "output_type": "execute_result"
    }
   ],
   "source": [
    "len(s1), len(s2), s1 ==  s2"
   ]
  },
  {
   "cell_type": "code",
   "execution_count": 27,
   "id": "95a58a5e",
   "metadata": {},
   "outputs": [
    {
     "data": {
      "text/plain": [
       "b'caf\\xc3\\xa9'"
      ]
     },
     "execution_count": 27,
     "metadata": {},
     "output_type": "execute_result"
    }
   ],
   "source": [
    "bytes(s1, encoding='utf-8')"
   ]
  },
  {
   "cell_type": "code",
   "execution_count": 28,
   "id": "229c395b",
   "metadata": {},
   "outputs": [
    {
     "data": {
      "text/plain": [
       "b'cafe\\xcc\\x81'"
      ]
     },
     "execution_count": 28,
     "metadata": {},
     "output_type": "execute_result"
    }
   ],
   "source": [
    "bytes(s2, encoding='utf-8')"
   ]
  },
  {
   "cell_type": "code",
   "execution_count": 33,
   "id": "e1dda28a",
   "metadata": {},
   "outputs": [
    {
     "data": {
      "text/plain": [
       "True"
      ]
     },
     "execution_count": 33,
     "metadata": {},
     "output_type": "execute_result"
    }
   ],
   "source": [
    "\n",
    "unicodedata.normalize('NFC', s1) == unicodedata.normalize('NFC', s2)"
   ]
  },
  {
   "cell_type": "code",
   "execution_count": 35,
   "id": "df23f4f4",
   "metadata": {},
   "outputs": [
    {
     "data": {
      "text/plain": [
       "(b'caf\\xc3\\xa9', b'caf\\xc3\\xa9')"
      ]
     },
     "execution_count": 35,
     "metadata": {},
     "output_type": "execute_result"
    }
   ],
   "source": [
    "bytes(unicodedata.normalize('NFC', s1), encoding='utf-8'), bytes(unicodedata.normalize('NFC', s2), encoding='utf-8')"
   ]
  },
  {
   "cell_type": "code",
   "execution_count": 39,
   "id": "9feefb14",
   "metadata": {},
   "outputs": [
    {
     "data": {
      "text/plain": [
       "(b'cafe\\xcc\\x81', b'cafe\\xcc\\x81')"
      ]
     },
     "execution_count": 39,
     "metadata": {},
     "output_type": "execute_result"
    }
   ],
   "source": [
    "bytes(unicodedata.normalize('NFD', s1), encoding='utf-8'), bytes(unicodedata.normalize('NFD', s2), encoding='utf-8')"
   ]
  },
  {
   "cell_type": "code",
   "execution_count": 51,
   "id": "9e6122f9",
   "metadata": {},
   "outputs": [
    {
     "data": {
      "text/plain": [
       "('½', '½')"
      ]
     },
     "execution_count": 51,
     "metadata": {},
     "output_type": "execute_result"
    }
   ],
   "source": [
    "half = \"\\N{VULGAR FRACTION ONE HALF}\"\n",
    "half, '\\u00BD'"
   ]
  },
  {
   "cell_type": "code",
   "execution_count": 44,
   "id": "45362435",
   "metadata": {},
   "outputs": [
    {
     "name": "stdout",
     "output_type": "stream",
     "text": [
      "½\n"
     ]
    }
   ],
   "source": [
    "for c in half:\n",
    "    print(c)"
   ]
  },
  {
   "cell_type": "code",
   "execution_count": 52,
   "id": "45660294",
   "metadata": {},
   "outputs": [
    {
     "data": {
      "text/plain": [
       "'1⁄2'"
      ]
     },
     "execution_count": 52,
     "metadata": {},
     "output_type": "execute_result"
    }
   ],
   "source": [
    "unicodedata.normalize('NFKC', half)"
   ]
  },
  {
   "cell_type": "code",
   "execution_count": 53,
   "id": "263f6165",
   "metadata": {},
   "outputs": [
    {
     "name": "stdout",
     "output_type": "stream",
     "text": [
      "1 DIGIT ONE\n",
      "⁄ FRACTION SLASH\n",
      "2 DIGIT TWO\n"
     ]
    }
   ],
   "source": [
    "for c in unicodedata.normalize('NFKD', half):\n",
    "    print(f\"{c} {unicodedata.name(c)}\")"
   ]
  },
  {
   "cell_type": "code",
   "execution_count": null,
   "id": "f4b27680",
   "metadata": {},
   "outputs": [],
   "source": [
    "# remove combining marks\n",
    "# A diacritic is a glyph added to a base character to change its sound, meaning, or stress. é = e + acute accent\n",
    "# A combining mark is a non-spacing character that attaches to the preceding character. It is not shown on its own, but modifies the previous character.\n",
    "# é\tU+0065 + U+0301\tLatin \"e\" + acute accent\n",
    "\n",
    "def shave_marks(msg: str, normalize_method='NFD') -> str:\n",
    "    msg = unicodedata.normalize(normalize_method, msg)\n",
    "    return ''.join(c for c in msg if not unicodedata.combining(c))\n"
   ]
  },
  {
   "cell_type": "code",
   "execution_count": 68,
   "id": "90cf0821",
   "metadata": {},
   "outputs": [
    {
     "data": {
      "text/plain": [
       "'“Herr Voß: • ½ cup of Œtker™ caffe latte • bowl of acai.”'"
      ]
     },
     "execution_count": 68,
     "metadata": {},
     "output_type": "execute_result"
    }
   ],
   "source": [
    "order = '“Herr Voß: • ½ cup of Œtker™ caffè latte • bowl of açaí.”'\n",
    "shave_marks(order, 'NFD')"
   ]
  },
  {
   "cell_type": "code",
   "execution_count": 69,
   "id": "d7e896ca",
   "metadata": {},
   "outputs": [
    {
     "data": {
      "text/plain": [
       "'“Herr Voß: • 1⁄2 cup of ŒtkerTM caffe latte • bowl of acai.”'"
      ]
     },
     "execution_count": 69,
     "metadata": {},
     "output_type": "execute_result"
    }
   ],
   "source": [
    "shave_marks(order, 'NFKD')"
   ]
  },
  {
   "cell_type": "code",
   "execution_count": 79,
   "id": "c64e8bac",
   "metadata": {},
   "outputs": [
    {
     "data": {
      "text/plain": [
       "'h@llo th@r@'"
      ]
     },
     "execution_count": 79,
     "metadata": {},
     "output_type": "execute_result"
    }
   ],
   "source": [
    "# transformation\n",
    "\n",
    "\"hello there\".translate(str.maketrans({'e': '@'}))"
   ]
  },
  {
   "cell_type": "code",
   "execution_count": 83,
   "id": "fdfd7544",
   "metadata": {},
   "outputs": [
    {
     "data": {
      "text/plain": [
       "{8364: '<euro>',\n",
       " 8230: '...',\n",
       " 338: 'OE',\n",
       " 8482: '(TM)',\n",
       " 339: 'oe',\n",
       " 8240: '<per mille>',\n",
       " 8225: '**',\n",
       " 8218: 39,\n",
       " 402: 102,\n",
       " 8222: 34,\n",
       " 8224: 42,\n",
       " 710: 94,\n",
       " 8249: 60,\n",
       " 8216: 39,\n",
       " 8217: 39,\n",
       " 8220: 34,\n",
       " 8221: 34,\n",
       " 8226: 45,\n",
       " 8211: 45,\n",
       " 8212: 45,\n",
       " 732: 126,\n",
       " 8250: 62}"
      ]
     },
     "execution_count": 83,
     "metadata": {},
     "output_type": "execute_result"
    }
   ],
   "source": [
    "single_map = str.maketrans(\"\"\"‚ƒ„†ˆ‹‘’“”•–—˜›\"\"\",  # <1>\n",
    "                           \"\"\"'f\"*^<''\"\"---~>\"\"\")\n",
    "\n",
    "multi_map = str.maketrans({  # <2>\n",
    "    '€': '<euro>',\n",
    "    '…': '...',\n",
    "    'Œ': 'OE',\n",
    "    '™': '(TM)',\n",
    "    'œ': 'oe',\n",
    "    '‰': '<per mille>',\n",
    "    '‡': '**',\n",
    "})\n",
    "\n",
    "multi_map.update(single_map)\n",
    "multi_map"
   ]
  },
  {
   "cell_type": "code",
   "execution_count": 85,
   "id": "e7716f6a",
   "metadata": {},
   "outputs": [
    {
     "name": "stdout",
     "output_type": "stream",
     "text": [
      "“Herr Voß: • ½ cup of Œtker™ caffè latte • bowl of açaí.”\n"
     ]
    },
    {
     "data": {
      "text/plain": [
       "'\"Herr Voß: - ½ cup of OEtker(TM) caffè latte - bowl of açaí.\"'"
      ]
     },
     "execution_count": 85,
     "metadata": {},
     "output_type": "execute_result"
    }
   ],
   "source": [
    "print(order)\n",
    "order.translate(multi_map)"
   ]
  },
  {
   "cell_type": "code",
   "execution_count": 58,
   "id": "667a1e41",
   "metadata": {},
   "outputs": [
    {
     "data": {
      "text/plain": [
       "['mañana',\n",
       " 'crème',\n",
       " 'façade',\n",
       " '你好',\n",
       " 'さようなら',\n",
       " 'über',\n",
       " 'кофе',\n",
       " 'σχολείο',\n",
       " 'Ωmega',\n",
       " '😊']"
      ]
     },
     "execution_count": 58,
     "metadata": {},
     "output_type": "execute_result"
    }
   ],
   "source": [
    "unicode_words = [\n",
    "    \"mañana\",       # Spanish (ñ = U+00F1)\n",
    "    \"crème\",        # French (è = U+00E8)\n",
    "    \"façade\",       # French (ç = U+00E7)\n",
    "    \"你好\",          # Chinese (你 = U+4F60, 好 = U+597D)\n",
    "    \"さようなら\",    # Japanese Hiragana (さ = U+3055)\n",
    "    \"über\",         # German (ü = U+00FC)\n",
    "    \"кофе\",         # Russian Cyrillic (к = U+043A)\n",
    "    \"σχολείο\",      # Greek (σ = U+03C3)\n",
    "    \"Ωmega\",        # Greek capital omega (Ω = U+03A9)\n",
    "    \"😊\",            # Emoji (smiling face = U+1F60A)\n",
    "]\n",
    "\n",
    "unicode_words"
   ]
  },
  {
   "cell_type": "code",
   "execution_count": 59,
   "id": "a0e0341e",
   "metadata": {},
   "outputs": [
    {
     "data": {
      "text/plain": [
       "['crème',\n",
       " 'façade',\n",
       " 'mañana',\n",
       " 'über',\n",
       " 'Ωmega',\n",
       " 'σχολείο',\n",
       " 'кофе',\n",
       " 'さようなら',\n",
       " '你好',\n",
       " '😊']"
      ]
     },
     "execution_count": 59,
     "metadata": {},
     "output_type": "execute_result"
    }
   ],
   "source": [
    "sorted(unicode_words)"
   ]
  },
  {
   "cell_type": "code",
   "execution_count": 89,
   "id": "199cc881",
   "metadata": {},
   "outputs": [
    {
     "data": {
      "text/plain": [
       "['crème',\n",
       " 'façade',\n",
       " 'mañana',\n",
       " 'über',\n",
       " 'Ωmega',\n",
       " 'σχολείο',\n",
       " 'кофе',\n",
       " 'さようなら',\n",
       " '你好',\n",
       " '😊']"
      ]
     },
     "execution_count": 89,
     "metadata": {},
     "output_type": "execute_result"
    }
   ],
   "source": [
    "sorted(unicode_words, key=locale.strxfrm)"
   ]
  },
  {
   "cell_type": "code",
   "execution_count": 101,
   "id": "f3d91921",
   "metadata": {},
   "outputs": [
    {
     "name": "stdout",
     "output_type": "stream",
     "text": [
      "U+128568 😸 GRINNING CAT FACE WITH SMILING EYES\t\n",
      "U+128570 😺 SMILING CAT FACE WITH OPEN MOUTH\t\n",
      "U+128571 😻 SMILING CAT FACE WITH HEART-SHAPED EYES\t\n"
     ]
    }
   ],
   "source": [
    "### Character finder\n",
    "\n",
    "def char_find(words):\n",
    "    start, stop = ord(' '), sys.maxunicode + 1\n",
    "    words = {x.upper() for x in words}\n",
    "    for code in range(start, stop):\n",
    "        c = chr(code)\n",
    "        name = unicodedata.name(c, None)\n",
    "        if name and words.issubset(name.split(\" \")):\n",
    "            print(f\"U+{code}\", c, name, end=\"\\t\")\n",
    "            print()\n",
    "\n",
    "words = \"cat smiling\"\n",
    "char_find(words.split())\n"
   ]
  },
  {
   "cell_type": "code",
   "execution_count": null,
   "id": "5030dcb1",
   "metadata": {},
   "outputs": [
    {
     "data": {
      "text/plain": [
       "'a'"
      ]
     },
     "execution_count": 91,
     "metadata": {},
     "output_type": "execute_result"
    }
   ],
   "source": []
  },
  {
   "cell_type": "code",
   "execution_count": null,
   "id": "a1bc54d3",
   "metadata": {},
   "outputs": [
    {
     "data": {
      "text/plain": [
       "'LATIN CAPITAL LETTER A'"
      ]
     },
     "execution_count": 102,
     "metadata": {},
     "output_type": "execute_result"
    }
   ],
   "source": []
  },
  {
   "cell_type": "code",
   "execution_count": null,
   "id": "a6bd3235",
   "metadata": {},
   "outputs": [],
   "source": []
  }
 ],
 "metadata": {
  "kernelspec": {
   "display_name": "Python 3",
   "language": "python",
   "name": "python3"
  },
  "language_info": {
   "codemirror_mode": {
    "name": "ipython",
    "version": 3
   },
   "file_extension": ".py",
   "mimetype": "text/x-python",
   "name": "python",
   "nbconvert_exporter": "python",
   "pygments_lexer": "ipython3",
   "version": "3.10.12"
  }
 },
 "nbformat": 4,
 "nbformat_minor": 5
}
