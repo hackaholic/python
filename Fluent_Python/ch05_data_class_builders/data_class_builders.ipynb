{
 "cells": [
  {
   "cell_type": "code",
   "execution_count": 1,
   "id": "dbe7c138",
   "metadata": {},
   "outputs": [
    {
     "data": {
      "text/plain": [
       "<__main__.ClassCoordinates at 0x7f898de55030>"
      ]
     },
     "execution_count": 1,
     "metadata": {},
     "output_type": "execute_result"
    }
   ],
   "source": [
    "class ClassCoordinates:\n",
    "    def __init__(self, lat, lon):\n",
    "        self.lat = lat\n",
    "        self.lon = lon\n",
    "\n",
    "moscow = ClassCoordinates(55.76, 37.62)\n",
    "moscow"
   ]
  },
  {
   "cell_type": "code",
   "execution_count": 2,
   "id": "b94423cc",
   "metadata": {},
   "outputs": [
    {
     "data": {
      "text/plain": [
       "False"
      ]
     },
     "execution_count": 2,
     "metadata": {},
     "output_type": "execute_result"
    }
   ],
   "source": [
    "location = ClassCoordinates(55.76, 37.62)\n",
    "\n",
    "location == moscow"
   ]
  },
  {
   "cell_type": "code",
   "execution_count": 3,
   "id": "2f0e7c15",
   "metadata": {},
   "outputs": [
    {
     "data": {
      "text/plain": [
       "'Coordinate(lat, lon)'"
      ]
     },
     "execution_count": 3,
     "metadata": {},
     "output_type": "execute_result"
    }
   ],
   "source": [
    "# collections.namedtuple\n",
    "\n",
    "import collections\n",
    "\n",
    "collection_namedtuple_Coordinate = collections.namedtuple('Coordinate', 'lat lon')\n",
    "collection_namedtuple_Coordinate.__doc__"
   ]
  },
  {
   "cell_type": "code",
   "execution_count": 4,
   "id": "fb91a324",
   "metadata": {},
   "outputs": [
    {
     "data": {
      "text/plain": [
       "True"
      ]
     },
     "execution_count": 4,
     "metadata": {},
     "output_type": "execute_result"
    }
   ],
   "source": [
    "issubclass(collection_namedtuple_Coordinate, tuple)"
   ]
  },
  {
   "cell_type": "code",
   "execution_count": 5,
   "id": "e57702ac",
   "metadata": {},
   "outputs": [
    {
     "data": {
      "text/plain": [
       "Coordinate(lat=55.76, lon=37.62)"
      ]
     },
     "execution_count": 5,
     "metadata": {},
     "output_type": "execute_result"
    }
   ],
   "source": [
    "moscow = collection_namedtuple_Coordinate(55.76, 37.62)\n",
    "moscow"
   ]
  },
  {
   "cell_type": "code",
   "execution_count": 6,
   "id": "9b84e755",
   "metadata": {},
   "outputs": [
    {
     "data": {
      "text/plain": [
       "True"
      ]
     },
     "execution_count": 6,
     "metadata": {},
     "output_type": "execute_result"
    }
   ],
   "source": [
    "moscow == collection_namedtuple_Coordinate(55.76, 37.62)"
   ]
  },
  {
   "cell_type": "code",
   "execution_count": 7,
   "id": "c7768d4b",
   "metadata": {},
   "outputs": [],
   "source": [
    "import typing"
   ]
  },
  {
   "cell_type": "code",
   "execution_count": 8,
   "id": "4b37e645",
   "metadata": {},
   "outputs": [
    {
     "data": {
      "text/plain": [
       "'Coordinate(lon, lan)'"
      ]
     },
     "execution_count": 8,
     "metadata": {},
     "output_type": "execute_result"
    }
   ],
   "source": [
    "typing_namedtuple_Coordinate = typing.NamedTuple('Coordinate', [('lon', float), ('lan', float)])\n",
    "typing_namedtuple_Coordinate.__doc__"
   ]
  },
  {
   "cell_type": "code",
   "execution_count": 9,
   "id": "1069239e",
   "metadata": {},
   "outputs": [],
   "source": [
    "typing_namedtuple_Coordinate = typing.NamedTuple('Coordinate', lon=float, lat=float)"
   ]
  },
  {
   "cell_type": "code",
   "execution_count": 10,
   "id": "54f27775",
   "metadata": {},
   "outputs": [
    {
     "data": {
      "text/plain": [
       "True"
      ]
     },
     "execution_count": 10,
     "metadata": {},
     "output_type": "execute_result"
    }
   ],
   "source": [
    "# \n",
    "issubclass(typing_namedtuple_Coordinate, tuple)"
   ]
  },
  {
   "cell_type": "code",
   "execution_count": 11,
   "id": "4b05a659",
   "metadata": {},
   "outputs": [
    {
     "data": {
      "text/plain": [
       "{'lon': float, 'lat': float}"
      ]
     },
     "execution_count": 11,
     "metadata": {},
     "output_type": "execute_result"
    }
   ],
   "source": [
    "# get type hint of the fields\n",
    "typing.get_type_hints(typing_namedtuple_Coordinate)"
   ]
  },
  {
   "cell_type": "code",
   "execution_count": 12,
   "id": "5c17d1cf",
   "metadata": {},
   "outputs": [
    {
     "data": {
      "text/plain": [
       "True"
      ]
     },
     "execution_count": 12,
     "metadata": {},
     "output_type": "execute_result"
    }
   ],
   "source": [
    "# Extend class with typing.NamedTuble\n",
    "\n",
    "class ExtendedCoordinate(typing.NamedTuple):\n",
    "    lat: float\n",
    "    lon: float\n",
    "\n",
    "    def __str__(self):\n",
    "        ns = 'N' if self.lat >= 0 else 'S'\n",
    "        we = 'E' if self.lon >=0 else 'W'\n",
    "        return f'{abs(self.lat):.1f} {ns}, {abs(self.lon):.1f} {we}'\n",
    "\n",
    "issubclass(ExtendedCoordinate, tuple)"
   ]
  },
  {
   "cell_type": "code",
   "execution_count": 13,
   "id": "6251a467",
   "metadata": {},
   "outputs": [],
   "source": [
    "import dataclasses\n",
    "\n",
    "@dataclasses.dataclass(frozen=True)\n",
    "class DataclassCoordinate:\n",
    "    lat: float\n",
    "    lon: float\n",
    "\n",
    "    def __str__(self):\n",
    "        ns = 'N' if self.lat >= 0 else 'S'\n",
    "        we = 'E' if self.lon >=0 else 'W'\n",
    "        return f'{abs(self.lat):.1f} {ns}, {abs(self.lon):.1f} {we}'\n",
    "\n"
   ]
  },
  {
   "cell_type": "code",
   "execution_count": 14,
   "id": "b693aaf6",
   "metadata": {},
   "outputs": [
    {
     "data": {
      "text/plain": [
       "City(name='Tokyo', country='JP', population=36.933, coordinates=(35.689, 139.691))"
      ]
     },
     "execution_count": 14,
     "metadata": {},
     "output_type": "execute_result"
    }
   ],
   "source": [
    "# classic named tuple\n",
    "\n",
    "City = collections.namedtuple('City', 'name country population coordinates')\n",
    "tokyo = City('Tokyo', 'JP', 36.933, (35.689, 139.691))\n",
    "tokyo"
   ]
  },
  {
   "cell_type": "code",
   "execution_count": 15,
   "id": "9357ea07",
   "metadata": {},
   "outputs": [
    {
     "data": {
      "text/plain": [
       "(36.933, 36.933)"
      ]
     },
     "execution_count": 15,
     "metadata": {},
     "output_type": "execute_result"
    }
   ],
   "source": [
    "tokyo.population, tokyo[2]"
   ]
  },
  {
   "cell_type": "code",
   "execution_count": 16,
   "id": "e0307976",
   "metadata": {},
   "outputs": [
    {
     "data": {
      "text/plain": [
       "('name', 'country', 'population', 'coordinates')"
      ]
     },
     "execution_count": 16,
     "metadata": {},
     "output_type": "execute_result"
    }
   ],
   "source": [
    "# get fields names\n",
    "tokyo._fields"
   ]
  },
  {
   "cell_type": "code",
   "execution_count": 17,
   "id": "a4ff9a90",
   "metadata": {},
   "outputs": [
    {
     "data": {
      "text/plain": [
       "{}"
      ]
     },
     "execution_count": 17,
     "metadata": {},
     "output_type": "execute_result"
    }
   ],
   "source": [
    "# get fields names and default values\n",
    "tokyo._field_defaults"
   ]
  },
  {
   "cell_type": "code",
   "execution_count": 18,
   "id": "d08e99a9",
   "metadata": {},
   "outputs": [
    {
     "data": {
      "text/plain": [
       "{'name': 'Tokyo',\n",
       " 'country': 'JP',\n",
       " 'population': 36.933,\n",
       " 'coordinates': (35.689, 139.691)}"
      ]
     },
     "execution_count": 18,
     "metadata": {},
     "output_type": "execute_result"
    }
   ],
   "source": [
    "# construct dict\n",
    "tokyo._asdict()"
   ]
  },
  {
   "cell_type": "code",
   "execution_count": 19,
   "id": "fa5e3285",
   "metadata": {},
   "outputs": [
    {
     "data": {
      "text/plain": [
       "City(name='Tokyo', country='japan', population=36.933, coordinates=(35.689, 139.691))"
      ]
     },
     "execution_count": 19,
     "metadata": {},
     "output_type": "execute_result"
    }
   ],
   "source": [
    "# new instance with changes\n",
    "tokyo._replace(country='japan')"
   ]
  },
  {
   "cell_type": "code",
   "execution_count": 20,
   "id": "f0fec0a0",
   "metadata": {},
   "outputs": [
    {
     "data": {
      "text/plain": [
       "City(name='Delhi NCR', country='IN', population=21.935, coordinates=Coordinate(lon=28.613, lat=77.208))"
      ]
     },
     "execution_count": 20,
     "metadata": {},
     "output_type": "execute_result"
    }
   ],
   "source": [
    "delhi_data = ('Delhi NCR', 'IN', 21.935, typing_namedtuple_Coordinate(28.613, 77.208))\n",
    "delhi = City._make(delhi_data)\n",
    "delhi"
   ]
  },
  {
   "cell_type": "code",
   "execution_count": 21,
   "id": "800f01c4",
   "metadata": {},
   "outputs": [
    {
     "data": {
      "text/plain": [
       "City(name='Delhi NCR', country='IN', population=21.935, coordinates=Coordinate(lon=28.613, lat=77.208))"
      ]
     },
     "execution_count": 21,
     "metadata": {},
     "output_type": "execute_result"
    }
   ],
   "source": [
    "City(*delhi_data)"
   ]
  },
  {
   "cell_type": "code",
   "execution_count": 22,
   "id": "94cb68f5",
   "metadata": {},
   "outputs": [
    {
     "data": {
      "text/plain": [
       "{'name': 'Delhi NCR',\n",
       " 'country': 'IN',\n",
       " 'population': 21.935,\n",
       " 'coordinates': Coordinate(lon=28.613, lat=77.208)}"
      ]
     },
     "execution_count": 22,
     "metadata": {},
     "output_type": "execute_result"
    }
   ],
   "source": [
    "delhi._asdict()"
   ]
  },
  {
   "cell_type": "code",
   "execution_count": 23,
   "id": "6fd7839a",
   "metadata": {},
   "outputs": [
    {
     "data": {
      "text/plain": [
       "'{\"name\": \"Delhi NCR\", \"country\": \"IN\", \"population\": 21.935, \"coordinates\": [28.613, 77.208]}'"
      ]
     },
     "execution_count": 23,
     "metadata": {},
     "output_type": "execute_result"
    }
   ],
   "source": [
    "import json\n",
    "json.dumps(delhi._asdict())"
   ]
  },
  {
   "cell_type": "code",
   "execution_count": 24,
   "id": "3dbd7291",
   "metadata": {},
   "outputs": [
    {
     "data": {
      "text/plain": [
       "Coordinate(lat=0, lon=0, reference='WGS84')"
      ]
     },
     "execution_count": 24,
     "metadata": {},
     "output_type": "execute_result"
    }
   ],
   "source": [
    "# default in namedtuple\n",
    "\n",
    "coordinate_default = collections.namedtuple('Coordinate', 'lat lon reference', defaults=['WGS84'])\n",
    "coordinate_default(0, 0)"
   ]
  },
  {
   "cell_type": "code",
   "execution_count": 25,
   "id": "37be8036",
   "metadata": {},
   "outputs": [
    {
     "data": {
      "text/plain": [
       "TypingNamedTuple(lat=20.23, lon=55.66, reference='WGS84')"
      ]
     },
     "execution_count": 25,
     "metadata": {},
     "output_type": "execute_result"
    }
   ],
   "source": [
    "# Typed NamedTuple\n",
    "\n",
    "class TypingNamedTuple(typing.NamedTuple):\n",
    "    lat: float\n",
    "    lon: float\n",
    "    reference: str = 'WGS84'\n",
    "\n",
    "c = TypingNamedTuple(20.23, 55.66)\n",
    "c"
   ]
  },
  {
   "cell_type": "code",
   "execution_count": 26,
   "id": "6982fb3b",
   "metadata": {},
   "outputs": [
    {
     "data": {
      "text/plain": [
       "{'lat': float, 'lon': float, 'reference': str}"
      ]
     },
     "execution_count": 26,
     "metadata": {},
     "output_type": "execute_result"
    }
   ],
   "source": [
    "c.__annotations__"
   ]
  },
  {
   "cell_type": "code",
   "execution_count": 27,
   "id": "66826281",
   "metadata": {},
   "outputs": [
    {
     "data": {
      "text/plain": [
       "'WGS84'"
      ]
     },
     "execution_count": 27,
     "metadata": {},
     "output_type": "execute_result"
    }
   ],
   "source": [
    "c.reference"
   ]
  },
  {
   "cell_type": "code",
   "execution_count": 28,
   "id": "fa039e60",
   "metadata": {},
   "outputs": [
    {
     "ename": "AttributeError",
     "evalue": "can't set attribute",
     "output_type": "error",
     "traceback": [
      "\u001b[0;31m---------------------------------------------------------------------------\u001b[0m",
      "\u001b[0;31mAttributeError\u001b[0m                            Traceback (most recent call last)",
      "Cell \u001b[0;32mIn[28], line 1\u001b[0m\n\u001b[0;32m----> 1\u001b[0m \u001b[43mc\u001b[49m\u001b[38;5;241;43m.\u001b[39;49m\u001b[43mlon\u001b[49m \u001b[38;5;241m=\u001b[39m \u001b[38;5;241m30\u001b[39m\n",
      "\u001b[0;31mAttributeError\u001b[0m: can't set attribute"
     ]
    }
   ],
   "source": [
    "c.lon = 30"
   ]
  },
  {
   "cell_type": "code",
   "execution_count": null,
   "id": "0f07b2bb",
   "metadata": {},
   "outputs": [
    {
     "data": {
      "text/plain": [
       "TypingNamedTuple(lat='N/A', lon=None, reference='WGS84')"
      ]
     },
     "execution_count": 85,
     "metadata": {},
     "output_type": "execute_result"
    }
   ],
   "source": [
    "# No runtime effect on anotation hints\n",
    "\n",
    "trash = TypingNamedTuple('N/A', None)\n",
    "trash"
   ]
  },
  {
   "cell_type": "markdown",
   "id": "63c28250",
   "metadata": {},
   "source": [
    "### The meaning of Variable Anotations"
   ]
  },
  {
   "cell_type": "code",
   "execution_count": null,
   "id": "84bee4f2",
   "metadata": {},
   "outputs": [
    {
     "data": {
      "text/plain": [
       "{'a': int, 'b': float}"
      ]
     },
     "execution_count": 87,
     "metadata": {},
     "output_type": "execute_result"
    }
   ],
   "source": [
    "# Inspecting plain class\n",
    "\n",
    "class DemoPlainClass:\n",
    "    a: int\n",
    "    b: float = 1.1\n",
    "    c = 'spam'\n",
    "\n",
    "DemoPlainClass.__annotations__"
   ]
  },
  {
   "cell_type": "code",
   "execution_count": null,
   "id": "e9c7f285",
   "metadata": {},
   "outputs": [
    {
     "ename": "AttributeError",
     "evalue": "type object 'DemoPlainClass' has no attribute 'a'",
     "output_type": "error",
     "traceback": [
      "\u001b[0;31m---------------------------------------------------------------------------\u001b[0m",
      "\u001b[0;31mAttributeError\u001b[0m                            Traceback (most recent call last)",
      "Cell \u001b[0;32mIn[88], line 1\u001b[0m\n\u001b[0;32m----> 1\u001b[0m \u001b[43mDemoPlainClass\u001b[49m\u001b[38;5;241;43m.\u001b[39;49m\u001b[43ma\u001b[49m\n",
      "\u001b[0;31mAttributeError\u001b[0m: type object 'DemoPlainClass' has no attribute 'a'"
     ]
    }
   ],
   "source": [
    "DemoPlainClass.a"
   ]
  },
  {
   "cell_type": "code",
   "execution_count": null,
   "id": "b44c1e09",
   "metadata": {},
   "outputs": [
    {
     "data": {
      "text/plain": [
       "1.1"
      ]
     },
     "execution_count": 89,
     "metadata": {},
     "output_type": "execute_result"
    }
   ],
   "source": [
    "DemoPlainClass.b"
   ]
  },
  {
   "cell_type": "code",
   "execution_count": null,
   "id": "c56236d8",
   "metadata": {},
   "outputs": [
    {
     "data": {
      "text/plain": [
       "'spam'"
      ]
     },
     "execution_count": 90,
     "metadata": {},
     "output_type": "execute_result"
    }
   ],
   "source": [
    "DemoPlainClass.c"
   ]
  },
  {
   "cell_type": "code",
   "execution_count": null,
   "id": "d0cad1ae",
   "metadata": {},
   "outputs": [
    {
     "data": {
      "text/plain": [
       "{'a': int, 'b': float, 'c': str}"
      ]
     },
     "execution_count": 93,
     "metadata": {},
     "output_type": "execute_result"
    }
   ],
   "source": [
    "# Inspecting typing.NamedTuple\n",
    "\n",
    "class DemoNTClass(typing.NamedTuple):\n",
    "    a: int\n",
    "    b: float = 1.1\n",
    "    c: str = 'spam'\n",
    "\n",
    "DemoNTClass.__annotations__"
   ]
  },
  {
   "cell_type": "code",
   "execution_count": null,
   "id": "dfb443d8",
   "metadata": {},
   "outputs": [
    {
     "data": {
      "text/plain": [
       "_tuplegetter(0, 'Alias for field number 0')"
      ]
     },
     "execution_count": 94,
     "metadata": {},
     "output_type": "execute_result"
    }
   ],
   "source": [
    "DemoNTClass.a"
   ]
  },
  {
   "cell_type": "code",
   "execution_count": null,
   "id": "a3400c2d",
   "metadata": {},
   "outputs": [
    {
     "data": {
      "text/plain": [
       "_tuplegetter(1, 'Alias for field number 1')"
      ]
     },
     "execution_count": 95,
     "metadata": {},
     "output_type": "execute_result"
    }
   ],
   "source": [
    "DemoNTClass.b"
   ]
  },
  {
   "cell_type": "code",
   "execution_count": null,
   "id": "27c99bcb",
   "metadata": {},
   "outputs": [
    {
     "data": {
      "text/plain": [
       "_tuplegetter(2, 'Alias for field number 2')"
      ]
     },
     "execution_count": 96,
     "metadata": {},
     "output_type": "execute_result"
    }
   ],
   "source": [
    "DemoNTClass.c"
   ]
  },
  {
   "cell_type": "code",
   "execution_count": null,
   "id": "e703d804",
   "metadata": {},
   "outputs": [
    {
     "data": {
      "text/plain": [
       "(8, 1.1, 'spam')"
      ]
     },
     "execution_count": 98,
     "metadata": {},
     "output_type": "execute_result"
    }
   ],
   "source": [
    "nt = DemoNTClass(8)\n",
    "nt.a, nt.b, nt.c"
   ]
  },
  {
   "cell_type": "code",
   "execution_count": null,
   "id": "be53a408",
   "metadata": {},
   "outputs": [
    {
     "ename": "AttributeError",
     "evalue": "can't set attribute",
     "output_type": "error",
     "traceback": [
      "\u001b[0;31m---------------------------------------------------------------------------\u001b[0m",
      "\u001b[0;31mAttributeError\u001b[0m                            Traceback (most recent call last)",
      "Cell \u001b[0;32mIn[99], line 1\u001b[0m\n\u001b[0;32m----> 1\u001b[0m \u001b[43mnt\u001b[49m\u001b[38;5;241;43m.\u001b[39;49m\u001b[43ma\u001b[49m \u001b[38;5;241m=\u001b[39m \u001b[38;5;241m99\u001b[39m\n",
      "\u001b[0;31mAttributeError\u001b[0m: can't set attribute"
     ]
    }
   ],
   "source": [
    "nt.a = 99"
   ]
  },
  {
   "cell_type": "code",
   "execution_count": null,
   "id": "1000d7d8",
   "metadata": {},
   "outputs": [
    {
     "data": {
      "text/plain": [
       "'DemoDataClass(a: int, b: float = 1.1)'"
      ]
     },
     "execution_count": 105,
     "metadata": {},
     "output_type": "execute_result"
    }
   ],
   "source": [
    "# Inspecting decorator dataclass\n",
    "\n",
    "@dataclasses.dataclass\n",
    "class DemoDataClass:\n",
    "    a: int\n",
    "    b: float = 1.1\n",
    "    c = 'spam'\n",
    "\n",
    "DemoDataClass.__doc__"
   ]
  },
  {
   "cell_type": "code",
   "execution_count": null,
   "id": "783ea6ab",
   "metadata": {},
   "outputs": [
    {
     "ename": "AttributeError",
     "evalue": "type object 'DemoDataClass' has no attribute 'a'",
     "output_type": "error",
     "traceback": [
      "\u001b[0;31m---------------------------------------------------------------------------\u001b[0m",
      "\u001b[0;31mAttributeError\u001b[0m                            Traceback (most recent call last)",
      "Cell \u001b[0;32mIn[104], line 1\u001b[0m\n\u001b[0;32m----> 1\u001b[0m \u001b[43mDemoDataClass\u001b[49m\u001b[38;5;241;43m.\u001b[39;49m\u001b[43ma\u001b[49m\n",
      "\u001b[0;31mAttributeError\u001b[0m: type object 'DemoDataClass' has no attribute 'a'"
     ]
    }
   ],
   "source": [
    "DemoDataClass.a"
   ]
  },
  {
   "cell_type": "code",
   "execution_count": null,
   "id": "0cfc22d7",
   "metadata": {},
   "outputs": [
    {
     "data": {
      "text/plain": [
       "(1.1, 'spam')"
      ]
     },
     "execution_count": 102,
     "metadata": {},
     "output_type": "execute_result"
    }
   ],
   "source": [
    "DemoDataClass.b, DemoDataClass.c"
   ]
  },
  {
   "cell_type": "code",
   "execution_count": null,
   "id": "bd245da4",
   "metadata": {},
   "outputs": [
    {
     "ename": "ValueError",
     "evalue": "mutable default <class 'list'> for field guests is not allowed: use default_factory",
     "output_type": "error",
     "traceback": [
      "\u001b[0;31m---------------------------------------------------------------------------\u001b[0m",
      "\u001b[0;31mValueError\u001b[0m                                Traceback (most recent call last)",
      "Cell \u001b[0;32mIn[30], line 4\u001b[0m\n\u001b[1;32m      1\u001b[0m \u001b[38;5;66;03m# dataclass field options\u001b[39;00m\n\u001b[1;32m      3\u001b[0m \u001b[38;5;129;43m@dataclasses\u001b[39;49m\u001b[38;5;241;43m.\u001b[39;49m\u001b[43mdataclass\u001b[49m\n\u001b[0;32m----> 4\u001b[0m \u001b[38;5;28;43;01mclass\u001b[39;49;00m\u001b[38;5;250;43m \u001b[39;49m\u001b[38;5;21;43;01mClubMember\u001b[39;49;00m\u001b[43m:\u001b[49m\n\u001b[1;32m      5\u001b[0m \u001b[43m    \u001b[49m\u001b[43mname\u001b[49m\u001b[43m:\u001b[49m\u001b[43m \u001b[49m\u001b[38;5;28;43mstr\u001b[39;49m\n\u001b[1;32m      6\u001b[0m \u001b[43m    \u001b[49m\u001b[43mguests\u001b[49m\u001b[43m:\u001b[49m\u001b[43m \u001b[49m\u001b[38;5;28;43mlist\u001b[39;49m\u001b[43m \u001b[49m\u001b[38;5;241;43m=\u001b[39;49m\u001b[43m \u001b[49m\u001b[43m[\u001b[49m\u001b[43m]\u001b[49m\n",
      "File \u001b[0;32m/usr/lib/python3.10/dataclasses.py:1184\u001b[0m, in \u001b[0;36mdataclass\u001b[0;34m(cls, init, repr, eq, order, unsafe_hash, frozen, match_args, kw_only, slots)\u001b[0m\n\u001b[1;32m   1181\u001b[0m     \u001b[38;5;28;01mreturn\u001b[39;00m wrap\n\u001b[1;32m   1183\u001b[0m \u001b[38;5;66;03m# We're called as @dataclass without parens.\u001b[39;00m\n\u001b[0;32m-> 1184\u001b[0m \u001b[38;5;28;01mreturn\u001b[39;00m \u001b[43mwrap\u001b[49m\u001b[43m(\u001b[49m\u001b[38;5;28;43mcls\u001b[39;49m\u001b[43m)\u001b[49m\n",
      "File \u001b[0;32m/usr/lib/python3.10/dataclasses.py:1175\u001b[0m, in \u001b[0;36mdataclass.<locals>.wrap\u001b[0;34m(cls)\u001b[0m\n\u001b[1;32m   1174\u001b[0m \u001b[38;5;28;01mdef\u001b[39;00m\u001b[38;5;250m \u001b[39m\u001b[38;5;21mwrap\u001b[39m(\u001b[38;5;28mcls\u001b[39m):\n\u001b[0;32m-> 1175\u001b[0m     \u001b[38;5;28;01mreturn\u001b[39;00m \u001b[43m_process_class\u001b[49m\u001b[43m(\u001b[49m\u001b[38;5;28;43mcls\u001b[39;49m\u001b[43m,\u001b[49m\u001b[43m \u001b[49m\u001b[43minit\u001b[49m\u001b[43m,\u001b[49m\u001b[43m \u001b[49m\u001b[38;5;28;43mrepr\u001b[39;49m\u001b[43m,\u001b[49m\u001b[43m \u001b[49m\u001b[43meq\u001b[49m\u001b[43m,\u001b[49m\u001b[43m \u001b[49m\u001b[43morder\u001b[49m\u001b[43m,\u001b[49m\u001b[43m \u001b[49m\u001b[43munsafe_hash\u001b[49m\u001b[43m,\u001b[49m\n\u001b[1;32m   1176\u001b[0m \u001b[43m                          \u001b[49m\u001b[43mfrozen\u001b[49m\u001b[43m,\u001b[49m\u001b[43m \u001b[49m\u001b[43mmatch_args\u001b[49m\u001b[43m,\u001b[49m\u001b[43m \u001b[49m\u001b[43mkw_only\u001b[49m\u001b[43m,\u001b[49m\u001b[43m \u001b[49m\u001b[43mslots\u001b[49m\u001b[43m)\u001b[49m\n",
      "File \u001b[0;32m/usr/lib/python3.10/dataclasses.py:955\u001b[0m, in \u001b[0;36m_process_class\u001b[0;34m(cls, init, repr, eq, order, unsafe_hash, frozen, match_args, kw_only, slots)\u001b[0m\n\u001b[1;32m    952\u001b[0m         kw_only \u001b[38;5;241m=\u001b[39m \u001b[38;5;28;01mTrue\u001b[39;00m\n\u001b[1;32m    953\u001b[0m     \u001b[38;5;28;01melse\u001b[39;00m:\n\u001b[1;32m    954\u001b[0m         \u001b[38;5;66;03m# Otherwise it's a field of some type.\u001b[39;00m\n\u001b[0;32m--> 955\u001b[0m         cls_fields\u001b[38;5;241m.\u001b[39mappend(\u001b[43m_get_field\u001b[49m\u001b[43m(\u001b[49m\u001b[38;5;28;43mcls\u001b[39;49m\u001b[43m,\u001b[49m\u001b[43m \u001b[49m\u001b[43mname\u001b[49m\u001b[43m,\u001b[49m\u001b[43m \u001b[49m\u001b[38;5;28;43mtype\u001b[39;49m\u001b[43m,\u001b[49m\u001b[43m \u001b[49m\u001b[43mkw_only\u001b[49m\u001b[43m)\u001b[49m)\n\u001b[1;32m    957\u001b[0m \u001b[38;5;28;01mfor\u001b[39;00m f \u001b[38;5;129;01min\u001b[39;00m cls_fields:\n\u001b[1;32m    958\u001b[0m     fields[f\u001b[38;5;241m.\u001b[39mname] \u001b[38;5;241m=\u001b[39m f\n",
      "File \u001b[0;32m/usr/lib/python3.10/dataclasses.py:812\u001b[0m, in \u001b[0;36m_get_field\u001b[0;34m(cls, a_name, a_type, default_kw_only)\u001b[0m\n\u001b[1;32m    810\u001b[0m \u001b[38;5;66;03m# For real fields, disallow mutable defaults for known types.\u001b[39;00m\n\u001b[1;32m    811\u001b[0m \u001b[38;5;28;01mif\u001b[39;00m f\u001b[38;5;241m.\u001b[39m_field_type \u001b[38;5;129;01mis\u001b[39;00m _FIELD \u001b[38;5;129;01mand\u001b[39;00m \u001b[38;5;28misinstance\u001b[39m(f\u001b[38;5;241m.\u001b[39mdefault, (\u001b[38;5;28mlist\u001b[39m, \u001b[38;5;28mdict\u001b[39m, \u001b[38;5;28mset\u001b[39m)):\n\u001b[0;32m--> 812\u001b[0m     \u001b[38;5;28;01mraise\u001b[39;00m \u001b[38;5;167;01mValueError\u001b[39;00m(\u001b[38;5;124mf\u001b[39m\u001b[38;5;124m'\u001b[39m\u001b[38;5;124mmutable default \u001b[39m\u001b[38;5;132;01m{\u001b[39;00m\u001b[38;5;28mtype\u001b[39m(f\u001b[38;5;241m.\u001b[39mdefault)\u001b[38;5;132;01m}\u001b[39;00m\u001b[38;5;124m for field \u001b[39m\u001b[38;5;124m'\u001b[39m\n\u001b[1;32m    813\u001b[0m                      \u001b[38;5;124mf\u001b[39m\u001b[38;5;124m'\u001b[39m\u001b[38;5;132;01m{\u001b[39;00mf\u001b[38;5;241m.\u001b[39mname\u001b[38;5;132;01m}\u001b[39;00m\u001b[38;5;124m is not allowed: use default_factory\u001b[39m\u001b[38;5;124m'\u001b[39m)\n\u001b[1;32m    815\u001b[0m \u001b[38;5;28;01mreturn\u001b[39;00m f\n",
      "\u001b[0;31mValueError\u001b[0m: mutable default <class 'list'> for field guests is not allowed: use default_factory"
     ]
    }
   ],
   "source": [
    "# dataclass field options\n",
    "\n",
    "@dataclasses.dataclass\n",
    "class ClubMember:\n",
    "    name: str\n",
    "    guests: list = []"
   ]
  },
  {
   "cell_type": "code",
   "execution_count": null,
   "id": "e84ac1a0",
   "metadata": {},
   "outputs": [],
   "source": [
    "@dataclasses.dataclass\n",
    "class ClubMember:\n",
    "    name: str\n",
    "    guests: list[str] = dataclasses.field(default_factory=list)\n",
    "    athlete: bool = dataclasses.field(default=False, repr=False)\n"
   ]
  },
  {
   "cell_type": "code",
   "execution_count": null,
   "id": "bf535bd7",
   "metadata": {},
   "outputs": [],
   "source": [
    "# Post-init-Processing\n",
    "\n",
    "@dataclasses.dataclass\n",
    "class HackerClubMember(ClubMember):\n",
    "    all_handles = set()\n",
    "    handle: str = \"\"\n",
    "\n",
    "    def __post_init__(self):\n",
    "        cls = self.__class__\n",
    "        if self.handle == \"\":\n",
    "            self.handle = self.name.split()[0]\n",
    "        \n",
    "        if self.handle in cls.all_handles:\n",
    "            msg = f'handle {self.handle!r} already exists'\n",
    "            raise ValueError(msg)\n",
    "        \n",
    "        cls.all_handles.add(self.handle)\n"
   ]
  },
  {
   "cell_type": "code",
   "execution_count": null,
   "id": "8a4110d8",
   "metadata": {},
   "outputs": [
    {
     "data": {
      "text/plain": [
       "HackerClubMember(name='Coco Furball', guests=[], handle='Cocosuper')"
      ]
     },
     "execution_count": 46,
     "metadata": {},
     "output_type": "execute_result"
    }
   ],
   "source": [
    "coco = HackerClubMember(\"Coco Furball\", handle=\"Cocosuper\")\n",
    "coco"
   ]
  },
  {
   "cell_type": "code",
   "execution_count": null,
   "id": "6c66e164",
   "metadata": {},
   "outputs": [
    {
     "data": {
      "text/plain": [
       "HackerClubMember(name='Mini Queen', guests=[], handle='Mini')"
      ]
     },
     "execution_count": 47,
     "metadata": {},
     "output_type": "execute_result"
    }
   ],
   "source": [
    "mini = HackerClubMember(\"Mini Queen\")\n",
    "mini"
   ]
  },
  {
   "cell_type": "code",
   "execution_count": null,
   "id": "a2884e0b",
   "metadata": {},
   "outputs": [
    {
     "ename": "ValueError",
     "evalue": "handle 'Cocosuper' already exists",
     "output_type": "error",
     "traceback": [
      "\u001b[0;31m---------------------------------------------------------------------------\u001b[0m",
      "\u001b[0;31mValueError\u001b[0m                                Traceback (most recent call last)",
      "Cell \u001b[0;32mIn[48], line 1\u001b[0m\n\u001b[0;32m----> 1\u001b[0m coco2 \u001b[38;5;241m=\u001b[39m \u001b[43mHackerClubMember\u001b[49m\u001b[43m(\u001b[49m\u001b[38;5;124;43m\"\u001b[39;49m\u001b[38;5;124;43mCoco Furball\u001b[39;49m\u001b[38;5;124;43m\"\u001b[39;49m\u001b[43m,\u001b[49m\u001b[43m \u001b[49m\u001b[43mhandle\u001b[49m\u001b[38;5;241;43m=\u001b[39;49m\u001b[38;5;124;43m\"\u001b[39;49m\u001b[38;5;124;43mCocosuper\u001b[39;49m\u001b[38;5;124;43m\"\u001b[39;49m\u001b[43m)\u001b[49m\n",
      "File \u001b[0;32m<string>:7\u001b[0m, in \u001b[0;36m__init__\u001b[0;34m(self, name, guests, athlete, handle)\u001b[0m\n",
      "Cell \u001b[0;32mIn[45], line 15\u001b[0m, in \u001b[0;36mHackerClubMember.__post_init__\u001b[0;34m(self)\u001b[0m\n\u001b[1;32m     13\u001b[0m \u001b[38;5;28;01mif\u001b[39;00m \u001b[38;5;28mself\u001b[39m\u001b[38;5;241m.\u001b[39mhandle \u001b[38;5;129;01min\u001b[39;00m \u001b[38;5;28mcls\u001b[39m\u001b[38;5;241m.\u001b[39mall_handles:\n\u001b[1;32m     14\u001b[0m     msg \u001b[38;5;241m=\u001b[39m \u001b[38;5;124mf\u001b[39m\u001b[38;5;124m'\u001b[39m\u001b[38;5;124mhandle \u001b[39m\u001b[38;5;132;01m{\u001b[39;00m\u001b[38;5;28mself\u001b[39m\u001b[38;5;241m.\u001b[39mhandle\u001b[38;5;132;01m!r}\u001b[39;00m\u001b[38;5;124m already exists\u001b[39m\u001b[38;5;124m'\u001b[39m\n\u001b[0;32m---> 15\u001b[0m     \u001b[38;5;28;01mraise\u001b[39;00m \u001b[38;5;167;01mValueError\u001b[39;00m(msg)\n\u001b[1;32m     17\u001b[0m \u001b[38;5;28mcls\u001b[39m\u001b[38;5;241m.\u001b[39mall_handles\u001b[38;5;241m.\u001b[39madd(\u001b[38;5;28mself\u001b[39m\u001b[38;5;241m.\u001b[39mhandle)\n",
      "\u001b[0;31mValueError\u001b[0m: handle 'Cocosuper' already exists"
     ]
    }
   ],
   "source": [
    "coco2 = HackerClubMember(\"Coco Furball\", handle=\"Cocosuper\")"
   ]
  },
  {
   "cell_type": "code",
   "execution_count": null,
   "id": "58308259",
   "metadata": {},
   "outputs": [
    {
     "data": {
      "text/plain": [
       "\"HackerClubMember(name: str, guests: list[str] = <factory>, athlete: bool = False, handle: str = '')\""
      ]
     },
     "execution_count": 49,
     "metadata": {},
     "output_type": "execute_result"
    }
   ],
   "source": [
    "HackerClubMember.__doc__"
   ]
  },
  {
   "cell_type": "code",
   "execution_count": null,
   "id": "ade8d5ca",
   "metadata": {},
   "outputs": [],
   "source": [
    "# Typed class attribute - anotation\n",
    "@dataclasses.dataclass\n",
    "class HackerClubMember(ClubMember):\n",
    "    all_handles: typing.ClassVar[set[str]] = set()\n",
    "    handle: str = \"\"\n",
    "\n",
    "    def __post_init__(self):\n",
    "        cls = self.__class__\n",
    "        if self.handle == \"\":\n",
    "            self.handle = self.name.split()[0]\n",
    "        \n",
    "        if self.handle in cls.all_handles:\n",
    "            msg = f'handle {self.handle!r} already exists'\n",
    "            raise ValueError(msg)\n",
    "        \n",
    "        cls.all_handles.add(self.handle)\n"
   ]
  },
  {
   "cell_type": "code",
   "execution_count": null,
   "id": "c7401a36",
   "metadata": {},
   "outputs": [
    {
     "data": {
      "text/plain": [
       "\"HackerClubMember(name: str, guests: list[str] = <factory>, athlete: bool = False, handle: str = '')\""
      ]
     },
     "execution_count": 52,
     "metadata": {},
     "output_type": "execute_result"
    }
   ],
   "source": [
    "HackerClubMember.__doc__"
   ]
  },
  {
   "cell_type": "code",
   "execution_count": 46,
   "id": "aa2cbe67",
   "metadata": {},
   "outputs": [
    {
     "name": "stdout",
     "output_type": "stream",
     "text": [
      "Connected to db: <__main__.DatabaseType object at 0x7f898dc9cbe0>\n"
     ]
    }
   ],
   "source": [
    "# initialization of Variable that are not fields\n",
    "\n",
    "class DatabaseType:\n",
    "    pass\n",
    "\n",
    "@dataclasses.dataclass\n",
    "class C:\n",
    "    i: int\n",
    "    j: int = None\n",
    "    database: dataclasses.InitVar[DatabaseType] = None     # InitVar will prevent database as a regual field\n",
    "\n",
    "    # Only InitVar fields are passed as arguments to __post_init__.\n",
    "    def __post_init__(self, database):   \n",
    "        cls = self.__class__\n",
    "        if database:\n",
    "            print(f\"Connected to db: {database}\")\n",
    "\n",
    "c = C(1, database=DatabaseType())\n"
   ]
  },
  {
   "cell_type": "code",
   "execution_count": null,
   "id": "2d5d91c1",
   "metadata": {},
   "outputs": [],
   "source": [
    "# @dataclass example\n",
    "\n",
    "import enum, datetime\n",
    "\n",
    "class ResourceType(enum.Enum):  # <1>\n",
    "    BOOK = enum.auto()\n",
    "    EBOOK = enum.auto()\n",
    "    VIDEO = enum.auto()\n",
    "\n",
    "@dataclasses.dataclass\n",
    "class Resource:\n",
    "    \"\"\"Media resource description.\"\"\"\n",
    "    identifier: str                          \n",
    "    title: str = '<untitled>'                    \n",
    "    creators: list[str] = dataclasses.field(default_factory=list)\n",
    "    date: typing.Optional[datetime.date] = None\n",
    "    type: ResourceType = ResourceType.BOOK\n",
    "    description: str = ''\n",
    "    language: str = ''\n",
    "    subjects: list[str] = dataclasses.field(default_factory=list)"
   ]
  },
  {
   "cell_type": "code",
   "execution_count": 67,
   "id": "ce89b700",
   "metadata": {},
   "outputs": [
    {
     "name": "stdout",
     "output_type": "stream",
     "text": [
      "Resource(identifier='978-0-13-475759-9', title='Refactoring, 2nd Edition', creators=['Martin Fowler', 'Kent Beck'], date=datetime.date(2018, 11, 19), type=<ResourceType.BOOK: 1>, description='Improving the design of existing code', language='EN', subjects=['computer programming', 'OOP'])\n"
     ]
    }
   ],
   "source": [
    "\n",
    "description = 'Improving the design of existing code'\n",
    "book = Resource('978-0-13-475759-9', 'Refactoring, 2nd Edition',\n",
    "                ['Martin Fowler', 'Kent Beck'], datetime.date(2018, 11, 19),\n",
    "                ResourceType.BOOK, description,\n",
    "                'EN', ['computer programming', 'OOP'])\n",
    "print(book)"
   ]
  },
  {
   "cell_type": "code",
   "execution_count": 68,
   "id": "b44a68db",
   "metadata": {},
   "outputs": [],
   "source": [
    "class ResourceDict(typing.TypedDict):\n",
    "    identifier: str\n",
    "    title: str\n",
    "    creators: list[str]\n",
    "    date: typing.Optional[datetime.date]\n",
    "    type: ResourceType\n",
    "    description: str\n",
    "    language: str\n",
    "    subjects: list[str]\n",
    "\n",
    "\n",
    "book_dict: ResourceDict = {\n",
    "        'identifier': '978-0-13-475759-9',\n",
    "        'title': 'Refactoring, 2nd Edition',\n",
    "        'creators': ['Martin Fowler', 'Kent Beck'],\n",
    "        'date': datetime.date(2018, 11, 19),\n",
    "        'type': ResourceType.BOOK,\n",
    "        'description': 'Improving the design of existing code',\n",
    "        'language': 'EN',\n",
    "        'subjects': ['computer programming', 'OOP']}"
   ]
  },
  {
   "cell_type": "code",
   "execution_count": 69,
   "id": "7d4d6114",
   "metadata": {},
   "outputs": [
    {
     "name": "stdout",
     "output_type": "stream",
     "text": [
      "True\n"
     ]
    }
   ],
   "source": [
    "book2 = Resource(**book_dict)\n",
    "print(book == book2)"
   ]
  },
  {
   "cell_type": "code",
   "execution_count": 77,
   "id": "83be7308",
   "metadata": {},
   "outputs": [
    {
     "name": "stdout",
     "output_type": "stream",
     "text": [
      "match_asian_cities\t[City(continent='Asia', name='Tokyo', country='JP'), City(continent='Asia', name='Delhi', country='IN')]\n",
      "match_asian_cities_pos\t[City(continent='Asia', name='Tokyo', country='JP'), City(continent='Asia', name='Delhi', country='IN')]\n",
      "match_asian_countries\t['JP', 'IN']\n",
      "match_asian_countries_pos\t['JP', 'IN']\n",
      "match_india    \t['Delhi']\n",
      "match_brazil   \t['São Paulo']\n"
     ]
    }
   ],
   "source": [
    "# Pattern Matching\n",
    "\n",
    "class City(typing.NamedTuple):\n",
    "    continent: str\n",
    "    name: str\n",
    "    country: str\n",
    "\n",
    "\n",
    "cities = [\n",
    "    City('Asia', 'Tokyo', 'JP'),\n",
    "    City('Asia', 'Delhi', 'IN'),\n",
    "    City('North America', 'Mexico City', 'MX'),\n",
    "    City('North America', 'New York', 'US'),\n",
    "    City('South America', 'São Paulo', 'BR'),\n",
    "]\n",
    "\n",
    "# end::CITY[]\n",
    "\n",
    "# tag::ASIA[]\n",
    "def match_asian_cities():\n",
    "    results = []\n",
    "    for city in cities:\n",
    "        match city:\n",
    "            case City(continent='Asia'):\n",
    "                results.append(city)\n",
    "    return results\n",
    "# end::ASIA[]\n",
    "\n",
    "# tag::ASIA_POSITIONAL[]\n",
    "def match_asian_cities_pos():\n",
    "    results = []\n",
    "    for city in cities:\n",
    "        match city:\n",
    "            case City('Asia'):\n",
    "                results.append(city)\n",
    "    return results\n",
    "# end::ASIA_POSITIONAL[]\n",
    "\n",
    "\n",
    "# tag::ASIA_COUNTRIES[]\n",
    "def match_asian_countries():\n",
    "    results = []\n",
    "    for city in cities:\n",
    "        match city:\n",
    "            case City(continent='Asia', country=cc):\n",
    "                results.append(cc)\n",
    "    return results\n",
    "# end::ASIA_COUNTRIES[]\n",
    "\n",
    "# tag::ASIA_COUNTRIES_POSITIONAL[]\n",
    "def match_asian_countries_pos():\n",
    "    results = []\n",
    "    for city in cities:\n",
    "        match city:\n",
    "            case City('Asia', _, country):\n",
    "                results.append(country)\n",
    "    return results\n",
    "# end::ASIA_COUNTRIES_POSITIONAL[]\n",
    "\n",
    "\n",
    "def match_india():\n",
    "    results = []\n",
    "    for city in cities:\n",
    "        match city:\n",
    "            case City(_, name, 'IN'):\n",
    "                results.append(name)\n",
    "    return results\n",
    "\n",
    "\n",
    "def match_brazil():\n",
    "    results = []\n",
    "    for city in cities:\n",
    "        match city:\n",
    "            case City(country='BR', name=name):\n",
    "                results.append(name)\n",
    "    return results\n",
    "\n",
    "\n",
    "\n",
    "def main():\n",
    "    tests = ((n, f) for n, f in globals().items() if n.startswith('match_'))\n",
    "\n",
    "    for name, func in tests:\n",
    "        print(f'{name:15}\\t{func()}')\n",
    "\n",
    "\n",
    "main()\n",
    "\n"
   ]
  },
  {
   "cell_type": "code",
   "execution_count": null,
   "id": "7d128876",
   "metadata": {},
   "outputs": [
    {
     "data": {
      "text/plain": [
       "('continent', 'name', 'country')"
      ]
     },
     "execution_count": 79,
     "metadata": {},
     "output_type": "execute_result"
    }
   ],
   "source": [
    "# positional arguments\n",
    "City.__match_args__"
   ]
  },
  {
   "cell_type": "code",
   "execution_count": null,
   "id": "c050bc1d",
   "metadata": {},
   "outputs": [],
   "source": []
  }
 ],
 "metadata": {
  "kernelspec": {
   "display_name": "Python 3",
   "language": "python",
   "name": "python3"
  },
  "language_info": {
   "codemirror_mode": {
    "name": "ipython",
    "version": 3
   },
   "file_extension": ".py",
   "mimetype": "text/x-python",
   "name": "python",
   "nbconvert_exporter": "python",
   "pygments_lexer": "ipython3",
   "version": "3.10.12"
  }
 },
 "nbformat": 4,
 "nbformat_minor": 5
}
