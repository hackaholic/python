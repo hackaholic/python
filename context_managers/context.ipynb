{
 "cells": [
  {
   "attachments": {
    "{5B8A2E43-A939-49FF-A24E-1464BEB23DA6}.png": {
     "image/png": "[encoded data removed]"
    }
   },
   "cell_type": "markdown",
   "id": "dde23298",
   "metadata": {},
   "source": [
    "### 🌟 Basic Idea\n",
    "<pre>\n",
    "A context manager handles the setup and cleanup for a block of code — commonly used with the with statement.\n",
    "\n",
    "For example:\n",
    "\n",
    "with open(\"file.txt\", \"r\") as f:\n",
    "    data = f.read()\n",
    "\n",
    "Here:\n",
    "    open() is the context manager.\n",
    "    It opens the file and assigns it to f.\n",
    "    When the with block ends, the file is automatically closed — even if an exception occurs.\n",
    "</pre>\n",
    "\n",
    "### ⚠️ Why Use Context Managers?\n",
    "<pre>\n",
    "    Prevent resource leaks\n",
    "    Write cleaner code\n",
    "    Handle exceptions safely\n",
    "</pre>\n",
    "\n",
    "![{5B8A2E43-A939-49FF-A24E-1464BEB23DA6}.png](attachment:{5B8A2E43-A939-49FF-A24E-1464BEB23DA6}.png)"
   ]
  },
  {
   "cell_type": "markdown",
   "id": "f935a7fb",
   "metadata": {},
   "source": [
    "### 🛠️ Let's Build One Ourselves\n",
    "<pre>\n",
    "There are two main ways to create a context manager:\n",
    "1. Using a Class (With __enter__ and __exit__)\n",
    "2. Using a Generator + contextlib.contextmanager\n",
    "</pre>"
   ]
  },
  {
   "cell_type": "markdown",
   "id": "0273fa2c",
   "metadata": {},
   "source": [
    "### 1. Using a Class (With __enter__ and __exit__)"
   ]
  },
  {
   "cell_type": "code",
   "execution_count": 2,
   "id": "889f2335",
   "metadata": {},
   "outputs": [
    {
     "name": "stdout",
     "output_type": "stream",
     "text": [
      "Init is called...\n",
      "Entering Context...\n",
      "resource: Custom Resources\n",
      "Exiting context...\n",
      "Exception occured: ValueError - Not found \n",
      " <traceback object at 0x000002172E006540>\n"
     ]
    }
   ],
   "source": [
    "class Mycontext:\n",
    "    def __init__(self):\n",
    "        print(\"Init is called...\")\n",
    "\n",
    "    def __enter__(self):\n",
    "        print(\"Entering Context...\")\n",
    "        return \"Custom Resources\"\n",
    "    \n",
    "    def __exit__(self, exc_type, exc_val, exc_tb):\n",
    "        print(\"Exiting context...\")\n",
    "        if exc_type:\n",
    "            print(f\"Exception occured: {exc_type.__name__} - {exc_val} \\n {exc_tb}\")\n",
    "        \n",
    "        return True\n",
    "    \n",
    "with Mycontext() as mc:\n",
    "    print(f\"resource: {mc}\")\n",
    "    raise ValueError(\"Not found\")\n"
   ]
  },
  {
   "cell_type": "code",
   "execution_count": 5,
   "id": "ccff7532",
   "metadata": {},
   "outputs": [
    {
     "name": "stdout",
     "output_type": "stream",
     "text": [
      "Enterted contex...\n",
      "Exiting context\n",
      "True\n"
     ]
    }
   ],
   "source": [
    "class FileManager:\n",
    "    def __init__(self, filename, mode):\n",
    "        self.filename = filename\n",
    "        self.mode = mode\n",
    "        self.f = None\n",
    "    \n",
    "    def __enter__(self):\n",
    "        print(\"Enterted contex...\")        \n",
    "        self.f = open(self.filename, self.mode)\n",
    "        return self.f\n",
    "    \n",
    "    def __exit__(self, exc_type, exc_val, exc_tb):\n",
    "        print('Exiting context')\n",
    "        if exc_type:\n",
    "            print(f\"Exception occured: {exc_type.__name__} - {exc_val} \\n {exc_tb}\")\n",
    "        return self.f.close()\n",
    "    \n",
    "    # loading a file \n",
    "with FileManager('test.txt', 'w') as f:\n",
    "    f.write('Test')\n",
    " \n",
    "print(f.closed)"
   ]
  },
  {
   "cell_type": "code",
   "execution_count": 7,
   "id": "7644a7e5",
   "metadata": {},
   "outputs": [
    {
     "name": "stdout",
     "output_type": "stream",
     "text": [
      "Enterted contex...\n"
     ]
    },
    {
     "ename": "FileNotFoundError",
     "evalue": "[Errno 2] No such file or directory: 'test1.txt'",
     "output_type": "error",
     "traceback": [
      "\u001b[1;31m---------------------------------------------------------------------------\u001b[0m",
      "\u001b[1;31mFileNotFoundError\u001b[0m                         Traceback (most recent call last)",
      "Cell \u001b[1;32mIn[7], line 1\u001b[0m\n\u001b[1;32m----> 1\u001b[0m \u001b[38;5;28;01mwith\u001b[39;00m FileManager(\u001b[38;5;124m'\u001b[39m\u001b[38;5;124mtest1.txt\u001b[39m\u001b[38;5;124m'\u001b[39m, \u001b[38;5;124m'\u001b[39m\u001b[38;5;124mr\u001b[39m\u001b[38;5;124m'\u001b[39m) \u001b[38;5;28;01mas\u001b[39;00m f:\n\u001b[0;32m      2\u001b[0m     \u001b[38;5;28mprint\u001b[39m(f\u001b[38;5;241m.\u001b[39mread())\n\u001b[0;32m      4\u001b[0m \u001b[38;5;28mprint\u001b[39m(f\u001b[38;5;241m.\u001b[39mclosed)\n",
      "Cell \u001b[1;32mIn[5], line 9\u001b[0m, in \u001b[0;36mFileManager.__enter__\u001b[1;34m(self)\u001b[0m\n\u001b[0;32m      7\u001b[0m \u001b[38;5;28;01mdef\u001b[39;00m \u001b[38;5;21m__enter__\u001b[39m(\u001b[38;5;28mself\u001b[39m):\n\u001b[0;32m      8\u001b[0m     \u001b[38;5;28mprint\u001b[39m(\u001b[38;5;124m\"\u001b[39m\u001b[38;5;124mEnterted contex...\u001b[39m\u001b[38;5;124m\"\u001b[39m)        \n\u001b[1;32m----> 9\u001b[0m     \u001b[38;5;28mself\u001b[39m\u001b[38;5;241m.\u001b[39mf \u001b[38;5;241m=\u001b[39m \u001b[38;5;28mopen\u001b[39m(\u001b[38;5;28mself\u001b[39m\u001b[38;5;241m.\u001b[39mfilename, \u001b[38;5;28mself\u001b[39m\u001b[38;5;241m.\u001b[39mmode)\n\u001b[0;32m     10\u001b[0m     \u001b[38;5;28;01mreturn\u001b[39;00m \u001b[38;5;28mself\u001b[39m\u001b[38;5;241m.\u001b[39mf\n",
      "File \u001b[1;32mc:\\Users\\kumars\\AppData\\Local\\anaconda3\\Lib\\site-packages\\IPython\\core\\interactiveshell.py:324\u001b[0m, in \u001b[0;36m_modified_open\u001b[1;34m(file, *args, **kwargs)\u001b[0m\n\u001b[0;32m    317\u001b[0m \u001b[38;5;28;01mif\u001b[39;00m file \u001b[38;5;129;01min\u001b[39;00m {\u001b[38;5;241m0\u001b[39m, \u001b[38;5;241m1\u001b[39m, \u001b[38;5;241m2\u001b[39m}:\n\u001b[0;32m    318\u001b[0m     \u001b[38;5;28;01mraise\u001b[39;00m \u001b[38;5;167;01mValueError\u001b[39;00m(\n\u001b[0;32m    319\u001b[0m         \u001b[38;5;124mf\u001b[39m\u001b[38;5;124m\"\u001b[39m\u001b[38;5;124mIPython won\u001b[39m\u001b[38;5;124m'\u001b[39m\u001b[38;5;124mt let you open fd=\u001b[39m\u001b[38;5;132;01m{\u001b[39;00mfile\u001b[38;5;132;01m}\u001b[39;00m\u001b[38;5;124m by default \u001b[39m\u001b[38;5;124m\"\u001b[39m\n\u001b[0;32m    320\u001b[0m         \u001b[38;5;124m\"\u001b[39m\u001b[38;5;124mas it is likely to crash IPython. If you know what you are doing, \u001b[39m\u001b[38;5;124m\"\u001b[39m\n\u001b[0;32m    321\u001b[0m         \u001b[38;5;124m\"\u001b[39m\u001b[38;5;124myou can use builtins\u001b[39m\u001b[38;5;124m'\u001b[39m\u001b[38;5;124m open.\u001b[39m\u001b[38;5;124m\"\u001b[39m\n\u001b[0;32m    322\u001b[0m     )\n\u001b[1;32m--> 324\u001b[0m \u001b[38;5;28;01mreturn\u001b[39;00m io_open(file, \u001b[38;5;241m*\u001b[39margs, \u001b[38;5;241m*\u001b[39m\u001b[38;5;241m*\u001b[39mkwargs)\n",
      "\u001b[1;31mFileNotFoundError\u001b[0m: [Errno 2] No such file or directory: 'test1.txt'"
     ]
    }
   ],
   "source": [
    "with FileManager('test1.txt', 'r') as f:\n",
    "    print(f.read())\n",
    " \n",
    "print(f.closed)"
   ]
  },
  {
   "cell_type": "markdown",
   "id": "7151c72f",
   "metadata": {},
   "source": [
    "<pre>\n",
    "custom context manager FileManager raises a FileNotFoundError before entering the context \n",
    "self.f = open(self.filename, self.mode)\n",
    "is inside the __enter__() method.\n",
    "\n",
    "If the file doesn't exist (and you're trying to open it in read mode 'r')\n",
    "open() fails immediately, and Python never even reaches the __enter__() fully. \n",
    "That means __exit__() is never called, because the context wasn't successfully entered.\n",
    "</pre>"
   ]
  },
  {
   "cell_type": "markdown",
   "id": "957bb443",
   "metadata": {},
   "source": [
    "### Locking with Threads"
   ]
  },
  {
   "cell_type": "code",
   "execution_count": 15,
   "id": "ac522e7b",
   "metadata": {},
   "outputs": [
    {
     "name": "stdout",
     "output_type": "stream",
     "text": [
      "12\n"
     ]
    }
   ],
   "source": [
    "import threading\n",
    "\n",
    "lock = threading.Lock()\n",
    "val = 10\n",
    "def counter():\n",
    "    global val \n",
    "    with lock:   # lock is acquired here\n",
    "        val += 1  # critical section\n",
    "    # lock is released automatically here\n",
    "\n",
    "# Clean and no need to call lock.acquire() or lock.release() manually.\n",
    "\n",
    "t1 = threading.Thread(target=counter, name=\"mythread1\")\n",
    "t2 = threading.Thread(target=counter, name=\"mythread2\")\n",
    "\n",
    "t1.start()\n",
    "t2.start()\n",
    "t1.join()\n",
    "t2.join()\n",
    "\n",
    "print(val)"
   ]
  },
  {
   "cell_type": "markdown",
   "id": "140689d2",
   "metadata": {},
   "source": [
    "### 2. Using a Generator + contextlib.contextmanager"
   ]
  },
  {
   "cell_type": "code",
   "execution_count": null,
   "id": "ad2e423b",
   "metadata": {},
   "outputs": [
    {
     "name": "stdout",
     "output_type": "stream",
     "text": [
      "Entring context ...\n",
      "Resources\n",
      "Exiting context\n"
     ]
    }
   ],
   "source": [
    "from contextlib import contextmanager # decorator — For creating context managers using generator functions.\n",
    "\n",
    "@contextmanager\n",
    "def my_context():\n",
    "    print(\"Entring context ...\")\n",
    "    yield \"Resources\"\n",
    "    print(\"Exiting context\")\n",
    "\n",
    "with my_context() as mc:\n",
    "    print(mc)"
   ]
  },
  {
   "cell_type": "code",
   "execution_count": null,
   "id": "da025c23",
   "metadata": {},
   "outputs": [],
   "source": []
  }
 ],
 "metadata": {
  "kernelspec": {
   "display_name": "base",
   "language": "python",
   "name": "python3"
  },
  "language_info": {
   "codemirror_mode": {
    "name": "ipython",
    "version": 3
   },
   "file_extension": ".py",
   "mimetype": "text/x-python",
   "name": "python",
   "nbconvert_exporter": "python",
   "pygments_lexer": "ipython3",
   "version": "3.11.7"
  }
 },
 "nbformat": 4,
 "nbformat_minor": 5
}
