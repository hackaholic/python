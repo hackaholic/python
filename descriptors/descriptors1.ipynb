{
 "cells": [
  {
   "cell_type": "markdown",
   "id": "bc420bf1",
   "metadata": {},
   "source": [
    "### Descriptors let objects customize attribute lookup, storage, and deletion.\n",
    "<pre>\n",
    "    Any object which defines the methods __get__(), __set__(), or __delete__().\n",
    "    When a class attribute is a descriptor, its special binding behavior is triggered upon attribute lookup.\n",
    "</pre>\n",
    "\n",
    "### Note: \n",
    "To use the descriptor, it must be stored as a class variable in another class "
   ]
  },
  {
   "cell_type": "markdown",
   "id": "eb274400",
   "metadata": {},
   "source": [
    "### Simple example: A descriptor that returns a constant¶"
   ]
  },
  {
   "cell_type": "code",
   "execution_count": 5,
   "id": "04119229",
   "metadata": {},
   "outputs": [],
   "source": [
    "class Ten:\n",
    "    def __get__(self, obj, objtype=None):\n",
    "        return 10"
   ]
  },
  {
   "cell_type": "code",
   "execution_count": 6,
   "id": "1292db68",
   "metadata": {},
   "outputs": [],
   "source": [
    "class A:\n",
    "    x = 5\n",
    "    y = Ten()    # descriptor instance"
   ]
  },
  {
   "cell_type": "code",
   "execution_count": 7,
   "id": "92c8031c",
   "metadata": {},
   "outputs": [
    {
     "name": "stdout",
     "output_type": "stream",
     "text": [
      "5\n",
      "10\n"
     ]
    }
   ],
   "source": [
    "a = A()\n",
    "print(a.x)\n",
    "print(a.y)"
   ]
  },
  {
   "cell_type": "markdown",
   "id": "7086ee9e",
   "metadata": {},
   "source": [
    "### Dynamic lookups"
   ]
  },
  {
   "cell_type": "code",
   "execution_count": 14,
   "id": "8df81ad6",
   "metadata": {},
   "outputs": [],
   "source": [
    "import os\n",
    "\n",
    "class DirectorySize:\n",
    "    def __get__(self, obj, objtype=None):\n",
    "        return len(os.listdir(obj.dirname))\n",
    "\n",
    "class Directory:\n",
    "    size = DirectorySize()\n",
    "\n",
    "    def __init__(self, name):\n",
    "        self.dirname = name"
   ]
  },
  {
   "cell_type": "code",
   "execution_count": 17,
   "id": "54349686",
   "metadata": {},
   "outputs": [
    {
     "data": {
      "text/plain": [
       "9"
      ]
     },
     "execution_count": 17,
     "metadata": {},
     "output_type": "execute_result"
    }
   ],
   "source": [
    "s = Directory(\"../\")\n",
    "s.size"
   ]
  },
  {
   "cell_type": "code",
   "execution_count": 4,
   "id": "9afe95d5",
   "metadata": {},
   "outputs": [],
   "source": [
    "import logging\n",
    "\n",
    "logging.basicConfig(level=logging.INFO)\n",
    "\n",
    "class  LoggedAgeAccess:\n",
    "    def __get__(self, obj, objtype=None):\n",
    "        value = obj._age\n",
    "        logging.info(f\"Accessing age giving {value}\")\n",
    "        return value\n",
    "\n",
    "    def __set__(self, obj, value):\n",
    "        obj._age = value\n",
    "        logging.info(f\"updating age to {value}\")\n",
    "\n",
    "\n",
    "class Person:\n",
    "    age = LoggedAgeAccess()\n",
    "\n",
    "    def __init__(self, name, age):\n",
    "        self.name = name\n",
    "        self.age = age         # calls __set__\n",
    "    \n",
    "    def birthday(self):\n",
    "        self.age += 1    # calls __get__ and __set__"
   ]
  },
  {
   "cell_type": "code",
   "execution_count": 5,
   "id": "66e00859",
   "metadata": {},
   "outputs": [
    {
     "name": "stderr",
     "output_type": "stream",
     "text": [
      "INFO:root:updating age to 7\n"
     ]
    }
   ],
   "source": [
    "p = Person(\"Coco\", 7)"
   ]
  },
  {
   "cell_type": "code",
   "execution_count": 6,
   "id": "4235338f",
   "metadata": {},
   "outputs": [
    {
     "name": "stderr",
     "output_type": "stream",
     "text": [
      "INFO:root:Accessing age giving 7\n",
      "INFO:root:updating age to 8\n"
     ]
    }
   ],
   "source": [
    "p.birthday()"
   ]
  },
  {
   "cell_type": "markdown",
   "id": "695bf37b",
   "metadata": {},
   "source": [
    "### \\_\\_set_name\\_\\_"
   ]
  },
  {
   "cell_type": "code",
   "execution_count": null,
   "id": "026ee4c3",
   "metadata": {},
   "outputs": [
    {
     "name": "stdout",
     "output_type": "stream",
     "text": [
      "__set_name__ will be called  give attribute name\n",
      "__set_name__ will be called  give attribute name\n"
     ]
    }
   ],
   "source": [
    "class AttributeValidator:\n",
    "    def __set_name__(self, obj, name):\n",
    "        print(\"__set_name__ will be called  give attribute name\")\n",
    "        self.name = name\n",
    "\n",
    "    def __get__(self, obj, objType):\n",
    "        if obj is not None:\n",
    "            return obj.__dict__.get(self.name)\n",
    "\n",
    "    def __set__(self, obj, value):\n",
    "        obj.__dict__[self.name] = value\n",
    "\n",
    "class Person:\n",
    "    name = AttributeValidator()\n",
    "    email = AttributeValidator()"
   ]
  },
  {
   "cell_type": "code",
   "execution_count": 3,
   "id": "3d9a6e52",
   "metadata": {},
   "outputs": [],
   "source": [
    "p = Person()\n",
    "p.name = \"coco\""
   ]
  },
  {
   "cell_type": "code",
   "execution_count": null,
   "id": "487bce63",
   "metadata": {},
   "outputs": [
    {
     "ename": "",
     "evalue": "",
     "output_type": "error",
     "traceback": [
      "\u001b[1;31mThe Kernel crashed while executing code in the current cell or a previous cell. \n",
      "\u001b[1;31mPlease review the code in the cell(s) to identify a possible cause of the failure. \n",
      "\u001b[1;31mClick <a href='https://aka.ms/vscodeJupyterKernelCrash'>here</a> for more info. \n",
      "\u001b[1;31mView Jupyter <a href='command:jupyter.viewOutput'>log</a> for further details."
     ]
    }
   ],
   "source": [
    "p.name"
   ]
  },
  {
   "cell_type": "code",
   "execution_count": null,
   "id": "dfeb3955",
   "metadata": {},
   "outputs": [],
   "source": []
  }
 ],
 "metadata": {
  "kernelspec": {
   "display_name": "base",
   "language": "python",
   "name": "python3"
  },
  "language_info": {
   "codemirror_mode": {
    "name": "ipython",
    "version": 3
   },
   "file_extension": ".py",
   "mimetype": "text/x-python",
   "name": "python",
   "nbconvert_exporter": "python",
   "pygments_lexer": "ipython3",
   "version": "3.11.7"
  }
 },
 "nbformat": 4,
 "nbformat_minor": 5
}
