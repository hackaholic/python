{
 "cells": [
  {
   "cell_type": "code",
   "execution_count": null,
   "id": "8b59d875",
   "metadata": {},
   "outputs": [],
   "source": [
    "class MyClass:\n",
    "    def __getattribute__(self, name):\n",
    "        print(\"hello there\")\n",
    "        return super().__getattribute__(name)\n",
    "    \n",
    "    def __getattr__(self, name):\n",
    "        print(\"interesting\")\n",
    "        super().__getattr__(name)"
   ]
  },
  {
   "cell_type": "code",
   "execution_count": 2,
   "id": "b2c2ea02",
   "metadata": {},
   "outputs": [],
   "source": [
    "k = MyClass()"
   ]
  },
  {
   "cell_type": "code",
   "execution_count": 3,
   "id": "9280c219",
   "metadata": {},
   "outputs": [
    {
     "name": "stdout",
     "output_type": "stream",
     "text": [
      "hello there\n"
     ]
    }
   ],
   "source": [
    "k.l"
   ]
  },
  {
   "cell_type": "code",
   "execution_count": null,
   "id": "bed0df67",
   "metadata": {},
   "outputs": [],
   "source": []
  }
 ],
 "metadata": {
  "kernelspec": {
   "display_name": "Python 3",
   "language": "python",
   "name": "python3"
  },
  "language_info": {
   "codemirror_mode": {
    "name": "ipython",
    "version": 3
   },
   "file_extension": ".py",
   "mimetype": "text/x-python",
   "name": "python",
   "nbconvert_exporter": "python",
   "pygments_lexer": "ipython3",
   "version": "3.10.12"
  }
 },
 "nbformat": 4,
 "nbformat_minor": 5
}
