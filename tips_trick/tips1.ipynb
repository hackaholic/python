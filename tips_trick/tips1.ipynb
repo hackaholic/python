{
 "cells": [
  {
   "cell_type": "markdown",
   "id": "471e5de2",
   "metadata": {},
   "source": [
    "<pre>\n",
    "🔒 GIL (Global Interpreter Lock) in Python:\n",
    "\n",
    "The Global Interpreter Lock (GIL) is a mutex that prevents multiple native threads from executing Python bytecodes at once.\n",
    "This lock exists in CPython (the default Python implementation) to simplify memory management.\n",
    "particularly around reference counting, which isn't thread-safe by default.\n",
    "\n",
    "Workarounds for GIL limitations:\n",
    "\n",
    "1. Use multiprocessing module:\n",
    "    Bypasses the GIL by using separate processes instead of threads.\n",
    "    Each process has its own Python interpreter and memory space.\n",
    "    Best for CPU-bound tasks.\n",
    "\n",
    "2. Use I/O-bound multi-threading with threading module:\n",
    "    Still effective if you're waiting on disk, network, or other I/O."
   ]
  },
  {
   "cell_type": "markdown",
   "id": "68952f9f",
   "metadata": {},
   "source": [
    "<pre>\n",
    "Question:\n",
    "Explain the difference between shallow copy and deep copy in Python. Provide examples to illustrate when you'd use one over the other.\n",
    "\n",
    "Soln:\n",
    "A shallow copy creates a new object, but it doesn't recursively copy the objects contained inside the original object. \n",
    "Instead, it copies the references to those inner objects.\n",
    "\n",
    "A deep copy, on the other hand, recursively copies every object, including all nested objects. This means that the new object and all its nested objects are completely independent of the original object \n",
    "</pre>\n",
    "\n"
   ]
  },
  {
   "cell_type": "markdown",
   "id": "877e7efd",
   "metadata": {},
   "source": [
    "Question:\n",
    "<pre>\n",
    "\n",
    "You have the following function:\n",
    "\n",
    "def func(a=[]):\n",
    "    a.append(1)\n",
    "    return a\n",
    "\n",
    "What will be the result of calling func() three times? Why does this happen, and how would you fix it?\n",
    "<pre>"
   ]
  },
  {
   "cell_type": "code",
   "execution_count": null,
   "id": "620ac8c1",
   "metadata": {},
   "outputs": [
    {
     "name": "stdout",
     "output_type": "stream",
     "text": [
      "[1]\n",
      "[1, 1]\n",
      "[1, 1, 1]\n"
     ]
    }
   ],
   "source": [
    "def func(a=[]):   # default arg is mutable!\n",
    "    a.append(1)\n",
    "    return a\n",
    "\n",
    "print(func())\n",
    "print(func())\n",
    "print(func())  \n"
   ]
  },
  {
   "cell_type": "markdown",
   "id": "5b3ca23f",
   "metadata": {},
   "source": [
    "<pre>\n",
    "In Python, default arguments are evaluated only once at function definition time, not each time the function is called.\n",
    "So the list a=[] is created only once, and that same list is reused across all calls to func() when no argument is passed.\n",
    "Hence, all calls share the same list object in memory, and append(1) keeps adding to it.\n",
    "fix: def func(a=None):\n",
    "</pre>"
   ]
  },
  {
   "cell_type": "markdown",
   "id": "14ac414b",
   "metadata": {},
   "source": [
    "### Question:\n",
    "<pre>\n",
    "Consider the following code: What will be printed? Explain why.\n",
    "\n",
    "x = 10\n",
    "\n",
    "def outer():\n",
    "    x = 20\n",
    "    def inner():\n",
    "        nonlocal x\n",
    "        x = 30\n",
    "    inner()\n",
    "    print(x)\n",
    "\n",
    "outer()\n",
    "print(x)\n",
    "</pre>\n"
   ]
  },
  {
   "cell_type": "code",
   "execution_count": null,
   "id": "3bcd3fc7",
   "metadata": {},
   "outputs": [
    {
     "name": "stdout",
     "output_type": "stream",
     "text": [
      "30\n",
      "10\n"
     ]
    }
   ],
   "source": [
    "x = 10\n",
    "def outer():\n",
    "    x = 20   # 🔁 Enclosing (nonlocal for inner, but local to outer)\n",
    "    def inner():\n",
    "        nonlocal x  # ⬅️ This x refers to outer()'s x (20)\n",
    "        x = 30\n",
    "    inner()\n",
    "    print(x)\n",
    "\n",
    "outer()\n",
    "print(x)\n"
   ]
  },
  {
   "cell_type": "markdown",
   "id": "2eebda7c",
   "metadata": {},
   "source": [
    "<pre>\n",
    "Rule of nonlocal:\n",
    "    It only works inside a nested function.\n",
    "    It modifies variables defined in the enclosing function scope, not global scope.\n",
    "    If it can’t find such a variable in the enclosing (but non-global) scope, it’ll raise an error.\n",
    "</pre>"
   ]
  },
  {
   "cell_type": "markdown",
   "id": "7edced0f",
   "metadata": {},
   "source": [
    "<pre>\n",
    "Question:\n",
    "a = [1, 2, 3]\n",
    "b = a\n",
    "a += [4]\n",
    "\n",
    "print(a)  # ?\n",
    "print(b)  # ?\n",
    "\n",
    "And how would it change if we did a = a + [4] instead?\n",
    "</pre>"
   ]
  },
  {
   "cell_type": "code",
   "execution_count": null,
   "id": "dd7b4b4c",
   "metadata": {},
   "outputs": [
    {
     "name": "stdout",
     "output_type": "stream",
     "text": [
      "[1, 2, 3, 4]\n",
      "[1, 2, 3, 4]\n"
     ]
    }
   ],
   "source": [
    "a = [1, 2, 3]\n",
    "b = a          # means both a and b point to the same list in memory.\n",
    "a += [4]       # in-place modification using list.__iadd__(), so the list object itself is modified.\n",
    "\n",
    "print(a)  # ?\n",
    "print(b)  # ?\n"
   ]
  },
  {
   "cell_type": "code",
   "execution_count": 9,
   "id": "a5b41822",
   "metadata": {},
   "outputs": [
    {
     "name": "stdout",
     "output_type": "stream",
     "text": [
      "[1, 2, 3, 4]\n",
      "[1, 2, 3]\n"
     ]
    }
   ],
   "source": [
    "a = [1, 2, 3]\n",
    "b = a            # means both a and b point to the same list in memory.\n",
    "a = a +[4]       # rebinds a to a new object\n",
    "print(a)  # ?\n",
    "print(b)  # ?"
   ]
  },
  {
   "cell_type": "markdown",
   "id": "22404d63",
   "metadata": {},
   "source": [
    "\n",
    "### Question:\n",
    "<pre>\n",
    "Explain what the following does — and predict the output:\n",
    "def make_counter():\n",
    "    count = 0\n",
    "    def counter():\n",
    "        nonlocal count\n",
    "        count += 1\n",
    "        return count\n",
    "    return counter\n",
    "\n",
    "c1 = make_counter()\n",
    "c2 = make_counter()\n",
    "\n",
    "print(c1(), c1(), c2(), c1(), c2())\n",
    "</pre>\n"
   ]
  },
  {
   "cell_type": "code",
   "execution_count": 10,
   "id": "0035daea",
   "metadata": {},
   "outputs": [
    {
     "name": "stdout",
     "output_type": "stream",
     "text": [
      "1 2 1 3 2\n"
     ]
    }
   ],
   "source": [
    "def make_counter():\n",
    "    count = 0\n",
    "    def counter():\n",
    "        nonlocal count\n",
    "        count += 1\n",
    "        return count\n",
    "    return counter\n",
    "\n",
    "c1 = make_counter()\n",
    "c2 = make_counter()\n",
    "\n",
    "print(c1(), c1(), c2(), c1(), c2())"
   ]
  },
  {
   "cell_type": "markdown",
   "id": "7f80f524",
   "metadata": {},
   "source": [
    "<pre>\n",
    "Explanation:\n",
    "    make_counter() returns a new counter() function each time — and each has its own enclosed count.\n",
    "    nonlocal count allows counter() to modify that enclosed count from the outer function.\n",
    "\n",
    "</pre>"
   ]
  },
  {
   "cell_type": "markdown",
   "id": "f82e22d9",
   "metadata": {},
   "source": [
    "### Note:\n",
    "Inner function that wraps the original function → call it wrapper\n",
    "\n",
    "Function that receives the original function → call it decorator\n",
    "\n",
    "Function that receives arguments and returns a decorator → call it decorator factory"
   ]
  },
  {
   "cell_type": "markdown",
   "id": "ff95d358",
   "metadata": {},
   "source": [
    "### Question:\n",
    "<pre>\n",
    "What will this print and why? And bonus: how would you preserve function metadata?\n",
    "\n",
    "def log_calls(func):\n",
    "    def wrapper(*args, **kwargs):\n",
    "        print(f\"Calling {func.__name__}\")\n",
    "        return func(*args, **kwargs)\n",
    "    return wrapper\n",
    "\n",
    "@log_calls\n",
    "def greet(name):\n",
    "    \"\"\"Greets a person.\"\"\"\n",
    "    print(f\"Hello, {name}!\")\n",
    "\n",
    "print(greet.__name__)\n",
    "print(greet.__doc__)\n",
    "greet(\"Alice\")\n",
    "\n",
    "</pre>"
   ]
  },
  {
   "cell_type": "code",
   "execution_count": 11,
   "id": "b170228f",
   "metadata": {},
   "outputs": [
    {
     "name": "stdout",
     "output_type": "stream",
     "text": [
      "wrapper\n",
      "None\n",
      "Calling greet\n",
      "Hello, Alice!\n"
     ]
    }
   ],
   "source": [
    "def log_calls(func):\n",
    "    def wrapper(*args, **kwargs):\n",
    "        print(f\"Calling {func.__name__}\")\n",
    "        return func(*args, **kwargs)\n",
    "    return wrapper\n",
    "\n",
    "@log_calls\n",
    "def greet(name):\n",
    "    \"\"\"Greets a person.\"\"\"\n",
    "    print(f\"Hello, {name}!\")\n",
    "\n",
    "print(greet.__name__)\n",
    "print(greet.__doc__)\n",
    "greet(\"Alice\")"
   ]
  },
  {
   "cell_type": "markdown",
   "id": "be339be9",
   "metadata": {},
   "source": [
    "<pre>\n",
    "Why this happens:\n",
    "\n",
    "When you use a decorator like this:\n",
    "@log_calls\n",
    "def greet(name):\n",
    "    ...\n",
    "\n",
    "It’s equivalent to:\n",
    "\n",
    "greet = log_calls(greet)\n",
    "\n",
    "So now greet is the wrapper function returned by log_calls. That wrapper has:\n",
    "\n",
    "    no docstring\n",
    "\n",
    "    __name__ == 'wrapper'\n",
    "\n",
    "Fix: Use the functools.wraps decorator from the functools module\n",
    "@wraps updates the wrapper function to carry over the original function’s metadata\n",
    " — like __name__, __doc__, and even __annotations__ — which is crucial for introspection and tooling.\"\n",
    "</pre>"
   ]
  },
  {
   "cell_type": "code",
   "execution_count": 12,
   "id": "2dd7288c",
   "metadata": {},
   "outputs": [],
   "source": [
    "from functools import wraps\n",
    "\n",
    "def log_calls(func):\n",
    "    @wraps(func)  # THIS IS THE FIX\n",
    "    def wrapper(*args, **kwargs):\n",
    "        print(f\"Calling {func.__name__}\")\n",
    "        return func(*args, **kwargs)\n",
    "    return wrapper\n",
    "\n"
   ]
  },
  {
   "cell_type": "markdown",
   "id": "0cab5f54",
   "metadata": {},
   "source": []
  },
  {
   "cell_type": "code",
   "execution_count": null,
   "id": "4d6fa26d",
   "metadata": {},
   "outputs": [],
   "source": []
  }
 ],
 "metadata": {
  "kernelspec": {
   "display_name": "base",
   "language": "python",
   "name": "python3"
  },
  "language_info": {
   "codemirror_mode": {
    "name": "ipython",
    "version": 3
   },
   "file_extension": ".py",
   "mimetype": "text/x-python",
   "name": "python",
   "nbconvert_exporter": "python",
   "pygments_lexer": "ipython3",
   "version": "3.11.7"
  }
 },
 "nbformat": 4,
 "nbformat_minor": 5
}
